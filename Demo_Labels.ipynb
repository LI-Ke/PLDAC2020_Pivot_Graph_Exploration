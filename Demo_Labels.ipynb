{
 "cells": [
  {
   "cell_type": "markdown",
   "metadata": {},
   "source": [
    "# Demonstrate labels"
   ]
  },
  {
   "cell_type": "markdown",
   "metadata": {},
   "source": [
    "#### Call preparation"
   ]
  },
  {
   "cell_type": "code",
   "execution_count": 1,
   "metadata": {},
   "outputs": [],
   "source": [
    "# open the notebook Demo_Preparation.ipynb \n",
    "# and select \"use kernet from prefered Session\""
   ]
  },
  {
   "cell_type": "markdown",
   "metadata": {},
   "source": [
    "### Datasets"
   ]
  },
  {
   "cell_type": "code",
   "execution_count": 25,
   "metadata": {},
   "outputs": [
    {
     "name": "stdout",
     "output_type": "stream",
     "text": [
      "root\n",
      " |-- Ti: long (nullable = true)\n",
      " |-- dying: array (nullable = true)\n",
      " |    |-- element: string (containsNull = true)\n",
      " |-- emerging: array (nullable = true)\n",
      " |    |-- element: string (containsNull = true)\n",
      " |-- genetic: array (nullable = true)\n",
      " |    |-- element: string (containsNull = true)\n",
      " |-- special: array (nullable = true)\n",
      " |    |-- element: string (containsNull = true)\n",
      "\n"
     ]
    }
   ],
   "source": [
    "labels.printSchema()"
   ]
  },
  {
   "cell_type": "code",
   "execution_count": 26,
   "metadata": {},
   "outputs": [
    {
     "name": "stdout",
     "output_type": "stream",
     "text": [
      "root\n",
      " |-- idTopic: long (nullable = true)\n",
      " |-- localTopicId: long (nullable = true)\n",
      " |-- period: string (nullable = true)\n",
      " |-- term: long (nullable = true)\n",
      " |-- weight: double (nullable = true)\n",
      "\n"
     ]
    }
   ],
   "source": [
    "topicNodes.printSchema()"
   ]
  },
  {
   "cell_type": "code",
   "execution_count": 27,
   "metadata": {},
   "outputs": [
    {
     "name": "stdout",
     "output_type": "stream",
     "text": [
      "root\n",
      " |-- idTopic: long (nullable = true)\n",
      " |-- topic: array (nullable = true)\n",
      " |    |-- element: string (containsNull = true)\n",
      "\n"
     ]
    }
   ],
   "source": [
    "topicDictionary_unique_10.printSchema()"
   ]
  },
  {
   "cell_type": "markdown",
   "metadata": {},
   "source": [
    "#### Topic period"
   ]
  },
  {
   "cell_type": "code",
   "execution_count": 13,
   "metadata": {},
   "outputs": [
    {
     "name": "stdout",
     "output_type": "stream",
     "text": [
      "+-------+---------+\n",
      "|idTopic|   period|\n",
      "+-------+---------+\n",
      "|      6|1996-1998|\n",
      "|    159|2010-2012|\n",
      "+-------+---------+\n",
      "only showing top 2 rows\n",
      "\n"
     ]
    }
   ],
   "source": [
    "topicNodes.createOrReplaceTempView(\"TopicNodesTable\")\n",
    "\n",
    "topicPeriod = spark.sql(\"\"\"\n",
    "select distinct idTopic, period\n",
    "from TopicNodesTable\n",
    "\"\"\")\n",
    "topicPeriod.show(2)"
   ]
  },
  {
   "cell_type": "markdown",
   "metadata": {},
   "source": [
    "#### Datasets as SQL views"
   ]
  },
  {
   "cell_type": "code",
   "execution_count": 28,
   "metadata": {},
   "outputs": [],
   "source": [
    "labels.createOrReplaceTempView(\"labels\")\n",
    "topicNodes.createOrReplaceTempView(\"topicNodes\")\n",
    "topicDictionary_unique_10.createOrReplaceTempView(\"topicDictionary_unique_10\")\n",
    "topicPeriod.createOrReplaceTempView(\"topicPeriod\")"
   ]
  },
  {
   "cell_type": "markdown",
   "metadata": {},
   "source": [
    "#### Term frequency in labels"
   ]
  },
  {
   "cell_type": "code",
   "execution_count": 30,
   "metadata": {},
   "outputs": [
    {
     "name": "stdout",
     "output_type": "stream",
     "text": [
      "+------------+----+----+\n",
      "|        term|freq|rank|\n",
      "+------------+----+----+\n",
      "|        time|  26|   1|\n",
      "|     compute|  25|   2|\n",
      "|  techniques|  24|   3|\n",
      "|optimization|  23|   4|\n",
      "|        data|  22|   5|\n",
      "|      design|  22|   6|\n",
      "|       users|  22|   7|\n",
      "|        case|  21|   8|\n",
      "|    solution|  20|   9|\n",
      "|    analysis|  19|  10|\n",
      "+------------+----+----+\n",
      "only showing top 10 rows\n",
      "\n"
     ]
    }
   ],
   "source": [
    "TOP = 50\n",
    "\n",
    "freqLabels = spark.sql(f\"\"\"\n",
    "with T1 as (\n",
    "  select explode(T.topic) as term\n",
    "  from TopicDictionary_unique_10 T\n",
    "  )\n",
    "  \n",
    "select term, count(1) as freq, rank() over (order by count(*) desc, term) as rank\n",
    "from T1\n",
    "group by term\n",
    "order by rank\n",
    "limit {TOP}\n",
    "\"\"\")\n",
    "freqLabels.persist().count()\n",
    "# freqLabels.show(TOP)\n",
    "freqLabels.show(10)"
   ]
  },
  {
   "cell_type": "markdown",
   "metadata": {},
   "source": [
    "#### Label frequency for each period"
   ]
  },
  {
   "cell_type": "code",
   "execution_count": 31,
   "metadata": {},
   "outputs": [
    {
     "name": "stdout",
     "output_type": "stream",
     "text": [
      "+---------+----+--------------+----+\n",
      "|   period|rank|          term|freq|\n",
      "+---------+----+--------------+----+\n",
      "|1996-1998|   1|          time|   2|\n",
      "|1996-1998|   2|       compute|   1|\n",
      "|1996-1998|   3|    techniques|   1|\n",
      "|1996-1998|   4|  optimization|   1|\n",
      "|1996-1998|   5|          data|   1|\n",
      "|1996-1998|   6|        design|   1|\n",
      "|1996-1998|   7|         users|   2|\n",
      "|1996-1998|   8|          case|   1|\n",
      "|1996-1998|   9|      solution|   1|\n",
      "|1996-1998|  10|      analysis|   2|\n",
      "|1996-1998|  11|       methods|   2|\n",
      "|1996-1998|  12|       network|   1|\n",
      "|1996-1998|  13|         terms|   2|\n",
      "|1996-1998|  14|         solve|   4|\n",
      "|1996-1998|  15|    efficiency|   2|\n",
      "|1996-1998|  16|implementation|   3|\n",
      "|1996-1998|  17|       process|   2|\n",
      "|1996-1998|  18|         flows|   1|\n",
      "|1996-1998|  19|   experiments|   1|\n",
      "|1996-1998|  20|       objects|   1|\n",
      "+---------+----+--------------+----+\n",
      "only showing top 20 rows\n",
      "\n"
     ]
    }
   ],
   "source": [
    "freqLabels.createOrReplaceTempView(\"freqLabels\")\n",
    "\n",
    "labelPerPeriod = spark.sql(\"\"\"\n",
    "with T1 as (\n",
    "  select T.idTopic, explode(T.topic) as term\n",
    "  from TopicDictionary_unique_10 T\n",
    "  )\n",
    "\n",
    "SELECT P.period, L.rank, L.term, count(1) as freq\n",
    "FROM FreqLabels L, T1, topicPeriod P\n",
    "WHERE T1.term = L.term \n",
    "AND T1.idTopic = P.idTopic\n",
    "GROUP BY P.period, L.term, L.rank\n",
    "order by P.period, L.rank\n",
    "\"\"\")\n",
    "\n",
    "labelPerPeriod.persist().count()\n",
    "\n",
    "labelPerPeriod.show()"
   ]
  },
  {
   "cell_type": "markdown",
   "metadata": {},
   "source": [
    "#### Frequent terms for a given period"
   ]
  },
  {
   "cell_type": "code",
   "execution_count": 32,
   "metadata": {},
   "outputs": [
    {
     "data": {
      "image/png": "[encoded data removed]",
      "text/plain": [
       "<Figure size 1440x504 with 1 Axes>"
      ]
     },
     "metadata": {
      "needs_background": "light"
     },
     "output_type": "display_data"
    }
   ],
   "source": [
    "labelPerPeriod.createOrReplaceTempView(\"labelPerPeriod\")\n",
    "\n",
    "STARTING_YEAR = 2010\n",
    "\n",
    "TOPPLOT = 20\n",
    "\n",
    "period = str(STARTING_YEAR) + '-' + str(STARTING_YEAR+2)\n",
    "\n",
    "labelOnePeriod = spark.sql(f\"\"\"\n",
    "select term, freq\n",
    "from labelPerPeriod\n",
    "where period = '{period}'\n",
    "order by rank\n",
    "\"\"\")\n",
    "# labelOnePeriod.show()\n",
    "\n",
    "p = labelOnePeriod.toPandas()\n",
    "# p.head(2)\n",
    "\n",
    "sns.set_context(\"paper\", rc={\"axes.labelsize\":25})   \n",
    "plt.figure(figsize=(20,7))\n",
    "\n",
    "# set a fixed range for the y axis\n",
    "plt.ylim(0,6)\n",
    "\n",
    "ax = sns.barplot(x=\"term\", y=\"freq\",  data=p[:TOPPLOT])\n",
    "\n",
    "# size of values on axes\n",
    "ax.tick_params(labelsize=20)\n",
    "\n",
    "ax.set_xticklabels(ax.get_xticklabels(), rotation=45, horizontalalignment='right');\n"
   ]
  },
  {
   "cell_type": "markdown",
   "metadata": {},
   "source": [
    "#### Frequent terms for 2 periods"
   ]
  },
  {
   "cell_type": "code",
   "execution_count": 29,
   "metadata": {},
   "outputs": [
    {
     "data": {
      "text/html": [
       "<div>\n",
       "<style scoped>\n",
       "    .dataframe tbody tr th:only-of-type {\n",
       "        vertical-align: middle;\n",
       "    }\n",
       "\n",
       "    .dataframe tbody tr th {\n",
       "        vertical-align: top;\n",
       "    }\n",
       "\n",
       "    .dataframe thead th {\n",
       "        text-align: right;\n",
       "    }\n",
       "</style>\n",
       "<table border=\"1\" class=\"dataframe\">\n",
       "  <thead>\n",
       "    <tr style=\"text-align: right;\">\n",
       "      <th></th>\n",
       "      <th>period</th>\n",
       "      <th>rank</th>\n",
       "      <th>term</th>\n",
       "      <th>freq</th>\n",
       "    </tr>\n",
       "  </thead>\n",
       "  <tbody>\n",
       "    <tr>\n",
       "      <td>0</td>\n",
       "      <td>1996-1998</td>\n",
       "      <td>1</td>\n",
       "      <td>time</td>\n",
       "      <td>2</td>\n",
       "    </tr>\n",
       "  </tbody>\n",
       "</table>\n",
       "</div>"
      ],
      "text/plain": [
       "      period  rank  term  freq\n",
       "0  1996-1998     1  time     2"
      ]
     },
     "execution_count": 29,
     "metadata": {},
     "output_type": "execute_result"
    }
   ],
   "source": [
    "L = labelPerPeriod.toPandas()\n",
    "L.head(1)"
   ]
  },
  {
   "cell_type": "code",
   "execution_count": 30,
   "metadata": {},
   "outputs": [
    {
     "data": {
      "text/plain": [
       "<Figure size 1440x504 with 0 Axes>"
      ]
     },
     "metadata": {},
     "output_type": "display_data"
    },
    {
     "data": {
      "text/plain": [
       "<Figure size 1440x504 with 0 Axes>"
      ]
     },
     "metadata": {},
     "output_type": "display_data"
    },
    {
     "data": {
      "image/png": "[encoded data removed]",
      "text/plain": [
       "<Figure size 432x288 with 2 Axes>"
      ]
     },
     "metadata": {
      "needs_background": "light"
     },
     "output_type": "display_data"
    }
   ],
   "source": [
    "L1 = L[L.period=='1998-2000']\n",
    "L2 = L[L.period=='2000-2002']\n",
    "\n",
    "all = [L1, L2]\n",
    "\n",
    "# TOPPLOT = 20\n",
    "\n",
    "\n",
    "sns.set_context(\"paper\", rc={\"axes.labelsize\":20})   \n",
    "plt.figure(figsize=(20,7))\n",
    "\n",
    "# set a fixed range for the y axis\n",
    "plt.ylim(0,6)\n",
    "\n",
    "# size of values on axes\n",
    "ax.tick_params(labelsize=20)\n",
    "\n",
    "plt.clf()\n",
    "plt.figure(figsize=(20,7))\n",
    "fig, axs = plt.subplots(2,1)\n",
    "for i in range(0, 2):\n",
    "    axs[i].set_xticklabels(ax.get_xticklabels(), rotation=45, horizontalalignment='right');\n",
    "    sns.barplot(x=\"term\", y=\"freq\",  data=all[i][:10], ax=axs[i])\n"
   ]
  },
  {
   "cell_type": "markdown",
   "metadata": {},
   "source": [
    "## Interaction"
   ]
  },
  {
   "cell_type": "code",
   "execution_count": 33,
   "metadata": {},
   "outputs": [],
   "source": [
    "# interaction\n",
    "from __future__ import print_function\n",
    "from ipywidgets import interact, interactive, fixed, interact_manual\n",
    "import ipywidgets as widgets"
   ]
  },
  {
   "cell_type": "code",
   "execution_count": 34,
   "metadata": {},
   "outputs": [
    {
     "data": {
      "application/vnd.jupyter.widget-view+json": {
       "model_id": "dc6fa7430ff24e819e867b966eface8b",
       "version_major": 2,
       "version_minor": 0
      },
      "text/plain": [
       "Text(value='abc')"
      ]
     },
     "metadata": {},
     "output_type": "display_data"
    }
   ],
   "source": [
    "widgets.Text(\"abc\")"
   ]
  },
  {
   "cell_type": "markdown",
   "metadata": {},
   "source": [
    "##### Verify GUI for interaction"
   ]
  },
  {
   "cell_type": "code",
   "execution_count": 35,
   "metadata": {
    "scrolled": true
   },
   "outputs": [],
   "source": [
    "def f(x):\n",
    "    return x*10"
   ]
  },
  {
   "cell_type": "code",
   "execution_count": 36,
   "metadata": {
    "scrolled": true
   },
   "outputs": [
    {
     "data": {
      "application/vnd.jupyter.widget-view+json": {
       "model_id": "5c79bdcd19314b949afbf2d5d48ccc21",
       "version_major": 2,
       "version_minor": 0
      },
      "text/plain": [
       "interactive(children=(IntSlider(value=10, description='x', max=30, min=-10), Output()), _dom_classes=('widget-…"
      ]
     },
     "metadata": {},
     "output_type": "display_data"
    }
   ],
   "source": [
    "# from __future__ import print_function\n",
    "# interact(f,x=10);\n",
    "interact(f, x=widgets.IntSlider(min=-10, max=30, step=1, value=10));"
   ]
  },
  {
   "cell_type": "code",
   "execution_count": 37,
   "metadata": {},
   "outputs": [
    {
     "data": {
      "application/vnd.jupyter.widget-view+json": {
       "model_id": "a37a0c09ec794e6fac4c388125fd08a8",
       "version_major": 2,
       "version_minor": 0
      },
      "text/plain": [
       "Output(layout=Layout(border='1px solid black'))"
      ]
     },
     "metadata": {},
     "output_type": "display_data"
    }
   ],
   "source": [
    "out = widgets.Output(layout={'border': '1px solid black'})\n",
    "with out:\n",
    "    display(widgets.IntSlider())\n",
    "\n",
    "out"
   ]
  },
  {
   "cell_type": "code",
   "execution_count": 38,
   "metadata": {},
   "outputs": [
    {
     "name": "stdout",
     "output_type": "stream",
     "text": [
      "defined\n"
     ]
    },
    {
     "data": {
      "application/vnd.jupyter.widget-view+json": {
       "model_id": "ce75093fc7454dcfa08f9d014b400390",
       "version_major": 2,
       "version_minor": 0
      },
      "text/plain": [
       "interactive(children=(IntSlider(value=1998, continuous_update=False, description='Period:', max=2014, min=1998…"
      ]
     },
     "metadata": {},
     "output_type": "display_data"
    }
   ],
   "source": [
    "def plotLabelPerPeriod(startYear, topPlot):\n",
    "    \n",
    "    labelPerPeriod.createOrReplaceTempView(\"labelPerPeriod\")\n",
    "\n",
    "    period = str(startYear) + '-' + str(startYear+2)\n",
    "\n",
    "    labelOnePeriod = spark.sql(f\"\"\"\n",
    "    select term, freq\n",
    "    from labelPerPeriod\n",
    "    where period = '{period}'\n",
    "    order by rank\n",
    "    \"\"\")\n",
    "\n",
    "    p = labelOnePeriod.toPandas()\n",
    "    \n",
    "    sns.set_context(\"paper\", rc={\"axes.labelsize\":20})   \n",
    "    plt.figure(figsize=(20,7))\n",
    "    plt.ylim(0,6)\n",
    "    ax = sns.barplot(x=\"term\", y=\"freq\",  data=p[:topPlot])\n",
    "    \n",
    "    # taille des valeurs sur les axes\n",
    "    ax.tick_params(labelsize=20)\n",
    "    ax.set_xticklabels(ax.get_xticklabels(), rotation=45, horizontalalignment='right')\n",
    "\n",
    "    \n",
    "def plotLabelPerPeriodDEBUG(startYear, topPlot):\n",
    "    print(startYear)\n",
    "    print(topPlot)\n",
    "\n",
    "\n",
    "print(\"defined\")\n",
    "    \n",
    "START_YEAR = 1998\n",
    "TOPPLOT = 30\n",
    "\n",
    "# plotLabelPerPeriod(START_YEAR, TOPPLOT)\n",
    "\n",
    "startYearWidget= widgets.IntSlider(\n",
    "    value=1998,\n",
    "    min=1998,\n",
    "    max=2014,\n",
    "    step=2,\n",
    "    description='Period:',\n",
    "    disabled=False,\n",
    "    continuous_update=False,\n",
    "    orientation='horizontal',\n",
    "    readout=True,\n",
    "    readout_format='d'\n",
    ")\n",
    "\n",
    "topPlotWidget= widgets.IntSlider(\n",
    "    value=10,\n",
    "    min=10,\n",
    "    max=50,\n",
    "    step=5,\n",
    "    description='#terms',\n",
    "    disabled=False,\n",
    "    continuous_update=False,\n",
    "    orientation='horizontal',\n",
    "    readout=True,\n",
    "    readout_format='d'\n",
    ")\n",
    "\n",
    "\n",
    "# interact(plotLabelPerPeriodDEBUG, startYear=startYearWidget, topPlot=topPlotWidget);\n",
    "interact(plotLabelPerPeriod, startYear=startYearWidget, topPlot=topPlotWidget);\n"
   ]
  },
  {
   "cell_type": "code",
   "execution_count": 37,
   "metadata": {},
   "outputs": [
    {
     "name": "stdout",
     "output_type": "stream",
     "text": [
      "+---------+\n",
      "|   period|\n",
      "+---------+\n",
      "|1996-1998|\n",
      "|1998-2000|\n",
      "|2000-2002|\n",
      "|2002-2004|\n",
      "|2004-2006|\n",
      "|2006-2008|\n",
      "|2008-2010|\n",
      "|2010-2012|\n",
      "|2012-2014|\n",
      "|2014-2015|\n",
      "+---------+\n",
      "\n"
     ]
    }
   ],
   "source": [
    "period = spark.sql(\"\"\"\n",
    "select distinct period\n",
    "from topicPeriod\n",
    "order by period\n",
    "\"\"\")\n",
    "period.show()\n"
   ]
  }
 ],
 "metadata": {
  "kernelspec": {
   "display_name": "Python 3",
   "language": "python",
   "name": "python3"
  },
  "language_info": {
   "codemirror_mode": {
    "name": "ipython",
    "version": 3
   },
   "file_extension": ".py",
   "mimetype": "text/x-python",
   "name": "python",
   "nbconvert_exporter": "python",
   "pygments_lexer": "ipython3",
   "version": "3.7.4"
  }
 },
 "nbformat": 4,
 "nbformat_minor": 4
}
