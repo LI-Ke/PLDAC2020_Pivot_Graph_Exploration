{
 "cells": [
  {
   "cell_type": "markdown",
   "metadata": {},
   "source": [
    "# Demo: preparation"
   ]
  },
  {
   "cell_type": "markdown",
   "metadata": {},
   "source": [
    "## Import"
   ]
  },
  {
   "cell_type": "markdown",
   "metadata": {},
   "source": [
    "#### Import for spark"
   ]
  },
  {
   "cell_type": "code",
   "execution_count": 1,
   "metadata": {},
   "outputs": [],
   "source": [
    "import findspark\n",
    "findspark.init()\n",
    "from pyspark.sql import *\n",
    "from pyspark import SparkConf\n",
    "from pyspark.sql.functions import *\n",
    "from pyspark.sql.types import *\n",
    "import time"
   ]
  },
  {
   "cell_type": "markdown",
   "metadata": {},
   "source": [
    "#### Import for visualization"
   ]
  },
  {
   "cell_type": "code",
   "execution_count": 2,
   "metadata": {},
   "outputs": [],
   "source": [
    "import pandas as pd\n",
    "import numpy as np\n",
    "\n",
    "import matplotlib.pyplot as plt\n",
    "# plt.style.use('ggplot')\n",
    "import seaborn as sns\n",
    "\n",
    "from graphviz import *\n",
    "\n",
    "from IPython.display import display, HTML"
   ]
  },
  {
   "cell_type": "markdown",
   "metadata": {},
   "source": [
    "#### Import needed for interaction"
   ]
  },
  {
   "cell_type": "code",
   "execution_count": 5,
   "metadata": {},
   "outputs": [],
   "source": [
    "# interaction\n",
    "# from __future__ import print_function\n",
    "# from ipywidgets import interact, interactive, fixed, interact_manual\n",
    "# import ipywidgets as widgets"
   ]
  },
  {
   "cell_type": "markdown",
   "metadata": {},
   "source": [
    "#### Start spark engine"
   ]
  },
  {
   "cell_type": "code",
   "execution_count": 3,
   "metadata": {
    "scrolled": true
   },
   "outputs": [
    {
     "name": "stdout",
     "output_type": "stream",
     "text": [
      "Spark application id is: local-1581433000490\n"
     ]
    }
   ],
   "source": [
    "#spark.stop()\n",
    "\n",
    "local = \"local[*]\"\n",
    "appName = \"Essai graph spark\"\n",
    "memory=\"8G\"\n",
    "\n",
    "configLocale = SparkConf().setAppName(appName).setMaster(local).\\\n",
    "set(\"spark.executor.memory\", memory).\\\n",
    "set(\"spark.driver.memory\", memory).\\\n",
    "set(\"spark.sql.catalogImplementation\",\"in-memory\")\n",
    "spark = SparkSession.builder.config(conf = configLocale).getOrCreate()\n",
    "sc = spark.sparkContext\n",
    "sc.setLogLevel(\"ERROR\")\n",
    "\n",
    "print(\"Spark application id is:\", sc.applicationId)"
   ]
  },
  {
   "cell_type": "markdown",
   "metadata": {},
   "source": [
    "## Datasets"
   ]
  },
  {
   "cell_type": "code",
   "execution_count": 4,
   "metadata": {
    "scrolled": true
   },
   "outputs": [
    {
     "name": "stdout",
     "output_type": "stream",
     "text": [
      "DATA-DIR:data/wiley/\n"
     ]
    }
   ],
   "source": [
    "DATA_ROOT = \"data\"\n",
    "DATA_DIR = DATA_ROOT + \"/wiley/\"\n",
    "#DATA_DIR = DATA_ROOT + \"/glyphosate/\"\n",
    "#DATA_DIR = DATA_ROOT + \"/istex/\"\n",
    "\n",
    "print('DATA-DIR:' + DATA_DIR)"
   ]
  },
  {
   "cell_type": "markdown",
   "metadata": {},
   "source": [
    "#### Similarity links"
   ]
  },
  {
   "cell_type": "code",
   "execution_count": 5,
   "metadata": {
    "scrolled": true
   },
   "outputs": [
    {
     "name": "stdout",
     "output_type": "stream",
     "text": [
      "+--------+--------+-------------------+\n",
      "|idTopic1|idTopic2|similarity         |\n",
      "+--------+--------+-------------------+\n",
      "|110     |129     |0.2637034579858007 |\n",
      "|39      |128     |0.0117574337128808 |\n",
      "|81      |122     |0.09592078308785146|\n",
      "|10      |38      |0.03784213838350541|\n",
      "|161     |192     |0.18799719549152513|\n",
      "+--------+--------+-------------------+\n",
      "only showing top 5 rows\n",
      "\n"
     ]
    }
   ],
   "source": [
    "similarityLinks = spark.read.json(DATA_DIR + 'similarityLinks')\n",
    "similarityLinks.show(5, False)"
   ]
  },
  {
   "cell_type": "markdown",
   "metadata": {},
   "source": [
    "#### Topic nodes"
   ]
  },
  {
   "cell_type": "code",
   "execution_count": 6,
   "metadata": {},
   "outputs": [
    {
     "name": "stdout",
     "output_type": "stream",
     "text": [
      "+-------+------------+---------+------+--------------------+\n",
      "|idTopic|localTopicId|period   |term  |weight              |\n",
      "+-------+------------+---------+------+--------------------+\n",
      "|0      |0           |1996-1998|284153|0.05503559027472268 |\n",
      "|0      |0           |1996-1998|229917|0.0315334897631547  |\n",
      "|0      |0           |1996-1998|301364|0.02290491999482694 |\n",
      "|0      |0           |1996-1998|248801|0.02087863877952271 |\n",
      "|0      |0           |1996-1998|150899|0.014750267101390652|\n",
      "|0      |0           |1996-1998|176743|0.01299986771705945 |\n",
      "|0      |0           |1996-1998|119130|0.011313059961463829|\n",
      "|0      |0           |1996-1998|49267 |0.011148353785404137|\n",
      "|0      |0           |1996-1998|124486|0.010226119079083652|\n",
      "|0      |0           |1996-1998|107504|0.009170965588392133|\n",
      "|0      |0           |1996-1998|60683 |0.00906412617131097 |\n",
      "|0      |0           |1996-1998|267109|0.008718388398282782|\n",
      "|0      |0           |1996-1998|181222|0.006056181743544263|\n",
      "|0      |0           |1996-1998|158165|0.005917873859480736|\n",
      "|0      |0           |1996-1998|50654 |0.005867439428591478|\n",
      "|0      |0           |1996-1998|94394 |0.005803863463893244|\n",
      "|0      |0           |1996-1998|141906|0.005781722197283707|\n",
      "|0      |0           |1996-1998|250501|0.005440533271887052|\n",
      "|0      |0           |1996-1998|300052|0.005430312075359265|\n",
      "|0      |0           |1996-1998|74235 |0.005393347024692765|\n",
      "+-------+------------+---------+------+--------------------+\n",
      "only showing top 20 rows\n",
      "\n"
     ]
    }
   ],
   "source": [
    "topicNodes = spark.read.json(DATA_DIR + 'topicNodes')\n",
    "# topicNodes.show(1, False)\n",
    "topicNodes.orderBy(\"idTopic\", desc(\"weight\")).show(20, False)"
   ]
  },
  {
   "cell_type": "code",
   "execution_count": 7,
   "metadata": {},
   "outputs": [
    {
     "name": "stdout",
     "output_type": "stream",
     "text": [
      "+-------+------------+---------+------+--------------------+\n",
      "|idTopic|localTopicId|period   |term  |weight              |\n",
      "+-------+------------+---------+------+--------------------+\n",
      "|110    |10          |2006-2008|150733|0.021343152963741938|\n",
      "|110    |10          |2006-2008|82283 |0.02032438978321691 |\n",
      "|110    |10          |2006-2008|98297 |0.02008320493272858 |\n",
      "|110    |10          |2006-2008|248801|0.018483870163718896|\n",
      "|110    |10          |2006-2008|234634|0.018380649583723516|\n",
      "+-------+------------+---------+------+--------------------+\n",
      "only showing top 5 rows\n",
      "\n"
     ]
    }
   ],
   "source": [
    "topicNodes.where(\"idTopic = 110\").show(5, False)"
   ]
  },
  {
   "cell_type": "markdown",
   "metadata": {},
   "source": [
    "#### Term dictionary (terms to display in the global graph)"
   ]
  },
  {
   "cell_type": "code",
   "execution_count": 8,
   "metadata": {},
   "outputs": [
    {
     "name": "stdout",
     "output_type": "stream",
     "text": [
      "+-----+---------------------+\n",
      "|id   |term                 |\n",
      "+-----+---------------------+\n",
      "|156  |101002 cae 101002 cae|\n",
      "|5745 |ABC concept          |\n",
      "|6806 |Abstract study       |\n",
      "|7809 |Anycast services     |\n",
      "|10821|CR networks          |\n",
      "+-----+---------------------+\n",
      "only showing top 5 rows\n",
      "\n"
     ]
    }
   ],
   "source": [
    "vocabularies = spark.read.json(DATA_DIR + 'wiley_CS_voc_199620153220')\n",
    "vocabularies.show(5, False)"
   ]
  },
  {
   "cell_type": "code",
   "execution_count": 9,
   "metadata": {},
   "outputs": [
    {
     "name": "stdout",
     "output_type": "stream",
     "text": [
      "+------+----------+\n",
      "|    id|      term|\n",
      "+------+----------+\n",
      "|284153|techniques|\n",
      "+------+----------+\n",
      "\n"
     ]
    }
   ],
   "source": [
    "vocabularies.where(\"id = 284153\").show()"
   ]
  },
  {
   "cell_type": "markdown",
   "metadata": {},
   "source": [
    "#### topicDictionary_unique_10"
   ]
  },
  {
   "cell_type": "code",
   "execution_count": 10,
   "metadata": {},
   "outputs": [
    {
     "name": "stdout",
     "output_type": "stream",
     "text": [
      "+-------+---------------------------------------------------------------------------------------------------+\n",
      "|idTopic|topic                                                                                              |\n",
      "+-------+---------------------------------------------------------------------------------------------------+\n",
      "|34     |[solve, solution, problems, compute, case, approximation, analysis, literature, step, terms]       |\n",
      "|52     |[case, interaction, capable, calculate, terms, validate, experiments, predict, methodology, motion]|\n",
      "+-------+---------------------------------------------------------------------------------------------------+\n",
      "only showing top 2 rows\n",
      "\n"
     ]
    }
   ],
   "source": [
    "topicDictionary_unique_10 = spark.read.json(DATA_DIR + 'topicDictionary_unique_10')\n",
    "topicDictionary_unique_10.show(2, False)\n",
    "# topicDictionary_unique_10.groupBy().max(\"idTopic\").show()"
   ]
  },
  {
   "cell_type": "code",
   "execution_count": 11,
   "metadata": {},
   "outputs": [
    {
     "name": "stdout",
     "output_type": "stream",
     "text": [
      "+-------+--------------------------------------------------------------------------------------+\n",
      "|idTopic|topic                                                                                 |\n",
      "+-------+--------------------------------------------------------------------------------------+\n",
      "|110    |[impact, complexity, deployment, run, quality, tool, attacks, due, internet, response]|\n",
      "+-------+--------------------------------------------------------------------------------------+\n",
      "\n"
     ]
    }
   ],
   "source": [
    "topicDictionary_unique_10.where(\"idTopic = 110\").show(1, False)"
   ]
  },
  {
   "cell_type": "markdown",
   "metadata": {},
   "source": [
    "#### evolutionPath"
   ]
  },
  {
   "cell_type": "code",
   "execution_count": 12,
   "metadata": {},
   "outputs": [],
   "source": [
    "beta=0.5\n",
    "\n",
    "nbTopicPerPeriod = 20\n",
    "\n",
    "pivotDir = str(beta)+\"_\" + str(nbTopicPerPeriod) + \"_0.0_10/\"\n",
    "\n",
    "future = spark.read.json(DATA_DIR + '/evolutionPath/' + pivotDir + \"future\")\n",
    "past = spark.read.json(DATA_DIR + '/evolutionPath/' + pivotDir + \"past\")\n",
    "labels = spark.read.json(DATA_DIR + '/evolutionPath/' + pivotDir + \"labels\")\n",
    "\n",
    "# future.show(1, False)\n",
    "# past.show(1, False)\n",
    "# labels.show(1, False)"
   ]
  },
  {
   "cell_type": "code",
   "execution_count": 13,
   "metadata": {},
   "outputs": [
    {
     "name": "stdout",
     "output_type": "stream",
     "text": [
      "root\n",
      " |-- Alpha: double (nullable = true)\n",
      " |-- Beta: double (nullable = true)\n",
      " |-- Pi: long (nullable = true)\n",
      " |-- Pj: long (nullable = true)\n",
      " |-- Pk: long (nullable = true)\n",
      " |-- Ti: long (nullable = true)\n",
      " |-- Tj: long (nullable = true)\n",
      " |-- Tk: long (nullable = true)\n",
      " |-- TopicI: array (nullable = true)\n",
      " |    |-- element: string (containsNull = true)\n",
      " |-- TopicJ: array (nullable = true)\n",
      " |    |-- element: string (containsNull = true)\n",
      " |-- TopicK: array (nullable = true)\n",
      " |    |-- element: string (containsNull = true)\n",
      " |-- localRank: long (nullable = true)\n",
      "\n"
     ]
    }
   ],
   "source": [
    "future.printSchema()"
   ]
  },
  {
   "cell_type": "code",
   "execution_count": 14,
   "metadata": {},
   "outputs": [
    {
     "name": "stdout",
     "output_type": "stream",
     "text": [
      "done\n"
     ]
    }
   ],
   "source": [
    "#labels.printSchema()\n",
    "labels.createOrReplaceTempView(\"labels\")\n",
    "print(\"done\")"
   ]
  },
  {
   "cell_type": "markdown",
   "metadata": {},
   "source": [
    "#### Metrics"
   ]
  },
  {
   "cell_type": "code",
   "execution_count": 16,
   "metadata": {},
   "outputs": [],
   "source": [
    "stats_future = spark.read.json(DATA_DIR + 'statistics_future')"
   ]
  },
  {
   "cell_type": "code",
   "execution_count": 17,
   "metadata": {},
   "outputs": [
    {
     "name": "stdout",
     "output_type": "stream",
     "text": [
      "root\n",
      " |-- Beta: double (nullable = true)\n",
      " |-- ConvergenceDegree: double (nullable = true)\n",
      " |-- Endyear: long (nullable = true)\n",
      " |-- Liveliness: long (nullable = true)\n",
      " |-- PivotEvolutionDegree: double (nullable = true)\n",
      " |-- RelativeEvolutionDegree: double (nullable = true)\n",
      " |-- SplitDegree: double (nullable = true)\n",
      " |-- Startyear: long (nullable = true)\n",
      " |-- TopicID: long (nullable = true)\n",
      " |-- decaying: array (nullable = true)\n",
      " |    |-- element: string (containsNull = true)\n",
      " |-- emerging: array (nullable = true)\n",
      " |    |-- element: string (containsNull = true)\n",
      " |-- specific: array (nullable = true)\n",
      " |    |-- element: string (containsNull = true)\n",
      " |-- stable: array (nullable = true)\n",
      " |    |-- element: string (containsNull = true)\n",
      "\n"
     ]
    }
   ],
   "source": [
    "stats_future.printSchema()"
   ]
  },
  {
   "cell_type": "code",
   "execution_count": 18,
   "metadata": {},
   "outputs": [
    {
     "name": "stdout",
     "output_type": "stream",
     "text": [
      "+----+-----------------+-------+----------+--------------------+-----------------------+-----------+---------+-------+--------+-----------------------------------------------------------------------------------------------+-------------+-----------------------------------------------------------------------------------+\n",
      "|Beta|ConvergenceDegree|Endyear|Liveliness|PivotEvolutionDegree|RelativeEvolutionDegree|SplitDegree|Startyear|TopicID|decaying|emerging                                                                                       |specific     |stable                                                                             |\n",
      "+----+-----------------+-------+----------+--------------------+-----------------------+-----------+---------+-------+--------+-----------------------------------------------------------------------------------------------+-------------+-----------------------------------------------------------------------------------+\n",
      "|0.1 |6.918            |1998   |9         |0.943               |0.776                  |7.945      |1996     |9      |[]      |[network, graph, nodes, vertices, edges, connected, tree, probability, bound, distribution]    |[]           |[]                                                                                 |\n",
      "|0.1 |6.827            |1998   |9         |0.921               |0.778                  |7.908      |1996     |11     |[]      |[flows, equations, solution, stokes, navier, velocity, comparison, pressure, discretized, past]|[]           |[]                                                                                 |\n",
      "|0.1 |7.18             |2000   |8         |0.832               |0.777                  |8.221      |1998     |22     |[]      |[]                                                                                             |[engineering]|[images, control, techniques, rendering, framework, users, compute, tool, problems]|\n",
      "+----+-----------------+-------+----------+--------------------+-----------------------+-----------+---------+-------+--------+-----------------------------------------------------------------------------------------------+-------------+-----------------------------------------------------------------------------------+\n",
      "only showing top 3 rows\n",
      "\n"
     ]
    }
   ],
   "source": [
    "stats_future.show(3, False)"
   ]
  },
  {
   "cell_type": "markdown",
   "metadata": {},
   "source": [
    "#### Draw pivot graphs"
   ]
  },
  {
   "cell_type": "markdown",
   "metadata": {},
   "source": [
    "##### Get the period list of the given corpus"
   ]
  },
  {
   "cell_type": "code",
   "execution_count": 36,
   "metadata": {},
   "outputs": [
    {
     "data": {
      "text/plain": [
       "[Row(period='1996-1998'),\n",
       " Row(period='1998-2000'),\n",
       " Row(period='2000-2002'),\n",
       " Row(period='2002-2004'),\n",
       " Row(period='2004-2006'),\n",
       " Row(period='2006-2008'),\n",
       " Row(period='2008-2010'),\n",
       " Row(period='2010-2012'),\n",
       " Row(period='2012-2014'),\n",
       " Row(period='2014-2015')]"
      ]
     },
     "execution_count": 36,
     "metadata": {},
     "output_type": "execute_result"
    }
   ],
   "source": [
    "periodList = topicNodes.select(\"period\").distinct().orderBy(\"period\").collect()\n",
    "periodList"
   ]
  },
  {
   "cell_type": "markdown",
   "metadata": {},
   "source": [
    "##### Define functions to draw pivot graphs by using Graphviz library"
   ]
  },
  {
   "cell_type": "code",
   "execution_count": 47,
   "metadata": {},
   "outputs": [
    {
     "name": "stdout",
     "output_type": "stream",
     "text": [
      "fonction defined!\n"
     ]
    }
   ],
   "source": [
    "# define timeline graph funtion\n",
    "def generateSVGSubgraphTimeline(graph, subgraph, periodList):\n",
    "    pj = subgraph.select(col(\"Pj\").alias(\"p\"))\n",
    "    pk = subgraph.select(col(\"Pk\").alias(\"p\"))\n",
    "    p = pj.union(pk).distinct()\n",
    "    \n",
    "    # draw timeline\n",
    "    # period nodes\n",
    "    for periodId in p.collect():\n",
    "        graph.node('P'+str(periodId.p), shape=\"plaintext\", label=periodList[periodId[0]][0])\n",
    "    \n",
    "    # period edges\n",
    "    edges = subgraph.select('Pj', 'Pk').distinct()\n",
    "    for e in edges.collect():\n",
    "        if (e.Pj < e.Pk):\n",
    "            graph.edge('P'+str(e.Pj), 'P'+str(e.Pk))\n",
    "        else:\n",
    "            graph.edge('P'+str(e.Pk), 'P'+str(e.Pj))\n",
    "            \n",
    "    return graph\n",
    "\n",
    "# g = Digraph('g2', format='png')\n",
    "# graphTimeline = generateSVGSubgraphTimeline(g, subgraphFuture, periodList)\n",
    "# graphTimeline\n",
    "\n",
    "\n",
    "# label topics\n",
    "def topicLabeling(graph, labels):\n",
    "    for row in labels.select(\"Ti\",\"stable\", \"emerging\", \"decaying\", \"specific\").collect():\n",
    "        label = \"<table border=\\\"0\\\" cellspacing=\\\"0\\\">\" + \\\n",
    "        \"\\n                    <tr><td border=\\\"1\\\">id:\"+ str(row.Ti) + \"</td></tr>\" + \\\n",
    "        \"\\n                    <tr><td border=\\\"1\\\" bgcolor=\\\"deepskyblue\\\">\"+ \"<br/>\".join(row.stable) + \"</td></tr>\" + \\\n",
    "        \"\\n                    <tr><td border=\\\"1\\\" bgcolor=\\\"green2\\\">\"+ \"<br/>\".join(row.emerging) + \"</td></tr>\" + \\\n",
    "        \"\\n                    <tr><td border=\\\"1\\\" bgcolor=\\\"red2\\\">\"+ \"<br/>\".join(row.decaying) + \"</td></tr>\" + \\\n",
    "        \"\\n                    <tr><td border=\\\"1\\\">\"+\"<br/>\".join(row.specific) + \"</td></tr>\" +\"\\n                </table>\"\n",
    "        graph.node(str(row.Ti), shape=\"none\", label=\"<\" + label + \">\")\n",
    "    \n",
    "    return graph\n",
    "\n",
    "\n",
    "# align subnodes in pivot graph\n",
    "def subgraphLabeling(graph, beta, periodList, timeDirection, subgraph, pivotLabels):\n",
    "    # draw timeline\n",
    "    graphTimeline = generateSVGSubgraphTimeline(graph, subgraph, periodList)\n",
    "    \n",
    "    parentsInPivotGraph = [ (x.Tj) for x in subgraph.select(\"Tj\").distinct().collect()]\n",
    "    childrenInPivotGraph = [ (x.Tk) for x in subgraph.select(\"Tk\").distinct().collect()]\n",
    "    topicsInPivotGraph = parentsInPivotGraph + childrenInPivotGraph\n",
    "    subNodesLabels = pivotLabels.filter(col(\"Ti\").isin(topicsInPivotGraph))\n",
    "    graphTopicLabels = topicLabeling(graphTimeline, subNodesLabels)\n",
    "    \n",
    "    if (timeDirection == \"future\"):\n",
    "      for e in subgraph.select( \"Tj\", \"Tk\", \"Beta\").distinct().collect():\n",
    "        width = str((np.round(e.Beta, 2)-beta)*(10-1)/(1-beta)+1)\n",
    "        graphTopicLabels.edge(str(e.Tj), str(e.Tk), penwidth=width, label=str(np.round(e.Beta, 2)), fontcolor='red')\n",
    "    else:\n",
    "      for e in subgraph.select( \"Tk\", \"Tj\", \"Beta\").distinct().collect():\n",
    "        width = str((np.round(e.Beta, 2)-beta)*(10-1)/(1-beta)+1)\n",
    "        graphTopicLabels.edge(str(e.Tk), str(e.Tj), penwidth=width, label=str(np.round(e.Beta, 2)), fontcolor='red')\n",
    "    \n",
    "    # align topic nodes {rank: same}\n",
    "    \n",
    "    return graphTopicLabels\n",
    "\n",
    "# draw bidirectional pivot graph    \n",
    "def bidirectionPivotGraph(graph, beta, periodList, subgraphFuture, subgraphPast, pivotLabels):\n",
    "    # draw timeline\n",
    "    graph1 = generateSVGSubgraphTimeline(graph, subgraphFuture, periodList)\n",
    "    graph2 = generateSVGSubgraphTimeline(graph1, subgraphPast, periodList)\n",
    "    \n",
    "    parentsInPivotGraphFuture = [ (x.Tj) for x in subgraphFuture.select(\"Tj\").distinct().collect()]\n",
    "    childrenInPivotGraphFuture = [ (x.Tk) for x in subgraphFuture.select(\"Tk\").distinct().collect()]\n",
    "    parentsInPivotGraphPast = [ (x.Tj) for x in subgraphPast.select(\"Tj\").distinct().collect()]\n",
    "    childrenInPivotGraphPast = [ (x.Tk) for x in subgraphPast.select(\"Tk\").distinct().collect()]\n",
    "    topicsInPivotGraph = parentsInPivotGraphFuture + childrenInPivotGraphFuture + parentsInPivotGraphPast + childrenInPivotGraphPast\n",
    "    # label topics in pivot graph\n",
    "    subNodesLabels = pivotLabels.filter(col(\"Ti\").isin(topicsInPivotGraph))\n",
    "    graphTopicLabels = topicLabeling(graph2, subNodesLabels)\n",
    "    \n",
    "    nodeLinksFuture = subgraphFuture.select( col(\"Tj\").alias(\"From\"), col(\"Tk\").alias(\"To\"), col(\"Beta\")).distinct()\n",
    "    nodeLinksPast = subgraphPast.select( col(\"Tk\").alias(\"From\"), col(\"Tj\").alias(\"To\"), col(\"Beta\")).distinct()\n",
    "    nodeLinks = nodeLinksFuture.union(nodeLinksPast)\n",
    "    for e in nodeLinks.collect():\n",
    "        width = str((np.round(e.Beta, 2)-beta)*(10-1)/(1-beta)+1)\n",
    "        graphTopicLabels.edge(str(e.From), str(e.To), penwidth=width, label=str(np.round(e.Beta, 2)), fontcolor='red')\n",
    "    \n",
    "    # align topic nodes {rank: same}   \n",
    "    \n",
    "    return graphTopicLabels\n",
    "    \n",
    "print(\"fonction defined!\")    "
   ]
  },
  {
   "cell_type": "code",
   "execution_count": 48,
   "metadata": {},
   "outputs": [],
   "source": [
    "def drawPivotGraph(beta, subgraphFuture, subgraphPast, periodList, pivotLabels):\n",
    "    g = Digraph('G', format='png')\n",
    "    if ((subgraphFuture.count() == 0) and (subgraphPast.count() > 0)):\n",
    "      g = subgraphLabeling(g, beta, periodList, \"past\", subgraphPast, pivotLabels)\n",
    "    elif ((subgraphFuture.count() > 0) and (subgraphPast.count() == 0)):\n",
    "      g = subgraphLabeling(g, beta, periodList, \"future\", subgraphFuture, pivotLabels)\n",
    "    else:\n",
    "      g = bidirectionPivotGraph(g, beta, periodList, subgraphFuture, subgraphPast, pivotLabels)\n",
    "\n",
    "    return g"
   ]
  },
  {
   "cell_type": "markdown",
   "metadata": {},
   "source": [
    "##### Here we make an example"
   ]
  },
  {
   "cell_type": "code",
   "execution_count": 49,
   "metadata": {},
   "outputs": [],
   "source": [
    "### beta has been given above\n",
    "topicId = 113\n",
    "subgraphFuture = future.where(col(\"Ti\") == topicId)\n",
    "subgraphPast = past.where(col(\"Ti\") == topicId)"
   ]
  },
  {
   "cell_type": "code",
   "execution_count": 56,
   "metadata": {},
   "outputs": [
    {
     "data": {
      "image/svg+xml": [
       "<?xml version=\"1.0\" encoding=\"UTF-8\" standalone=\"no\"?>\r\n",
       "<!DOCTYPE svg PUBLIC \"-//W3C//DTD SVG 1.1//EN\"\r\n",
       " \"http://www.w3.org/Graphics/SVG/1.1/DTD/svg11.dtd\">\r\n",
       "<!-- Generated by graphviz version 2.38.0 (20140413.2041)\r\n",
       " -->\r\n",
       "<!-- Title: G Pages: 1 -->\r\n",
       "<svg width=\"107pt\" height=\"720pt\"\r\n",
       " viewBox=\"0.00 0.00 107.07 720.00\" xmlns=\"http://www.w3.org/2000/svg\" xmlns:xlink=\"http://www.w3.org/1999/xlink\">\r\n",
       "<g id=\"graph0\" class=\"graph\" transform=\"scale(0.414986 0.414986) rotate(0) translate(4 1731)\">\r\n",
       "<title>G</title>\r\n",
       "<polygon fill=\"white\" stroke=\"none\" points=\"-4,4 -4,-1731 254,-1731 254,4 -4,4\"/>\r\n",
       "<!-- P7 -->\r\n",
       "<g id=\"node1\" class=\"node\"><title>P7</title>\r\n",
       "<text text-anchor=\"middle\" x=\"37.5\" y=\"-605.8\" font-family=\"Times New Roman,serif\" font-size=\"14.00\">2010&#45;2012</text>\r\n",
       "</g>\r\n",
       "<!-- P8 -->\r\n",
       "<g id=\"node5\" class=\"node\"><title>P8</title>\r\n",
       "<text text-anchor=\"middle\" x=\"37.5\" y=\"-351.8\" font-family=\"Times New Roman,serif\" font-size=\"14.00\">2012&#45;2014</text>\r\n",
       "</g>\r\n",
       "<!-- P7&#45;&gt;P8 -->\r\n",
       "<g id=\"edge1\" class=\"edge\"><title>P7&#45;&gt;P8</title>\r\n",
       "<path fill=\"none\" stroke=\"black\" d=\"M37.5,-591.179C37.5,-548.096 37.5,-435.833 37.5,-383.761\"/>\r\n",
       "<polygon fill=\"black\" stroke=\"black\" points=\"41.0001,-383.609 37.5,-373.609 34.0001,-383.609 41.0001,-383.609\"/>\r\n",
       "</g>\r\n",
       "<!-- P6 -->\r\n",
       "<g id=\"node2\" class=\"node\"><title>P6</title>\r\n",
       "<text text-anchor=\"middle\" x=\"37.5\" y=\"-859.8\" font-family=\"Times New Roman,serif\" font-size=\"14.00\">2008&#45;2010</text>\r\n",
       "</g>\r\n",
       "<!-- P6&#45;&gt;P7 -->\r\n",
       "<g id=\"edge4\" class=\"edge\"><title>P6&#45;&gt;P7</title>\r\n",
       "<path fill=\"none\" stroke=\"black\" d=\"M37.5,-845.179C37.5,-802.096 37.5,-689.833 37.5,-637.761\"/>\r\n",
       "<polygon fill=\"black\" stroke=\"black\" points=\"41.0001,-637.609 37.5,-627.609 34.0001,-637.609 41.0001,-637.609\"/>\r\n",
       "</g>\r\n",
       "<!-- P9 -->\r\n",
       "<g id=\"node3\" class=\"node\"><title>P9</title>\r\n",
       "<text text-anchor=\"middle\" x=\"37.5\" y=\"-97.8\" font-family=\"Times New Roman,serif\" font-size=\"14.00\">2014&#45;2015</text>\r\n",
       "</g>\r\n",
       "<!-- P5 -->\r\n",
       "<g id=\"node4\" class=\"node\"><title>P5</title>\r\n",
       "<text text-anchor=\"middle\" x=\"37.5\" y=\"-1113.8\" font-family=\"Times New Roman,serif\" font-size=\"14.00\">2006&#45;2008</text>\r\n",
       "</g>\r\n",
       "<!-- P5&#45;&gt;P6 -->\r\n",
       "<g id=\"edge3\" class=\"edge\"><title>P5&#45;&gt;P6</title>\r\n",
       "<path fill=\"none\" stroke=\"black\" d=\"M37.5,-1099.18C37.5,-1056.1 37.5,-943.833 37.5,-891.761\"/>\r\n",
       "<polygon fill=\"black\" stroke=\"black\" points=\"41.0001,-891.609 37.5,-881.609 34.0001,-891.609 41.0001,-891.609\"/>\r\n",
       "</g>\r\n",
       "<!-- P8&#45;&gt;P9 -->\r\n",
       "<g id=\"edge2\" class=\"edge\"><title>P8&#45;&gt;P9</title>\r\n",
       "<path fill=\"none\" stroke=\"black\" d=\"M37.5,-337.179C37.5,-294.096 37.5,-181.833 37.5,-129.761\"/>\r\n",
       "<polygon fill=\"black\" stroke=\"black\" points=\"41.0001,-129.609 37.5,-119.609 34.0001,-129.609 41.0001,-129.609\"/>\r\n",
       "</g>\r\n",
       "<!-- P3 -->\r\n",
       "<g id=\"node6\" class=\"node\"><title>P3</title>\r\n",
       "<text text-anchor=\"middle\" x=\"37.5\" y=\"-1621.8\" font-family=\"Times New Roman,serif\" font-size=\"14.00\">2002&#45;2004</text>\r\n",
       "</g>\r\n",
       "<!-- P4 -->\r\n",
       "<g id=\"node7\" class=\"node\"><title>P4</title>\r\n",
       "<text text-anchor=\"middle\" x=\"37.5\" y=\"-1367.8\" font-family=\"Times New Roman,serif\" font-size=\"14.00\">2004&#45;2006</text>\r\n",
       "</g>\r\n",
       "<!-- P3&#45;&gt;P4 -->\r\n",
       "<g id=\"edge5\" class=\"edge\"><title>P3&#45;&gt;P4</title>\r\n",
       "<path fill=\"none\" stroke=\"black\" d=\"M37.5,-1607.18C37.5,-1564.1 37.5,-1451.83 37.5,-1399.76\"/>\r\n",
       "<polygon fill=\"black\" stroke=\"black\" points=\"41.0001,-1399.61 37.5,-1389.61 34.0001,-1399.61 41.0001,-1399.61\"/>\r\n",
       "</g>\r\n",
       "<!-- P4&#45;&gt;P5 -->\r\n",
       "<g id=\"edge6\" class=\"edge\"><title>P4&#45;&gt;P5</title>\r\n",
       "<path fill=\"none\" stroke=\"black\" d=\"M37.5,-1353.18C37.5,-1310.1 37.5,-1197.83 37.5,-1145.76\"/>\r\n",
       "<polygon fill=\"black\" stroke=\"black\" points=\"41.0001,-1145.61 37.5,-1135.61 34.0001,-1145.61 41.0001,-1145.61\"/>\r\n",
       "</g>\r\n",
       "<!-- 113 -->\r\n",
       "<g id=\"node8\" class=\"node\"><title>113</title>\r\n",
       "<polygon fill=\"none\" stroke=\"black\" points=\"101.5,-1193.5 101.5,-1214.5 242.5,-1214.5 242.5,-1193.5 101.5,-1193.5\"/>\r\n",
       "<text text-anchor=\"start\" x=\"155\" y=\"-1200.3\" font-family=\"Times New Roman,serif\" font-size=\"14.00\">id:113</text>\r\n",
       "<polygon fill=\"deepskyblue\" stroke=\"none\" points=\"101.5,-1142.5 101.5,-1193.5 242.5,-1193.5 242.5,-1142.5 101.5,-1142.5\"/>\r\n",
       "<polygon fill=\"none\" stroke=\"black\" points=\"101.5,-1142.5 101.5,-1193.5 242.5,-1193.5 242.5,-1142.5 101.5,-1142.5\"/>\r\n",
       "<text text-anchor=\"start\" x=\"149\" y=\"-1179.3\" font-family=\"Times New Roman,serif\" font-size=\"14.00\">network</text>\r\n",
       "<text text-anchor=\"start\" x=\"152\" y=\"-1164.3\" font-family=\"Times New Roman,serif\" font-size=\"14.00\">routing</text>\r\n",
       "<text text-anchor=\"start\" x=\"155\" y=\"-1149.3\" font-family=\"Times New Roman,serif\" font-size=\"14.00\">nodes</text>\r\n",
       "<polygon fill=\"#00ee00\" stroke=\"none\" points=\"101.5,-1061.5 101.5,-1142.5 242.5,-1142.5 242.5,-1061.5 101.5,-1061.5\"/>\r\n",
       "<polygon fill=\"none\" stroke=\"black\" points=\"101.5,-1061.5 101.5,-1142.5 242.5,-1142.5 242.5,-1061.5 101.5,-1061.5\"/>\r\n",
       "<text text-anchor=\"start\" x=\"154\" y=\"-1128.3\" font-family=\"Times New Roman,serif\" font-size=\"14.00\">agents</text>\r\n",
       "<text text-anchor=\"start\" x=\"150.5\" y=\"-1113.3\" font-family=\"Times New Roman,serif\" font-size=\"14.00\">clusters</text>\r\n",
       "<text text-anchor=\"start\" x=\"147\" y=\"-1098.3\" font-family=\"Times New Roman,serif\" font-size=\"14.00\">reliability</text>\r\n",
       "<text text-anchor=\"start\" x=\"160\" y=\"-1083.3\" font-family=\"Times New Roman,serif\" font-size=\"14.00\">data</text>\r\n",
       "<text text-anchor=\"start\" x=\"129\" y=\"-1068.3\" font-family=\"Times New Roman,serif\" font-size=\"14.00\">communication</text>\r\n",
       "<polygon fill=\"#ee0000\" stroke=\"none\" points=\"101.5,-1040.5 101.5,-1061.5 242.5,-1061.5 242.5,-1040.5 101.5,-1040.5\"/>\r\n",
       "<polygon fill=\"none\" stroke=\"black\" points=\"101.5,-1040.5 101.5,-1061.5 242.5,-1061.5 242.5,-1040.5 101.5,-1040.5\"/>\r\n",
       "<text text-anchor=\"start\" x=\"104.5\" y=\"-1047.3\" font-family=\"Times New Roman,serif\" font-size=\"14.00\">mobile ad hoc networks</text>\r\n",
       "<polygon fill=\"none\" stroke=\"black\" points=\"101.5,-1019.5 101.5,-1040.5 242.5,-1040.5 242.5,-1019.5 101.5,-1019.5\"/>\r\n",
       "<text text-anchor=\"start\" x=\"150\" y=\"-1026.3\" font-family=\"Times New Roman,serif\" font-size=\"14.00\">strategy</text>\r\n",
       "</g>\r\n",
       "<!-- 123 -->\r\n",
       "<g id=\"node9\" class=\"node\"><title>123</title>\r\n",
       "<polygon fill=\"none\" stroke=\"black\" points=\"111.5,-939.5 111.5,-960.5 231.5,-960.5 231.5,-939.5 111.5,-939.5\"/>\r\n",
       "<text text-anchor=\"start\" x=\"154.5\" y=\"-946.3\" font-family=\"Times New Roman,serif\" font-size=\"14.00\">id:123</text>\r\n",
       "<polygon fill=\"deepskyblue\" stroke=\"none\" points=\"111.5,-888.5 111.5,-939.5 231.5,-939.5 231.5,-888.5 111.5,-888.5\"/>\r\n",
       "<polygon fill=\"none\" stroke=\"black\" points=\"111.5,-888.5 111.5,-939.5 231.5,-939.5 231.5,-888.5 111.5,-888.5\"/>\r\n",
       "<text text-anchor=\"start\" x=\"148.5\" y=\"-925.3\" font-family=\"Times New Roman,serif\" font-size=\"14.00\">network</text>\r\n",
       "<text text-anchor=\"start\" x=\"151.5\" y=\"-910.3\" font-family=\"Times New Roman,serif\" font-size=\"14.00\">routing</text>\r\n",
       "<text text-anchor=\"start\" x=\"154.5\" y=\"-895.3\" font-family=\"Times New Roman,serif\" font-size=\"14.00\">nodes</text>\r\n",
       "<polygon fill=\"#00ee00\" stroke=\"none\" points=\"111.5,-867.5 111.5,-888.5 231.5,-888.5 231.5,-867.5 111.5,-867.5\"/>\r\n",
       "<polygon fill=\"none\" stroke=\"black\" points=\"111.5,-867.5 111.5,-888.5 231.5,-888.5 231.5,-867.5 111.5,-867.5\"/>\r\n",
       "<text text-anchor=\"start\" x=\"114.5\" y=\"-874.3\" font-family=\"Times New Roman,serif\" font-size=\"14.00\">energy consumption</text>\r\n",
       "<polygon fill=\"#ee0000\" stroke=\"none\" points=\"111.5,-831.5 111.5,-867.5 231.5,-867.5 231.5,-831.5 111.5,-831.5\"/>\r\n",
       "<polygon fill=\"none\" stroke=\"black\" points=\"111.5,-831.5 111.5,-867.5 231.5,-867.5 231.5,-831.5 111.5,-831.5\"/>\r\n",
       "<text text-anchor=\"start\" x=\"150\" y=\"-853.3\" font-family=\"Times New Roman,serif\" font-size=\"14.00\">clusters</text>\r\n",
       "<text text-anchor=\"start\" x=\"159.5\" y=\"-838.3\" font-family=\"Times New Roman,serif\" font-size=\"14.00\">data</text>\r\n",
       "<polygon fill=\"none\" stroke=\"black\" points=\"111.5,-765.5 111.5,-831.5 231.5,-831.5 231.5,-765.5 111.5,-765.5\"/>\r\n",
       "<text text-anchor=\"start\" x=\"150\" y=\"-817.3\" font-family=\"Times New Roman,serif\" font-size=\"14.00\">scheme</text>\r\n",
       "<text text-anchor=\"start\" x=\"147.5\" y=\"-802.3\" font-family=\"Times New Roman,serif\" font-size=\"14.00\">program</text>\r\n",
       "<text text-anchor=\"start\" x=\"158.5\" y=\"-787.3\" font-family=\"Times New Roman,serif\" font-size=\"14.00\">aims</text>\r\n",
       "<text text-anchor=\"start\" x=\"129\" y=\"-772.3\" font-family=\"Times New Roman,serif\" font-size=\"14.00\">implementation</text>\r\n",
       "</g>\r\n",
       "<!-- 113&#45;&gt;123 -->\r\n",
       "<g id=\"edge8\" class=\"edge\"><title>113&#45;&gt;123</title>\r\n",
       "<path fill=\"none\" stroke=\"black\" stroke-width=\"4.96\" d=\"M171.5,-1015.82C171.5,-1002.49 171.5,-988.766 171.5,-975.28\"/>\r\n",
       "<polygon fill=\"black\" stroke=\"black\" stroke-width=\"4.96\" points=\"175.84,-975.023 171.5,-965.024 167.16,-975.024 175.84,-975.023\"/>\r\n",
       "<text text-anchor=\"middle\" x=\"184\" y=\"-986.8\" font-family=\"Times New Roman,serif\" font-size=\"14.00\" fill=\"red\">0.72</text>\r\n",
       "</g>\r\n",
       "<!-- 152 -->\r\n",
       "<g id=\"node13\" class=\"node\"><title>152</title>\r\n",
       "<polygon fill=\"none\" stroke=\"black\" points=\"125.5,-685.5 125.5,-706.5 217.5,-706.5 217.5,-685.5 125.5,-685.5\"/>\r\n",
       "<text text-anchor=\"start\" x=\"154.5\" y=\"-692.3\" font-family=\"Times New Roman,serif\" font-size=\"14.00\">id:152</text>\r\n",
       "<polygon fill=\"deepskyblue\" stroke=\"none\" points=\"125.5,-619.5 125.5,-685.5 217.5,-685.5 217.5,-619.5 125.5,-619.5\"/>\r\n",
       "<polygon fill=\"none\" stroke=\"black\" points=\"125.5,-619.5 125.5,-685.5 217.5,-685.5 217.5,-619.5 125.5,-619.5\"/>\r\n",
       "<text text-anchor=\"start\" x=\"148.5\" y=\"-671.3\" font-family=\"Times New Roman,serif\" font-size=\"14.00\">network</text>\r\n",
       "<text text-anchor=\"start\" x=\"154.5\" y=\"-656.3\" font-family=\"Times New Roman,serif\" font-size=\"14.00\">nodes</text>\r\n",
       "<text text-anchor=\"start\" x=\"151.5\" y=\"-641.3\" font-family=\"Times New Roman,serif\" font-size=\"14.00\">routing</text>\r\n",
       "<text text-anchor=\"start\" x=\"128.5\" y=\"-626.3\" font-family=\"Times New Roman,serif\" font-size=\"14.00\">communication</text>\r\n",
       "<polygon fill=\"#00ee00\" stroke=\"none\" points=\"125.5,-583.5 125.5,-619.5 217.5,-619.5 217.5,-583.5 125.5,-583.5\"/>\r\n",
       "<polygon fill=\"none\" stroke=\"black\" points=\"125.5,-583.5 125.5,-619.5 217.5,-619.5 217.5,-583.5 125.5,-583.5\"/>\r\n",
       "<text text-anchor=\"start\" x=\"151.5\" y=\"-605.3\" font-family=\"Times New Roman,serif\" font-size=\"14.00\">control</text>\r\n",
       "<text text-anchor=\"start\" x=\"149\" y=\"-590.3\" font-family=\"Times New Roman,serif\" font-size=\"14.00\">location</text>\r\n",
       "<polygon fill=\"#ee0000\" stroke=\"none\" points=\"125.5,-547.5 125.5,-583.5 217.5,-583.5 217.5,-547.5 125.5,-547.5\"/>\r\n",
       "<polygon fill=\"none\" stroke=\"black\" points=\"125.5,-547.5 125.5,-583.5 217.5,-583.5 217.5,-547.5 125.5,-547.5\"/>\r\n",
       "<text text-anchor=\"start\" x=\"153.5\" y=\"-569.3\" font-family=\"Times New Roman,serif\" font-size=\"14.00\">agents</text>\r\n",
       "<text text-anchor=\"start\" x=\"150\" y=\"-554.3\" font-family=\"Times New Roman,serif\" font-size=\"14.00\">packets</text>\r\n",
       "<polygon fill=\"none\" stroke=\"black\" points=\"125.5,-511.5 125.5,-547.5 217.5,-547.5 217.5,-511.5 125.5,-511.5\"/>\r\n",
       "<text text-anchor=\"start\" x=\"156\" y=\"-533.3\" font-family=\"Times New Roman,serif\" font-size=\"14.00\">sense</text>\r\n",
       "<text text-anchor=\"start\" x=\"145\" y=\"-518.3\" font-family=\"Times New Roman,serif\" font-size=\"14.00\">proposes</text>\r\n",
       "</g>\r\n",
       "<!-- 123&#45;&gt;152 -->\r\n",
       "<g id=\"edge7\" class=\"edge\"><title>123&#45;&gt;152</title>\r\n",
       "<path fill=\"none\" stroke=\"black\" stroke-width=\"2.98\" d=\"M171.5,-761.817C171.5,-748.488 171.5,-734.766 171.5,-721.28\"/>\r\n",
       "<polygon fill=\"black\" stroke=\"black\" stroke-width=\"2.98\" points=\"175,-721.023 171.5,-711.024 168,-721.024 175,-721.023\"/>\r\n",
       "<text text-anchor=\"middle\" x=\"184\" y=\"-732.8\" font-family=\"Times New Roman,serif\" font-size=\"14.00\" fill=\"red\">0.61</text>\r\n",
       "</g>\r\n",
       "<!-- 83 -->\r\n",
       "<g id=\"node10\" class=\"node\"><title>83</title>\r\n",
       "<polygon fill=\"none\" stroke=\"black\" points=\"121.5,-1447.5 121.5,-1468.5 221.5,-1468.5 221.5,-1447.5 121.5,-1447.5\"/>\r\n",
       "<text text-anchor=\"start\" x=\"157.5\" y=\"-1454.3\" font-family=\"Times New Roman,serif\" font-size=\"14.00\">id:83</text>\r\n",
       "<polygon fill=\"deepskyblue\" stroke=\"none\" points=\"121.5,-1411.5 121.5,-1447.5 221.5,-1447.5 221.5,-1411.5 121.5,-1411.5\"/>\r\n",
       "<polygon fill=\"none\" stroke=\"black\" points=\"121.5,-1411.5 121.5,-1447.5 221.5,-1447.5 221.5,-1411.5 121.5,-1411.5\"/>\r\n",
       "<text text-anchor=\"start\" x=\"148.5\" y=\"-1433.3\" font-family=\"Times New Roman,serif\" font-size=\"14.00\">network</text>\r\n",
       "<text text-anchor=\"start\" x=\"154.5\" y=\"-1418.3\" font-family=\"Times New Roman,serif\" font-size=\"14.00\">nodes</text>\r\n",
       "<polygon fill=\"#00ee00\" stroke=\"none\" points=\"121.5,-1360.5 121.5,-1411.5 221.5,-1411.5 221.5,-1360.5 121.5,-1360.5\"/>\r\n",
       "<polygon fill=\"none\" stroke=\"black\" points=\"121.5,-1360.5 121.5,-1411.5 221.5,-1411.5 221.5,-1360.5 121.5,-1360.5\"/>\r\n",
       "<text text-anchor=\"start\" x=\"151.5\" y=\"-1397.3\" font-family=\"Times New Roman,serif\" font-size=\"14.00\">routing</text>\r\n",
       "<text text-anchor=\"start\" x=\"150\" y=\"-1382.3\" font-family=\"Times New Roman,serif\" font-size=\"14.00\">packets</text>\r\n",
       "<text text-anchor=\"start\" x=\"124.5\" y=\"-1367.3\" font-family=\"Times New Roman,serif\" font-size=\"14.00\">ad hoc networks</text>\r\n",
       "<polygon fill=\"#ee0000\" stroke=\"none\" points=\"121.5,-1354.5 121.5,-1360.5 221.5,-1360.5 221.5,-1354.5 121.5,-1354.5\"/>\r\n",
       "<polygon fill=\"none\" stroke=\"black\" points=\"121.5,-1354.5 121.5,-1360.5 221.5,-1360.5 221.5,-1354.5 121.5,-1354.5\"/>\r\n",
       "<polygon fill=\"none\" stroke=\"black\" points=\"121.5,-1273.5 121.5,-1354.5 221.5,-1354.5 221.5,-1273.5 121.5,-1273.5\"/>\r\n",
       "<text text-anchor=\"start\" x=\"159\" y=\"-1340.3\" font-family=\"Times New Roman,serif\" font-size=\"14.00\">cost</text>\r\n",
       "<text text-anchor=\"start\" x=\"154.5\" y=\"-1325.3\" font-family=\"Times New Roman,serif\" font-size=\"14.00\">traffic</text>\r\n",
       "<text text-anchor=\"start\" x=\"148\" y=\"-1310.3\" font-family=\"Times New Roman,serif\" font-size=\"14.00\">capacity</text>\r\n",
       "<text text-anchor=\"start\" x=\"144\" y=\"-1295.3\" font-family=\"Times New Roman,serif\" font-size=\"14.00\">scalability</text>\r\n",
       "<text text-anchor=\"start\" x=\"158.5\" y=\"-1280.3\" font-family=\"Times New Roman,serif\" font-size=\"14.00\">links</text>\r\n",
       "</g>\r\n",
       "<!-- 83&#45;&gt;113 -->\r\n",
       "<g id=\"edge12\" class=\"edge\"><title>83&#45;&gt;113</title>\r\n",
       "<path fill=\"none\" stroke=\"black\" stroke-width=\"6.94\" d=\"M171.5,-1269.82C171.5,-1256.49 171.5,-1242.77 171.5,-1229.28\"/>\r\n",
       "<polygon fill=\"black\" stroke=\"black\" stroke-width=\"6.94\" points=\"177.573,-1229.02 171.5,-1219.02 165.428,-1229.02 177.573,-1229.02\"/>\r\n",
       "<text text-anchor=\"middle\" x=\"184\" y=\"-1240.8\" font-family=\"Times New Roman,serif\" font-size=\"14.00\" fill=\"red\">0.83</text>\r\n",
       "</g>\r\n",
       "<!-- 74 -->\r\n",
       "<g id=\"node11\" class=\"node\"><title>74</title>\r\n",
       "<polygon fill=\"none\" stroke=\"black\" points=\"131.5,-1701.5 131.5,-1722.5 211.5,-1722.5 211.5,-1701.5 131.5,-1701.5\"/>\r\n",
       "<text text-anchor=\"start\" x=\"157.5\" y=\"-1708.3\" font-family=\"Times New Roman,serif\" font-size=\"14.00\">id:74</text>\r\n",
       "<polygon fill=\"deepskyblue\" stroke=\"none\" points=\"131.5,-1695.5 131.5,-1701.5 211.5,-1701.5 211.5,-1695.5 131.5,-1695.5\"/>\r\n",
       "<polygon fill=\"none\" stroke=\"black\" points=\"131.5,-1695.5 131.5,-1701.5 211.5,-1701.5 211.5,-1695.5 131.5,-1695.5\"/>\r\n",
       "<polygon fill=\"#00ee00\" stroke=\"none\" points=\"131.5,-1659.5 131.5,-1695.5 211.5,-1695.5 211.5,-1659.5 131.5,-1659.5\"/>\r\n",
       "<polygon fill=\"none\" stroke=\"black\" points=\"131.5,-1659.5 131.5,-1695.5 211.5,-1695.5 211.5,-1659.5 131.5,-1659.5\"/>\r\n",
       "<text text-anchor=\"start\" x=\"148.5\" y=\"-1681.3\" font-family=\"Times New Roman,serif\" font-size=\"14.00\">network</text>\r\n",
       "<text text-anchor=\"start\" x=\"154.5\" y=\"-1666.3\" font-family=\"Times New Roman,serif\" font-size=\"14.00\">nodes</text>\r\n",
       "<polygon fill=\"#ee0000\" stroke=\"none\" points=\"131.5,-1653.5 131.5,-1659.5 211.5,-1659.5 211.5,-1653.5 131.5,-1653.5\"/>\r\n",
       "<polygon fill=\"none\" stroke=\"black\" points=\"131.5,-1653.5 131.5,-1659.5 211.5,-1659.5 211.5,-1653.5 131.5,-1653.5\"/>\r\n",
       "<polygon fill=\"none\" stroke=\"black\" points=\"131.5,-1527.5 131.5,-1653.5 211.5,-1653.5 211.5,-1527.5 131.5,-1527.5\"/>\r\n",
       "<text text-anchor=\"start\" x=\"153\" y=\"-1639.3\" font-family=\"Times New Roman,serif\" font-size=\"14.00\">design</text>\r\n",
       "<text text-anchor=\"start\" x=\"156.5\" y=\"-1624.3\" font-family=\"Times New Roman,serif\" font-size=\"14.00\">users</text>\r\n",
       "<text text-anchor=\"start\" x=\"142.5\" y=\"-1609.3\" font-family=\"Times New Roman,serif\" font-size=\"14.00\">connected</text>\r\n",
       "<text text-anchor=\"start\" x=\"140\" y=\"-1594.3\" font-family=\"Times New Roman,serif\" font-size=\"14.00\">mechanism</text>\r\n",
       "<text text-anchor=\"start\" x=\"134.5\" y=\"-1579.3\" font-family=\"Times New Roman,serif\" font-size=\"14.00\">methodology</text>\r\n",
       "<text text-anchor=\"start\" x=\"163\" y=\"-1564.3\" font-family=\"Times New Roman,serif\" font-size=\"14.00\">sip</text>\r\n",
       "<text text-anchor=\"start\" x=\"148\" y=\"-1549.3\" font-family=\"Times New Roman,serif\" font-size=\"14.00\">particles</text>\r\n",
       "<text text-anchor=\"start\" x=\"145\" y=\"-1534.3\" font-family=\"Times New Roman,serif\" font-size=\"14.00\">guarantee</text>\r\n",
       "</g>\r\n",
       "<!-- 74&#45;&gt;83 -->\r\n",
       "<g id=\"edge11\" class=\"edge\"><title>74&#45;&gt;83</title>\r\n",
       "<path fill=\"none\" stroke=\"black\" stroke-width=\"3.88\" d=\"M171.5,-1523.82C171.5,-1510.49 171.5,-1496.77 171.5,-1483.28\"/>\r\n",
       "<polygon fill=\"black\" stroke=\"black\" stroke-width=\"3.88\" points=\"175,-1483.02 171.5,-1473.02 168,-1483.02 175,-1483.02\"/>\r\n",
       "<text text-anchor=\"middle\" x=\"184\" y=\"-1494.8\" font-family=\"Times New Roman,serif\" font-size=\"14.00\" fill=\"red\">0.66</text>\r\n",
       "</g>\r\n",
       "<!-- 165 -->\r\n",
       "<g id=\"node12\" class=\"node\"><title>165</title>\r\n",
       "<polygon fill=\"none\" stroke=\"black\" points=\"111.5,-431.5 111.5,-452.5 231.5,-452.5 231.5,-431.5 111.5,-431.5\"/>\r\n",
       "<text text-anchor=\"start\" x=\"154.5\" y=\"-438.3\" font-family=\"Times New Roman,serif\" font-size=\"14.00\">id:165</text>\r\n",
       "<polygon fill=\"deepskyblue\" stroke=\"none\" points=\"111.5,-395.5 111.5,-431.5 231.5,-431.5 231.5,-395.5 111.5,-395.5\"/>\r\n",
       "<polygon fill=\"none\" stroke=\"black\" points=\"111.5,-395.5 111.5,-431.5 231.5,-431.5 231.5,-395.5 111.5,-395.5\"/>\r\n",
       "<text text-anchor=\"start\" x=\"148.5\" y=\"-417.3\" font-family=\"Times New Roman,serif\" font-size=\"14.00\">network</text>\r\n",
       "<text text-anchor=\"start\" x=\"134\" y=\"-402.3\" font-family=\"Times New Roman,serif\" font-size=\"14.00\">sensor nodes</text>\r\n",
       "<polygon fill=\"#00ee00\" stroke=\"none\" points=\"111.5,-389.5 111.5,-395.5 231.5,-395.5 231.5,-389.5 111.5,-389.5\"/>\r\n",
       "<polygon fill=\"none\" stroke=\"black\" points=\"111.5,-389.5 111.5,-395.5 231.5,-395.5 231.5,-389.5 111.5,-389.5\"/>\r\n",
       "<polygon fill=\"#ee0000\" stroke=\"none\" points=\"111.5,-308.5 111.5,-389.5 231.5,-389.5 231.5,-308.5 111.5,-308.5\"/>\r\n",
       "<polygon fill=\"none\" stroke=\"black\" points=\"111.5,-308.5 111.5,-389.5 231.5,-389.5 231.5,-308.5 111.5,-308.5\"/>\r\n",
       "<text text-anchor=\"start\" x=\"151.5\" y=\"-375.3\" font-family=\"Times New Roman,serif\" font-size=\"14.00\">routing</text>\r\n",
       "<text text-anchor=\"start\" x=\"128.5\" y=\"-360.3\" font-family=\"Times New Roman,serif\" font-size=\"14.00\">communication</text>\r\n",
       "<text text-anchor=\"start\" x=\"149\" y=\"-345.3\" font-family=\"Times New Roman,serif\" font-size=\"14.00\">location</text>\r\n",
       "<text text-anchor=\"start\" x=\"151.5\" y=\"-330.3\" font-family=\"Times New Roman,serif\" font-size=\"14.00\">control</text>\r\n",
       "<text text-anchor=\"start\" x=\"114.5\" y=\"-315.3\" font-family=\"Times New Roman,serif\" font-size=\"14.00\">energy consumption</text>\r\n",
       "<polygon fill=\"none\" stroke=\"black\" points=\"111.5,-257.5 111.5,-308.5 231.5,-308.5 231.5,-257.5 111.5,-257.5\"/>\r\n",
       "<text text-anchor=\"start\" x=\"147\" y=\"-294.3\" font-family=\"Times New Roman,serif\" font-size=\"14.00\">protocol</text>\r\n",
       "<text text-anchor=\"start\" x=\"152.5\" y=\"-279.3\" font-family=\"Times New Roman,serif\" font-size=\"14.00\">source</text>\r\n",
       "<text text-anchor=\"start\" x=\"142.5\" y=\"-264.3\" font-family=\"Times New Roman,serif\" font-size=\"14.00\">customers</text>\r\n",
       "</g>\r\n",
       "<!-- 180 -->\r\n",
       "<g id=\"node14\" class=\"node\"><title>180</title>\r\n",
       "<polygon fill=\"none\" stroke=\"black\" points=\"136.5,-177.5 136.5,-198.5 206.5,-198.5 206.5,-177.5 136.5,-177.5\"/>\r\n",
       "<text text-anchor=\"start\" x=\"154.5\" y=\"-184.3\" font-family=\"Times New Roman,serif\" font-size=\"14.00\">id:180</text>\r\n",
       "<polygon fill=\"deepskyblue\" stroke=\"none\" points=\"136.5,-171.5 136.5,-177.5 206.5,-177.5 206.5,-171.5 136.5,-171.5\"/>\r\n",
       "<polygon fill=\"none\" stroke=\"black\" points=\"136.5,-171.5 136.5,-177.5 206.5,-177.5 206.5,-171.5 136.5,-171.5\"/>\r\n",
       "<polygon fill=\"#00ee00\" stroke=\"none\" points=\"136.5,-165.5 136.5,-171.5 206.5,-171.5 206.5,-165.5 136.5,-165.5\"/>\r\n",
       "<polygon fill=\"none\" stroke=\"black\" points=\"136.5,-165.5 136.5,-171.5 206.5,-171.5 206.5,-165.5 136.5,-165.5\"/>\r\n",
       "<polygon fill=\"#ee0000\" stroke=\"none\" points=\"136.5,-114.5 136.5,-165.5 206.5,-165.5 206.5,-114.5 136.5,-114.5\"/>\r\n",
       "<polygon fill=\"none\" stroke=\"black\" points=\"136.5,-114.5 136.5,-165.5 206.5,-165.5 206.5,-114.5 136.5,-114.5\"/>\r\n",
       "<text text-anchor=\"start\" x=\"148.5\" y=\"-151.3\" font-family=\"Times New Roman,serif\" font-size=\"14.00\">network</text>\r\n",
       "<text text-anchor=\"start\" x=\"146.5\" y=\"-136.3\" font-family=\"Times New Roman,serif\" font-size=\"14.00\">reliability</text>\r\n",
       "<text text-anchor=\"start\" x=\"154.5\" y=\"-121.3\" font-family=\"Times New Roman,serif\" font-size=\"14.00\">nodes</text>\r\n",
       "<polygon fill=\"none\" stroke=\"black\" points=\"136.5,-3.5 136.5,-114.5 206.5,-114.5 206.5,-3.5 136.5,-3.5\"/>\r\n",
       "<text text-anchor=\"start\" x=\"152.5\" y=\"-100.3\" font-family=\"Times New Roman,serif\" font-size=\"14.00\">update</text>\r\n",
       "<text text-anchor=\"start\" x=\"141.5\" y=\"-85.3\" font-family=\"Times New Roman,serif\" font-size=\"14.00\">techniques</text>\r\n",
       "<text text-anchor=\"start\" x=\"157.5\" y=\"-70.3\" font-family=\"Times New Roman,serif\" font-size=\"14.00\">error</text>\r\n",
       "<text text-anchor=\"start\" x=\"155\" y=\"-55.3\" font-family=\"Times New Roman,serif\" font-size=\"14.00\">suffer</text>\r\n",
       "<text text-anchor=\"start\" x=\"156.5\" y=\"-40.3\" font-family=\"Times New Roman,serif\" font-size=\"14.00\">solve</text>\r\n",
       "<text text-anchor=\"start\" x=\"139.5\" y=\"-25.3\" font-family=\"Times New Roman,serif\" font-size=\"14.00\">aggregation</text>\r\n",
       "<text text-anchor=\"start\" x=\"159.5\" y=\"-10.3\" font-family=\"Times New Roman,serif\" font-size=\"14.00\">time</text>\r\n",
       "</g>\r\n",
       "<!-- 165&#45;&gt;180 -->\r\n",
       "<g id=\"edge9\" class=\"edge\"><title>165&#45;&gt;180</title>\r\n",
       "<path fill=\"none\" stroke=\"black\" stroke-width=\"2.44\" d=\"M171.5,-253.817C171.5,-240.488 171.5,-226.766 171.5,-213.28\"/>\r\n",
       "<polygon fill=\"black\" stroke=\"black\" stroke-width=\"2.44\" points=\"175,-213.023 171.5,-203.024 168,-213.024 175,-213.023\"/>\r\n",
       "<text text-anchor=\"middle\" x=\"184\" y=\"-224.8\" font-family=\"Times New Roman,serif\" font-size=\"14.00\" fill=\"red\">0.58</text>\r\n",
       "</g>\r\n",
       "<!-- 152&#45;&gt;165 -->\r\n",
       "<g id=\"edge10\" class=\"edge\"><title>152&#45;&gt;165</title>\r\n",
       "<path fill=\"none\" stroke=\"black\" stroke-width=\"7.66\" d=\"M171.5,-507.817C171.5,-494.488 171.5,-480.766 171.5,-467.28\"/>\r\n",
       "<polygon fill=\"black\" stroke=\"black\" stroke-width=\"7.66\" points=\"178.203,-467.023 171.5,-457.024 164.798,-467.024 178.203,-467.023\"/>\r\n",
       "<text text-anchor=\"middle\" x=\"184\" y=\"-478.8\" font-family=\"Times New Roman,serif\" font-size=\"14.00\" fill=\"red\">0.87</text>\r\n",
       "</g>\r\n",
       "</g>\r\n",
       "</svg>\r\n"
      ],
      "text/plain": [
       "<graphviz.dot.Digraph at 0x1ddb13f5988>"
      ]
     },
     "execution_count": 56,
     "metadata": {},
     "output_type": "execute_result"
    }
   ],
   "source": [
    "g = drawPivotGraph(beta, subgraphFuture, subgraphPast, periodList, labels)\n",
    "g.attr(size = '10')\n",
    "g"
   ]
  }
 ],
 "metadata": {
  "kernelspec": {
   "display_name": "Python 3",
   "language": "python",
   "name": "python3"
  },
  "language_info": {
   "codemirror_mode": {
    "name": "ipython",
    "version": 3
   },
   "file_extension": ".py",
   "mimetype": "text/x-python",
   "name": "python",
   "nbconvert_exporter": "python",
   "pygments_lexer": "ipython3",
   "version": "3.7.4"
  }
 },
 "nbformat": 4,
 "nbformat_minor": 4
}
