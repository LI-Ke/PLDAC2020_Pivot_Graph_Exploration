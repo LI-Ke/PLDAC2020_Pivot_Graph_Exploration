{
 "cells": [
  {
   "cell_type": "markdown",
   "metadata": {},
   "source": [
    "### CORONA VIRUS: data preparation notebook\n",
    "\n",
    "- download : \n",
    "    - corona_research : https://nuage.lip6.fr/s/XnbmSioDxnw4wbn\n",
    "    - covid_all : https://nuage.lip6.fr/s/FAcrKeNDkwZmNR5\n",
    "- move zip file into data subdirectory\n",
    "- unzip \n",
    "\n",
    "see also: https://nuage.lip6.fr/s/7z8JXmWMnxC3fAR"
   ]
  },
  {
   "cell_type": "markdown",
   "metadata": {},
   "source": [
    "## Import"
   ]
  },
  {
   "cell_type": "markdown",
   "metadata": {},
   "source": [
    "#### Import for spark"
   ]
  },
  {
   "cell_type": "code",
   "execution_count": 1,
   "metadata": {},
   "outputs": [],
   "source": [
    "import findspark\n",
    "findspark.init()\n",
    "from pyspark.sql import *\n",
    "from pyspark import SparkConf\n",
    "from pyspark.sql.functions import *\n",
    "from pyspark.sql.types import *\n",
    "import time"
   ]
  },
  {
   "cell_type": "markdown",
   "metadata": {},
   "source": [
    "#### Import for visualization"
   ]
  },
  {
   "cell_type": "code",
   "execution_count": 2,
   "metadata": {},
   "outputs": [],
   "source": [
    "import pandas as pd\n",
    "import numpy as np\n",
    "\n",
    "import matplotlib.pyplot as plt\n",
    "# plt.style.use('ggplot')\n",
    "import seaborn as sns\n",
    "\n",
    "from graphviz import *\n",
    "\n",
    "from IPython.display import display, HTML"
   ]
  },
  {
   "cell_type": "markdown",
   "metadata": {},
   "source": [
    "#### Import needed for interaction"
   ]
  },
  {
   "cell_type": "code",
   "execution_count": 3,
   "metadata": {},
   "outputs": [],
   "source": [
    "# interaction\n",
    "# from __future__ import print_function\n",
    "# from ipywidgets import interact, interactive, fixed, interact_manual\n",
    "# import ipywidgets as widgets"
   ]
  },
  {
   "cell_type": "markdown",
   "metadata": {},
   "source": [
    "#### Start spark engine"
   ]
  },
  {
   "cell_type": "code",
   "execution_count": 4,
   "metadata": {
    "scrolled": true
   },
   "outputs": [
    {
     "name": "stdout",
     "output_type": "stream",
     "text": [
      "Spark application id is: local-1587970925011\n"
     ]
    }
   ],
   "source": [
    "#spark.stop()\n",
    "\n",
    "local = \"local[*]\"\n",
    "appName = \"Essai graph spark\"\n",
    "memory=\"8G\"\n",
    "\n",
    "configLocale = SparkConf().setAppName(appName).setMaster(local).\\\n",
    "set(\"spark.executor.memory\", memory).\\\n",
    "set(\"spark.driver.memory\", memory).\\\n",
    "set(\"spark.sql.catalogImplementation\",\"in-memory\")\n",
    "spark = SparkSession.builder.config(conf = configLocale).getOrCreate()\n",
    "sc = spark.sparkContext\n",
    "sc.setLogLevel(\"ERROR\")\n",
    "\n",
    "print(\"Spark application id is:\", sc.applicationId)"
   ]
  },
  {
   "cell_type": "markdown",
   "metadata": {},
   "source": [
    "## Datasets"
   ]
  },
  {
   "cell_type": "code",
   "execution_count": 5,
   "metadata": {
    "scrolled": true
   },
   "outputs": [
    {
     "name": "stdout",
     "output_type": "stream",
     "text": [
      "DATA-DIR:data/covid_all/\n"
     ]
    }
   ],
   "source": [
    "DATA_ROOT = \"data\"\n",
    "#DATA_DIR = DATA_ROOT + \"/wiley/\"\n",
    "# DATA_DIR = DATA_ROOT + \"/glyphosate/\"\n",
    "#DATA_DIR = DATA_ROOT + \"/istex/\"\n",
    "#DATA_DIR = DATA_ROOT + \"/corona_research/\"\n",
    "\n",
    "DATA_DIR = DATA_ROOT + \"/covid_all/\"\n",
    "print('DATA-DIR:' + DATA_DIR)"
   ]
  },
  {
   "cell_type": "markdown",
   "metadata": {},
   "source": [
    "#### Similarity links"
   ]
  },
  {
   "cell_type": "code",
   "execution_count": 6,
   "metadata": {
    "scrolled": true
   },
   "outputs": [
    {
     "name": "stdout",
     "output_type": "stream",
     "text": [
      "+--------+--------+---------------------+\n",
      "|idTopic1|idTopic2|similarity           |\n",
      "+--------+--------+---------------------+\n",
      "|131     |210     |0.001364958292535368 |\n",
      "|10      |87      |0.009523172845844072 |\n",
      "|3       |103     |0.04790370221328211  |\n",
      "|176     |212     |4.4109927468853605E-4|\n",
      "|72      |255     |0.20165052201496036  |\n",
      "+--------+--------+---------------------+\n",
      "only showing top 5 rows\n",
      "\n"
     ]
    }
   ],
   "source": [
    "# similarityLinks = spark.read.json(DATA_DIR + 'similarityLinks')\n",
    "# new version : format = parquet\n",
    "similarityLinks = spark.read.parquet(DATA_DIR + 'similarityLinks')\n",
    "similarityLinks.show(5, False)"
   ]
  },
  {
   "cell_type": "markdown",
   "metadata": {},
   "source": [
    "#### Topic nodes"
   ]
  },
  {
   "cell_type": "code",
   "execution_count": 7,
   "metadata": {},
   "outputs": [
    {
     "name": "stdout",
     "output_type": "stream",
     "text": [
      "+---------+-------+------------+------+---------------------+\n",
      "|period   |idTopic|localTopicId|term  |weight               |\n",
      "+---------+-------+------------+------+---------------------+\n",
      "|2002-2004|0      |0           |380963|0.06985553577510184  |\n",
      "|2002-2004|0      |0           |246532|0.05502220925360127  |\n",
      "|2002-2004|0      |0           |846801|0.024126435517049457 |\n",
      "|2002-2004|0      |0           |161925|0.017378606042565865 |\n",
      "|2002-2004|0      |0           |676048|0.01617533088661616  |\n",
      "|2002-2004|0      |0           |713793|0.015606994232546958 |\n",
      "|2002-2004|0      |0           |447701|0.014840157600143908 |\n",
      "|2002-2004|0      |0           |71987 |0.014618003760596214 |\n",
      "|2002-2004|0      |0           |367830|0.011375705180864847 |\n",
      "|2002-2004|0      |0           |457088|0.009952456157368058 |\n",
      "|2002-2004|0      |0           |396770|0.008458876495966135 |\n",
      "|2002-2004|0      |0           |635533|0.007907879346441044 |\n",
      "|2002-2004|0      |0           |471064|0.007433687309243343 |\n",
      "|2002-2004|0      |0           |416718|0.007347955921602461 |\n",
      "|2002-2004|0      |0           |394233|0.006663832021837588 |\n",
      "|2002-2004|0      |0           |186623|0.00659971232946439  |\n",
      "|2002-2004|0      |0           |649713|0.006572300154297084 |\n",
      "|2002-2004|0      |0           |584515|0.0063320157431766295|\n",
      "|2002-2004|0      |0           |160085|0.0059822591267895756|\n",
      "|2002-2004|0      |0           |95738 |0.0058363170825773145|\n",
      "+---------+-------+------------+------+---------------------+\n",
      "only showing top 20 rows\n",
      "\n"
     ]
    }
   ],
   "source": [
    "#topicNodes = spark.read.json(DATA_DIR + 'topicNodes')\n",
    "topicNodes = spark.read.parquet(DATA_DIR + 'topicNodes')\n",
    "# topicNodes.show(1, False)\n",
    "topicNodes.orderBy(\"idTopic\", desc(\"weight\")).show(20, False)"
   ]
  },
  {
   "cell_type": "code",
   "execution_count": 8,
   "metadata": {},
   "outputs": [
    {
     "name": "stdout",
     "output_type": "stream",
     "text": [
      "+---------+-------+------------+------+--------------------+\n",
      "|period   |idTopic|localTopicId|term  |weight              |\n",
      "+---------+-------+------------+------+--------------------+\n",
      "|2008-2010|110    |20          |765720|0.06789554422804348 |\n",
      "|2008-2010|110    |20          |586602|0.06141977722877482 |\n",
      "|2008-2010|110    |20          |503771|0.04904969921831905 |\n",
      "|2008-2010|110    |20          |853564|0.037297317219535206|\n",
      "|2008-2010|110    |20          |351620|0.03644330345711    |\n",
      "+---------+-------+------------+------+--------------------+\n",
      "only showing top 5 rows\n",
      "\n"
     ]
    }
   ],
   "source": [
    "topicNodes.where(\"idTopic = 110\").show(5, False)"
   ]
  },
  {
   "cell_type": "markdown",
   "metadata": {},
   "source": [
    "#### Term dictionary (terms to display in the global graph)"
   ]
  },
  {
   "cell_type": "code",
   "execution_count": 10,
   "metadata": {},
   "outputs": [
    {
     "name": "stdout",
     "output_type": "stream",
     "text": [
      "+------+-----------------------+\n",
      "|id    |term                   |\n",
      "+------+-----------------------+\n",
      "|759796|probability            |\n",
      "|759825|probable H1N1 pneumonia|\n",
      "|759830|probable SARS          |\n",
      "|759832|probable SARS cases    |\n",
      "|759848|probable cases         |\n",
      "+------+-----------------------+\n",
      "only showing top 5 rows\n",
      "\n"
     ]
    }
   ],
   "source": [
    "# vocabularies = spark.read.json(DATA_DIR + 'wiley_CS_voc_199620153220')\n",
    "# vocabularies = spark.read.json(DATA_DIR + 'GlyphosateWoS_voc_199420133230')\n",
    "# vocabularies = spark.read.parquet(DATA_DIR + 'corona_research_voc_200020203290')\n",
    "vocabularies = spark.read.parquet(DATA_DIR + 'covid_all_voc_200020203240')\n",
    "vocabularies.show(5, False)"
   ]
  },
  {
   "cell_type": "code",
   "execution_count": 14,
   "metadata": {},
   "outputs": [
    {
     "name": "stdout",
     "output_type": "stream",
     "text": [
      "+------+-----------+\n",
      "|    id|       term|\n",
      "+------+-----------+\n",
      "|759796|probability|\n",
      "+------+-----------+\n",
      "\n"
     ]
    }
   ],
   "source": [
    "vocabularies.where(\"id = 759796\").show()"
   ]
  },
  {
   "cell_type": "markdown",
   "metadata": {},
   "source": [
    "#### topicDictionary_unique_10"
   ]
  },
  {
   "cell_type": "code",
   "execution_count": 15,
   "metadata": {},
   "outputs": [
    {
     "name": "stdout",
     "output_type": "stream",
     "text": [
      "+-------+---------------------------------------------------------------------------------------------------------------+\n",
      "|idTopic|topic                                                                                                          |\n",
      "+-------+---------------------------------------------------------------------------------------------------------------+\n",
      "|0      |[china, SARS coronavirus, stability, Kawasaki disease, neutralizing, overview, diversity, Comparative analysis]|\n",
      "|217    |[mice, Zika virus infection, persistence, mouse model, influenza virus infection, microglia, brain, drive]     |\n",
      "+-------+---------------------------------------------------------------------------------------------------------------+\n",
      "only showing top 2 rows\n",
      "\n"
     ]
    }
   ],
   "source": [
    "# topicDictionary_unique_10 = spark.read.json(DATA_DIR + 'topicDictionary_unique_10')\n",
    "# corona_research :\n",
    "topicDictionary_unique_10 = spark.read.parquet(DATA_DIR + 'topicDictionary_unique_8')\n",
    "topicDictionary_unique_10.show(2, False)\n",
    "# topicDictionary_unique_10.groupBy().max(\"idTopic\").show()"
   ]
  },
  {
   "cell_type": "code",
   "execution_count": 16,
   "metadata": {},
   "outputs": [
    {
     "name": "stdout",
     "output_type": "stream",
     "text": [
      "+-------+--------------------------------------------------------------------------------------+\n",
      "|idTopic|topic                                                                                 |\n",
      "+-------+--------------------------------------------------------------------------------------+\n",
      "|110    |[protein, interaction, function, structure, binding, replication, blocking, mutations]|\n",
      "+-------+--------------------------------------------------------------------------------------+\n",
      "\n"
     ]
    }
   ],
   "source": [
    "topicDictionary_unique_10.where(\"idTopic = 110\").show(1, False)"
   ]
  },
  {
   "cell_type": "markdown",
   "metadata": {},
   "source": [
    "#### evolutionPath"
   ]
  },
  {
   "cell_type": "code",
   "execution_count": 19,
   "metadata": {},
   "outputs": [],
   "source": [
    "beta=0.5\n",
    "\n",
    "# corona_research\n",
    "# nbTopicPerPeriod = 90\n",
    "\n",
    "# covid all\n",
    "nbTopicPerPeriod = 30\n",
    "\n",
    "pivotDir = str(beta)+\"_\" + str(nbTopicPerPeriod) + \"_0.0_8/\"\n",
    "\n",
    "# future = spark.read.json(DATA_DIR + '/evolutionPath/' + pivotDir + \"future\")\n",
    "# past = spark.read.json(DATA_DIR + '/evolutionPath/' + pivotDir + \"past\")\n",
    "# labels = spark.read.json(DATA_DIR + '/evolutionPath/' + pivotDir + \"labels\")\n",
    "\n",
    "future = spark.read.parquet(DATA_DIR + '/evolutionPath/' + pivotDir + \"future\")\n",
    "past = spark.read.parquet(DATA_DIR + '/evolutionPath/' + pivotDir + \"past\")\n",
    "labels = spark.read.parquet(DATA_DIR + '/evolutionPath/' + pivotDir + \"labels\")\n",
    "\n",
    "\n",
    "# future.show(1, False)\n",
    "# past.show(1, False)\n",
    "# labels.show(1, False)"
   ]
  },
  {
   "cell_type": "code",
   "execution_count": 20,
   "metadata": {},
   "outputs": [
    {
     "name": "stdout",
     "output_type": "stream",
     "text": [
      "root\n",
      " |-- Ti: long (nullable = true)\n",
      " |-- Pi: integer (nullable = true)\n",
      " |-- Tj: long (nullable = true)\n",
      " |-- Pj: integer (nullable = true)\n",
      " |-- Tk: long (nullable = true)\n",
      " |-- Pk: integer (nullable = true)\n",
      " |-- Beta: double (nullable = true)\n",
      " |-- Alpha: double (nullable = true)\n",
      " |-- localRank: integer (nullable = true)\n",
      " |-- TopicI: array (nullable = true)\n",
      " |    |-- element: string (containsNull = true)\n",
      " |-- TopicJ: array (nullable = true)\n",
      " |    |-- element: string (containsNull = true)\n",
      " |-- TopicK: array (nullable = true)\n",
      " |    |-- element: string (containsNull = true)\n",
      "\n"
     ]
    }
   ],
   "source": [
    "future.printSchema()"
   ]
  },
  {
   "cell_type": "code",
   "execution_count": 21,
   "metadata": {},
   "outputs": [
    {
     "name": "stdout",
     "output_type": "stream",
     "text": [
      "done\n"
     ]
    }
   ],
   "source": [
    "#labels.printSchema()\n",
    "labels.createOrReplaceTempView(\"labels\")\n",
    "print(\"done\")"
   ]
  },
  {
   "cell_type": "markdown",
   "metadata": {},
   "source": [
    "#### Metrics"
   ]
  },
  {
   "cell_type": "code",
   "execution_count": 22,
   "metadata": {},
   "outputs": [],
   "source": [
    "# stats_future = spark.read.json(DATA_DIR + 'statistics_future')\n",
    "stats_future = spark.read.parquet(DATA_DIR + 'statistics_future')"
   ]
  },
  {
   "cell_type": "code",
   "execution_count": 23,
   "metadata": {},
   "outputs": [
    {
     "name": "stdout",
     "output_type": "stream",
     "text": [
      "root\n",
      " |-- TopicID: long (nullable = true)\n",
      " |-- Beta: double (nullable = true)\n",
      " |-- Startyear: integer (nullable = true)\n",
      " |-- Endyear: integer (nullable = true)\n",
      " |-- Liveliness: integer (nullable = true)\n",
      " |-- RelativeEvolutionDegree: double (nullable = true)\n",
      " |-- PivotEvolutionDegree: double (nullable = true)\n",
      " |-- SplitDegree: double (nullable = true)\n",
      " |-- ConvergenceDegree: double (nullable = true)\n",
      " |-- stable: array (nullable = true)\n",
      " |    |-- element: string (containsNull = true)\n",
      " |-- emerging: array (nullable = true)\n",
      " |    |-- element: string (containsNull = true)\n",
      " |-- decaying: array (nullable = true)\n",
      " |    |-- element: string (containsNull = true)\n",
      " |-- specific: array (nullable = true)\n",
      " |    |-- element: string (containsNull = true)\n",
      "\n"
     ]
    }
   ],
   "source": [
    "stats_future.printSchema()"
   ]
  },
  {
   "cell_type": "code",
   "execution_count": 24,
   "metadata": {},
   "outputs": [
    {
     "name": "stdout",
     "output_type": "stream",
     "text": [
      "+-------+----+---------+-------+----------+-----------------------+--------------------+-----------+-----------------+-------------------------------------------------------------------------------------------+------------------------------------------------------------------------------------------------------------+---------------------------+--------------------+\n",
      "|TopicID|Beta|Startyear|Endyear|Liveliness|RelativeEvolutionDegree|PivotEvolutionDegree|SplitDegree|ConvergenceDegree|stable                                                                                     |emerging                                                                                                    |decaying                   |specific            |\n",
      "+-------+----+---------+-------+----------+-----------------------+--------------------+-----------+-----------------+-------------------------------------------------------------------------------------------+------------------------------------------------------------------------------------------------------------+---------------------------+--------------------+\n",
      "|11     |0.1 |2002     |2004   |8         |0.687                  |0.889               |1.625      |1.182            |[]                                                                                         |[comparison, evidence, proteomics, Gene expression profiling, West Nile virus, systematic review, screening]|[]                         |[future]            |\n",
      "|129    |0.1 |2010     |2012   |4         |0.673                  |0.79                |2.412      |1.414            |[response, induction, viral infection, production, play, triggers, macrophages, interferon]|[]                                                                                                          |[]                         |[]                  |\n",
      "|191    |0.1 |2014     |2016   |2         |0.714                  |0.751               |2.0        |1.0              |[countries, public health]                                                                 |[implementation]                                                                                            |[learned, care, importance]|[ebola, integration]|\n",
      "+-------+----+---------+-------+----------+-----------------------+--------------------+-----------+-----------------+-------------------------------------------------------------------------------------------+------------------------------------------------------------------------------------------------------------+---------------------------+--------------------+\n",
      "only showing top 3 rows\n",
      "\n"
     ]
    }
   ],
   "source": [
    "stats_future.show(3, False)"
   ]
  },
  {
   "cell_type": "markdown",
   "metadata": {},
   "source": [
    "#### Draw pivot graphs"
   ]
  },
  {
   "cell_type": "markdown",
   "metadata": {},
   "source": [
    "##### Get the period list of the given corpus"
   ]
  },
  {
   "cell_type": "code",
   "execution_count": 25,
   "metadata": {},
   "outputs": [
    {
     "data": {
      "text/plain": [
       "[Row(period='2002-2004'),\n",
       " Row(period='2004-2006'),\n",
       " Row(period='2006-2008'),\n",
       " Row(period='2008-2010'),\n",
       " Row(period='2010-2012'),\n",
       " Row(period='2012-2014'),\n",
       " Row(period='2014-2016'),\n",
       " Row(period='2016-2018'),\n",
       " Row(period='2018-2019')]"
      ]
     },
     "execution_count": 25,
     "metadata": {},
     "output_type": "execute_result"
    }
   ],
   "source": [
    "periodList = topicNodes.select(\"period\").distinct().orderBy(\"period\").collect()\n",
    "periodList"
   ]
  },
  {
   "cell_type": "markdown",
   "metadata": {},
   "source": [
    "##### Define functions to draw pivot graphs by using Graphviz library"
   ]
  },
  {
   "cell_type": "code",
   "execution_count": 26,
   "metadata": {},
   "outputs": [
    {
     "name": "stdout",
     "output_type": "stream",
     "text": [
      "fonction defined!\n"
     ]
    }
   ],
   "source": [
    "# define timeline graph funtion\n",
    "def generateSVGSubgraphTimeline(graph, subgraph, periodList):\n",
    "    pj = subgraph.select(col(\"Pj\").alias(\"p\"))\n",
    "    pk = subgraph.select(col(\"Pk\").alias(\"p\"))\n",
    "    p = pj.union(pk).distinct()\n",
    "    \n",
    "    # draw timeline\n",
    "    # period nodes\n",
    "    for periodId in p.collect():\n",
    "        graph.node('P'+str(periodId.p), shape=\"plaintext\", label=periodList[periodId[0]][0])\n",
    "    \n",
    "    # period edges\n",
    "    edges = subgraph.select('Pj', 'Pk').distinct()\n",
    "    for e in edges.collect():\n",
    "        if (e.Pj < e.Pk):\n",
    "            graph.edge('P'+str(e.Pj), 'P'+str(e.Pk))\n",
    "        else:\n",
    "            graph.edge('P'+str(e.Pk), 'P'+str(e.Pj))\n",
    "            \n",
    "    return graph\n",
    "\n",
    "# g = Digraph('g2', format='png')\n",
    "# graphTimeline = generateSVGSubgraphTimeline(g, subgraphFuture, periodList)\n",
    "# graphTimeline\n",
    "\n",
    "\n",
    "# label topics\n",
    "def topicLabeling(graph, labels):\n",
    "    for row in labels.select(\"Ti\",\"stable\", \"emerging\", \"decaying\", \"specific\").collect():\n",
    "        label = \"<table border=\\\"0\\\" cellspacing=\\\"0\\\">\" + \\\n",
    "        \"\\n                    <tr><td border=\\\"1\\\">id:\"+ str(row.Ti) + \"</td></tr>\" + \\\n",
    "        \"\\n                    <tr><td border=\\\"1\\\" bgcolor=\\\"deepskyblue\\\">\"+ \"<br/>\".join(row.stable) + \"</td></tr>\" + \\\n",
    "        \"\\n                    <tr><td border=\\\"1\\\" bgcolor=\\\"green2\\\">\"+ \"<br/>\".join(row.emerging) + \"</td></tr>\" + \\\n",
    "        \"\\n                    <tr><td border=\\\"1\\\" bgcolor=\\\"red2\\\">\"+ \"<br/>\".join(row.decaying) + \"</td></tr>\" + \\\n",
    "        \"\\n                    <tr><td border=\\\"1\\\">\"+\"<br/>\".join(row.specific) + \"</td></tr>\" +\"\\n                </table>\"\n",
    "        graph.node(str(row.Ti), shape=\"none\", label=\"<\" + label + \">\")\n",
    "    \n",
    "    return graph\n",
    "\n",
    "\n",
    "# align subnodes in pivot graph\n",
    "def subgraphLabeling(graph, beta, periodList, timeDirection, subgraph, pivotLabels):\n",
    "    # draw timeline\n",
    "    graphTimeline = generateSVGSubgraphTimeline(graph, subgraph, periodList)\n",
    "    \n",
    "    parentsInPivotGraph = [ (x.Tj) for x in subgraph.select(\"Tj\").distinct().collect()]\n",
    "    childrenInPivotGraph = [ (x.Tk) for x in subgraph.select(\"Tk\").distinct().collect()]\n",
    "    topicsInPivotGraph = parentsInPivotGraph + childrenInPivotGraph\n",
    "    subNodesLabels = pivotLabels.filter(col(\"Ti\").isin(topicsInPivotGraph))\n",
    "    graphTopicLabels = topicLabeling(graphTimeline, subNodesLabels)\n",
    "    \n",
    "    if (timeDirection == \"future\"):\n",
    "      for e in subgraph.select( \"Tj\", \"Tk\", \"Beta\").distinct().collect():\n",
    "        width = str((np.round(e.Beta, 2)-beta)*(10-1)/(1-beta)+1)\n",
    "        graphTopicLabels.edge(str(e.Tj), str(e.Tk), penwidth=width, label=str(np.round(e.Beta, 2)), fontcolor='red')\n",
    "    else:\n",
    "      for e in subgraph.select( \"Tk\", \"Tj\", \"Beta\").distinct().collect():\n",
    "        width = str((np.round(e.Beta, 2)-beta)*(10-1)/(1-beta)+1)\n",
    "        graphTopicLabels.edge(str(e.Tk), str(e.Tj), penwidth=width, label=str(np.round(e.Beta, 2)), fontcolor='red')\n",
    "    \n",
    "    # align topic nodes {rank: same}\n",
    "    \n",
    "    return graphTopicLabels\n",
    "\n",
    "# draw bidirectional pivot graph    \n",
    "def bidirectionPivotGraph(graph, beta, periodList, subgraphFuture, subgraphPast, pivotLabels):\n",
    "    # draw timeline\n",
    "    graph1 = generateSVGSubgraphTimeline(graph, subgraphFuture, periodList)\n",
    "    graph2 = generateSVGSubgraphTimeline(graph1, subgraphPast, periodList)\n",
    "    \n",
    "    parentsInPivotGraphFuture = [ (x.Tj) for x in subgraphFuture.select(\"Tj\").distinct().collect()]\n",
    "    childrenInPivotGraphFuture = [ (x.Tk) for x in subgraphFuture.select(\"Tk\").distinct().collect()]\n",
    "    parentsInPivotGraphPast = [ (x.Tj) for x in subgraphPast.select(\"Tj\").distinct().collect()]\n",
    "    childrenInPivotGraphPast = [ (x.Tk) for x in subgraphPast.select(\"Tk\").distinct().collect()]\n",
    "    topicsInPivotGraph = parentsInPivotGraphFuture + childrenInPivotGraphFuture + parentsInPivotGraphPast + childrenInPivotGraphPast\n",
    "    # label topics in pivot graph\n",
    "    subNodesLabels = pivotLabels.filter(col(\"Ti\").isin(topicsInPivotGraph))\n",
    "    graphTopicLabels = topicLabeling(graph2, subNodesLabels)\n",
    "    \n",
    "    nodeLinksFuture = subgraphFuture.select( col(\"Tj\").alias(\"From\"), col(\"Tk\").alias(\"To\"), col(\"Beta\")).distinct()\n",
    "    nodeLinksPast = subgraphPast.select( col(\"Tk\").alias(\"From\"), col(\"Tj\").alias(\"To\"), col(\"Beta\")).distinct()\n",
    "    nodeLinks = nodeLinksFuture.union(nodeLinksPast)\n",
    "    for e in nodeLinks.collect():\n",
    "        width = str((np.round(e.Beta, 2)-beta)*(10-1)/(1-beta)+1)\n",
    "        graphTopicLabels.edge(str(e.From), str(e.To), penwidth=width, label=str(np.round(e.Beta, 2)), fontcolor='red')\n",
    "    \n",
    "    # align topic nodes {rank: same}   \n",
    "    \n",
    "    return graphTopicLabels\n",
    "    \n",
    "print(\"fonction defined!\")    "
   ]
  },
  {
   "cell_type": "code",
   "execution_count": 27,
   "metadata": {},
   "outputs": [],
   "source": [
    "def drawPivotGraph(beta, subgraphFuture, subgraphPast, periodList, pivotLabels):\n",
    "    g = Digraph('G', format='png')\n",
    "    if ((subgraphFuture.count() == 0) and (subgraphPast.count() > 0)):\n",
    "      g = subgraphLabeling(g, beta, periodList, \"past\", subgraphPast, pivotLabels)\n",
    "    elif ((subgraphFuture.count() > 0) and (subgraphPast.count() == 0)):\n",
    "      g = subgraphLabeling(g, beta, periodList, \"future\", subgraphFuture, pivotLabels)\n",
    "    else:\n",
    "      g = bidirectionPivotGraph(g, beta, periodList, subgraphFuture, subgraphPast, pivotLabels)\n",
    "\n",
    "    return g"
   ]
  },
  {
   "cell_type": "markdown",
   "metadata": {},
   "source": [
    "##### Here we make an example"
   ]
  },
  {
   "cell_type": "code",
   "execution_count": 28,
   "metadata": {},
   "outputs": [],
   "source": [
    "### beta has been given above\n",
    "topicId = 113\n",
    "subgraphFuture = future.where(col(\"Ti\") == topicId)\n",
    "subgraphPast = past.where(col(\"Ti\") == topicId)\n",
    "topicId = 136\n",
    "subgraphFuture = subgraphFuture.union(future.where(col(\"Ti\") == topicId))\n",
    "subgraphPast = subgraphPast.union(past.where(col(\"Ti\") == topicId))\n",
    "topicId = 157\n",
    "subgraphFuture = subgraphFuture.union(future.where(col(\"Ti\") == topicId))\n",
    "subgraphPast = subgraphPast.union(past.where(col(\"Ti\") == topicId))\n",
    "topicId = 178\n",
    "subgraphFuture = subgraphFuture.union(future.where(col(\"Ti\") == topicId))\n",
    "subgraphPast = subgraphPast.union(past.where(col(\"Ti\") == topicId))\n",
    "topicId = 10\n",
    "subgraphFuture = subgraphFuture.union(future.where(col(\"Ti\") == topicId))\n",
    "subgraphPast = subgraphPast.union(past.where(col(\"Ti\") == topicId))\n"
   ]
  },
  {
   "cell_type": "code",
   "execution_count": 29,
   "metadata": {},
   "outputs": [
    {
     "name": "stdout",
     "output_type": "stream",
     "text": [
      "root\n",
      " |-- Ti: long (nullable = true)\n",
      " |-- Pi: integer (nullable = true)\n",
      " |-- Tj: long (nullable = true)\n",
      " |-- Pj: integer (nullable = true)\n",
      " |-- Tk: long (nullable = true)\n",
      " |-- Pk: integer (nullable = true)\n",
      " |-- Beta: double (nullable = true)\n",
      " |-- Alpha: double (nullable = true)\n",
      " |-- localRank: integer (nullable = true)\n",
      " |-- TopicI: array (nullable = true)\n",
      " |    |-- element: string (containsNull = true)\n",
      " |-- TopicJ: array (nullable = true)\n",
      " |    |-- element: string (containsNull = true)\n",
      " |-- TopicK: array (nullable = true)\n",
      " |    |-- element: string (containsNull = true)\n",
      "\n",
      "root\n",
      " |-- Ti: long (nullable = true)\n",
      " |-- stable: array (nullable = true)\n",
      " |    |-- element: string (containsNull = true)\n",
      " |-- emerging: array (nullable = true)\n",
      " |    |-- element: string (containsNull = true)\n",
      " |-- decaying: array (nullable = true)\n",
      " |    |-- element: string (containsNull = true)\n",
      " |-- specific: array (nullable = true)\n",
      " |    |-- element: string (containsNull = true)\n",
      "\n"
     ]
    }
   ],
   "source": [
    "future.printSchema()\n",
    "labels.printSchema()"
   ]
  },
  {
   "cell_type": "code",
   "execution_count": 30,
   "metadata": {},
   "outputs": [
    {
     "name": "stdout",
     "output_type": "stream",
     "text": [
      "114\n",
      "190\n"
     ]
    }
   ],
   "source": [
    "### beta has been given above\n",
    "topicIds=labels.where(array_contains(col(\"emerging\"),\"toxicity\") \n",
    "                       | array_contains(col(\"emerging\"),\"pesticides\")\n",
    "                       | array_contains(col(\"emerging\"),\"contamination\")\n",
    "                       | array_contains(col(\"emerging\"),\"pollutants\")\n",
    "                       | array_contains(col(\"emerging\"),\"toxic effects\")\n",
    "                       | array_contains(col(\"emerging\"),\"acute toxicity\")\n",
    "                       | array_contains(col(\"emerging\"),\"risk\")\n",
    "                       | array_contains(col(\"emerging\"),\"cancers\")\n",
    "                      | array_contains(col(\"emerging\"),\"health\")\n",
    "                       | array_contains(col(\"emerging\"),\"children\")\n",
    "                     ).select(col(\"Ti\")).collect()\n",
    "if (topicIds):\n",
    "    topicId=topicIds[0]\n",
    "    subgraphFuture = future.where(col(\"Ti\") == topicId[0])\n",
    "    subgraphPast = past.where(col(\"Ti\") == topicId[0])\n",
    "    for topicId in topicIds[1:]:\n",
    "        print(topicId[0])\n",
    "        subgraphFuture = subgraphFuture.union(future.where(col(\"Ti\") == topicId[0]))\n",
    "        subgraphPast = subgraphPast.union(past.where(col(\"Ti\") == topicId[0]))\n"
   ]
  },
  {
   "cell_type": "code",
   "execution_count": 31,
   "metadata": {},
   "outputs": [
    {
     "data": {
      "image/svg+xml": [
       "<?xml version=\"1.0\" encoding=\"UTF-8\" standalone=\"no\"?>\r\n",
       "<!DOCTYPE svg PUBLIC \"-//W3C//DTD SVG 1.1//EN\"\r\n",
       " \"http://www.w3.org/Graphics/SVG/1.1/DTD/svg11.dtd\">\r\n",
       "<!-- Generated by graphviz version 2.38.0 (20140413.2041)\r\n",
       " -->\r\n",
       "<!-- Title: G Pages: 1 -->\r\n",
       "<svg width=\"673pt\" height=\"1301pt\"\r\n",
       " viewBox=\"0.00 0.00 673.00 1301.00\" xmlns=\"http://www.w3.org/2000/svg\" xmlns:xlink=\"http://www.w3.org/1999/xlink\">\r\n",
       "<g id=\"graph0\" class=\"graph\" transform=\"scale(1 1) rotate(0) translate(4 1297)\">\r\n",
       "<title>G</title>\r\n",
       "<polygon fill=\"white\" stroke=\"none\" points=\"-4,4 -4,-1297 669,-1297 669,4 -4,4\"/>\r\n",
       "<!-- P1 -->\r\n",
       "<g id=\"node1\" class=\"node\"><title>P1</title>\r\n",
       "<text text-anchor=\"middle\" x=\"37.5\" y=\"-1202.8\" font-family=\"Times New Roman,serif\" font-size=\"14.00\">2004&#45;2006</text>\r\n",
       "</g>\r\n",
       "<!-- P2 -->\r\n",
       "<g id=\"node8\" class=\"node\"><title>P2</title>\r\n",
       "<text text-anchor=\"middle\" x=\"37.5\" y=\"-978.8\" font-family=\"Times New Roman,serif\" font-size=\"14.00\">2006&#45;2008</text>\r\n",
       "</g>\r\n",
       "<!-- P1&#45;&gt;P2 -->\r\n",
       "<g id=\"edge1\" class=\"edge\"><title>P1&#45;&gt;P2</title>\r\n",
       "<path fill=\"none\" stroke=\"black\" d=\"M37.5,-1188.45C37.5,-1150.19 37.5,-1057.25 37.5,-1010.82\"/>\r\n",
       "<polygon fill=\"black\" stroke=\"black\" points=\"41.0001,-1010.61 37.5,-1000.61 34.0001,-1010.61 41.0001,-1010.61\"/>\r\n",
       "</g>\r\n",
       "<!-- P6 -->\r\n",
       "<g id=\"node2\" class=\"node\"><title>P6</title>\r\n",
       "<text text-anchor=\"middle\" x=\"130.5\" y=\"-530.8\" font-family=\"Times New Roman,serif\" font-size=\"14.00\">2014&#45;2016</text>\r\n",
       "</g>\r\n",
       "<!-- P7 -->\r\n",
       "<g id=\"node7\" class=\"node\"><title>P7</title>\r\n",
       "<text text-anchor=\"middle\" x=\"130.5\" y=\"-306.8\" font-family=\"Times New Roman,serif\" font-size=\"14.00\">2016&#45;2018</text>\r\n",
       "</g>\r\n",
       "<!-- P6&#45;&gt;P7 -->\r\n",
       "<g id=\"edge3\" class=\"edge\"><title>P6&#45;&gt;P7</title>\r\n",
       "<path fill=\"none\" stroke=\"black\" d=\"M130.5,-516.449C130.5,-478.192 130.5,-385.247 130.5,-338.825\"/>\r\n",
       "<polygon fill=\"black\" stroke=\"black\" points=\"134,-338.609 130.5,-328.609 127,-338.609 134,-338.609\"/>\r\n",
       "</g>\r\n",
       "<!-- P3 -->\r\n",
       "<g id=\"node3\" class=\"node\"><title>P3</title>\r\n",
       "<text text-anchor=\"middle\" x=\"130.5\" y=\"-1202.8\" font-family=\"Times New Roman,serif\" font-size=\"14.00\">2008&#45;2010</text>\r\n",
       "</g>\r\n",
       "<!-- P4 -->\r\n",
       "<g id=\"node5\" class=\"node\"><title>P4</title>\r\n",
       "<text text-anchor=\"middle\" x=\"130.5\" y=\"-978.8\" font-family=\"Times New Roman,serif\" font-size=\"14.00\">2010&#45;2012</text>\r\n",
       "</g>\r\n",
       "<!-- P3&#45;&gt;P4 -->\r\n",
       "<g id=\"edge5\" class=\"edge\"><title>P3&#45;&gt;P4</title>\r\n",
       "<path fill=\"none\" stroke=\"black\" d=\"M130.5,-1188.45C130.5,-1150.19 130.5,-1057.25 130.5,-1010.82\"/>\r\n",
       "<polygon fill=\"black\" stroke=\"black\" points=\"134,-1010.61 130.5,-1000.61 127,-1010.61 134,-1010.61\"/>\r\n",
       "</g>\r\n",
       "<!-- P5 -->\r\n",
       "<g id=\"node4\" class=\"node\"><title>P5</title>\r\n",
       "<text text-anchor=\"middle\" x=\"130.5\" y=\"-754.8\" font-family=\"Times New Roman,serif\" font-size=\"14.00\">2012&#45;2014</text>\r\n",
       "</g>\r\n",
       "<!-- P5&#45;&gt;P6 -->\r\n",
       "<g id=\"edge2\" class=\"edge\"><title>P5&#45;&gt;P6</title>\r\n",
       "<path fill=\"none\" stroke=\"black\" d=\"M130.5,-740.449C130.5,-702.192 130.5,-609.247 130.5,-562.825\"/>\r\n",
       "<polygon fill=\"black\" stroke=\"black\" points=\"134,-562.609 130.5,-552.609 127,-562.609 134,-562.609\"/>\r\n",
       "</g>\r\n",
       "<!-- P4&#45;&gt;P5 -->\r\n",
       "<g id=\"edge6\" class=\"edge\"><title>P4&#45;&gt;P5</title>\r\n",
       "<path fill=\"none\" stroke=\"black\" d=\"M130.5,-964.449C130.5,-926.192 130.5,-833.247 130.5,-786.825\"/>\r\n",
       "<polygon fill=\"black\" stroke=\"black\" points=\"134,-786.609 130.5,-776.609 127,-786.609 134,-786.609\"/>\r\n",
       "</g>\r\n",
       "<!-- P8 -->\r\n",
       "<g id=\"node6\" class=\"node\"><title>P8</title>\r\n",
       "<text text-anchor=\"middle\" x=\"130.5\" y=\"-82.8\" font-family=\"Times New Roman,serif\" font-size=\"14.00\">2018&#45;2019</text>\r\n",
       "</g>\r\n",
       "<!-- P7&#45;&gt;P8 -->\r\n",
       "<g id=\"edge4\" class=\"edge\"><title>P7&#45;&gt;P8</title>\r\n",
       "<path fill=\"none\" stroke=\"black\" d=\"M130.5,-292.449C130.5,-254.192 130.5,-161.247 130.5,-114.825\"/>\r\n",
       "<polygon fill=\"black\" stroke=\"black\" points=\"134,-114.609 130.5,-104.609 127,-114.609 134,-114.609\"/>\r\n",
       "</g>\r\n",
       "<!-- 184 -->\r\n",
       "<g id=\"node9\" class=\"node\"><title>184</title>\r\n",
       "<polygon fill=\"none\" stroke=\"black\" points=\"251.5,-595.5 251.5,-616.5 360.5,-616.5 360.5,-595.5 251.5,-595.5\"/>\r\n",
       "<text text-anchor=\"start\" x=\"289\" y=\"-602.3\" font-family=\"Times New Roman,serif\" font-size=\"14.00\">id:184</text>\r\n",
       "<polygon fill=\"deepskyblue\" stroke=\"none\" points=\"251.5,-514.5 251.5,-595.5 360.5,-595.5 360.5,-514.5 251.5,-514.5\"/>\r\n",
       "<polygon fill=\"none\" stroke=\"black\" points=\"251.5,-514.5 251.5,-595.5 360.5,-595.5 360.5,-514.5 251.5,-514.5\"/>\r\n",
       "<text text-anchor=\"start\" x=\"280\" y=\"-581.3\" font-family=\"Times New Roman,serif\" font-size=\"14.00\">detection</text>\r\n",
       "<text text-anchor=\"start\" x=\"292\" y=\"-566.3\" font-family=\"Times New Roman,serif\" font-size=\"14.00\">virus</text>\r\n",
       "<text text-anchor=\"start\" x=\"283\" y=\"-551.3\" font-family=\"Times New Roman,serif\" font-size=\"14.00\">samples</text>\r\n",
       "<text text-anchor=\"start\" x=\"284\" y=\"-536.3\" font-family=\"Times New Roman,serif\" font-size=\"14.00\">positive</text>\r\n",
       "<text text-anchor=\"start\" x=\"254.5\" y=\"-521.3\" font-family=\"Times New Roman,serif\" font-size=\"14.00\">respiratory viruses</text>\r\n",
       "<polygon fill=\"#00ee00\" stroke=\"none\" points=\"251.5,-478.5 251.5,-514.5 360.5,-514.5 360.5,-478.5 251.5,-478.5\"/>\r\n",
       "<polygon fill=\"none\" stroke=\"black\" points=\"251.5,-478.5 251.5,-514.5 360.5,-514.5 360.5,-478.5 251.5,-478.5\"/>\r\n",
       "<text text-anchor=\"start\" x=\"281.5\" y=\"-500.3\" font-family=\"Times New Roman,serif\" font-size=\"14.00\">influenza</text>\r\n",
       "<text text-anchor=\"start\" x=\"284\" y=\"-485.3\" font-family=\"Times New Roman,serif\" font-size=\"14.00\">bacteria</text>\r\n",
       "<polygon fill=\"#ee0000\" stroke=\"none\" points=\"251.5,-472.5 251.5,-478.5 360.5,-478.5 360.5,-472.5 251.5,-472.5\"/>\r\n",
       "<polygon fill=\"none\" stroke=\"black\" points=\"251.5,-472.5 251.5,-478.5 360.5,-478.5 360.5,-472.5 251.5,-472.5\"/>\r\n",
       "<polygon fill=\"none\" stroke=\"black\" points=\"251.5,-451.5 251.5,-472.5 360.5,-472.5 360.5,-451.5 251.5,-451.5\"/>\r\n",
       "<text text-anchor=\"start\" x=\"289\" y=\"-458.3\" font-family=\"Times New Roman,serif\" font-size=\"14.00\">illness</text>\r\n",
       "</g>\r\n",
       "<!-- 239 -->\r\n",
       "<g id=\"node10\" class=\"node\"><title>239</title>\r\n",
       "<polygon fill=\"none\" stroke=\"black\" points=\"194.5,-371.5 194.5,-392.5 272.5,-392.5 272.5,-371.5 194.5,-371.5\"/>\r\n",
       "<text text-anchor=\"start\" x=\"216.5\" y=\"-378.3\" font-family=\"Times New Roman,serif\" font-size=\"14.00\">id:239</text>\r\n",
       "<polygon fill=\"deepskyblue\" stroke=\"none\" points=\"194.5,-335.5 194.5,-371.5 272.5,-371.5 272.5,-335.5 194.5,-335.5\"/>\r\n",
       "<polygon fill=\"none\" stroke=\"black\" points=\"194.5,-335.5 194.5,-371.5 272.5,-371.5 272.5,-335.5 194.5,-335.5\"/>\r\n",
       "<text text-anchor=\"start\" x=\"207.5\" y=\"-357.3\" font-family=\"Times New Roman,serif\" font-size=\"14.00\">detection</text>\r\n",
       "<text text-anchor=\"start\" x=\"210.5\" y=\"-342.3\" font-family=\"Times New Roman,serif\" font-size=\"14.00\">samples</text>\r\n",
       "<polygon fill=\"#00ee00\" stroke=\"none\" points=\"194.5,-284.5 194.5,-335.5 272.5,-335.5 272.5,-284.5 194.5,-284.5\"/>\r\n",
       "<polygon fill=\"none\" stroke=\"black\" points=\"194.5,-284.5 194.5,-335.5 272.5,-335.5 272.5,-284.5 194.5,-284.5\"/>\r\n",
       "<text text-anchor=\"start\" x=\"204.5\" y=\"-321.3\" font-family=\"Times New Roman,serif\" font-size=\"14.00\">specificity</text>\r\n",
       "<text text-anchor=\"start\" x=\"206\" y=\"-306.3\" font-family=\"Times New Roman,serif\" font-size=\"14.00\">sensitivity</text>\r\n",
       "<text text-anchor=\"start\" x=\"197.5\" y=\"-291.3\" font-family=\"Times New Roman,serif\" font-size=\"14.00\">development</text>\r\n",
       "<polygon fill=\"#ee0000\" stroke=\"none\" points=\"194.5,-248.5 194.5,-284.5 272.5,-284.5 272.5,-248.5 194.5,-248.5\"/>\r\n",
       "<polygon fill=\"none\" stroke=\"black\" points=\"194.5,-248.5 194.5,-284.5 272.5,-284.5 272.5,-248.5 194.5,-248.5\"/>\r\n",
       "<text text-anchor=\"start\" x=\"207.5\" y=\"-270.3\" font-family=\"Times New Roman,serif\" font-size=\"14.00\">sequence</text>\r\n",
       "<text text-anchor=\"start\" x=\"215\" y=\"-255.3\" font-family=\"Times New Roman,serif\" font-size=\"14.00\">strains</text>\r\n",
       "<polygon fill=\"none\" stroke=\"black\" points=\"194.5,-227.5 194.5,-248.5 272.5,-248.5 272.5,-227.5 194.5,-227.5\"/>\r\n",
       "<text text-anchor=\"start\" x=\"221.5\" y=\"-234.3\" font-family=\"Times New Roman,serif\" font-size=\"14.00\">pigs</text>\r\n",
       "</g>\r\n",
       "<!-- 184&#45;&gt;239 -->\r\n",
       "<g id=\"edge15\" class=\"edge\"><title>184&#45;&gt;239</title>\r\n",
       "<path fill=\"none\" stroke=\"black\" stroke-width=\"6.04\" d=\"M277.766,-447.987C273.431,-434.619 268.926,-420.731 264.523,-407.154\"/>\r\n",
       "<polygon fill=\"black\" stroke=\"black\" stroke-width=\"6.04\" points=\"269.451,-405.218 261.339,-397.336 259.397,-408.479 269.451,-405.218\"/>\r\n",
       "<text text-anchor=\"middle\" x=\"285\" y=\"-418.8\" font-family=\"Times New Roman,serif\" font-size=\"14.00\" fill=\"red\">0.78</text>\r\n",
       "</g>\r\n",
       "<!-- 238 -->\r\n",
       "<g id=\"node11\" class=\"node\"><title>238</title>\r\n",
       "<polygon fill=\"none\" stroke=\"black\" points=\"307.5,-371.5 307.5,-392.5 416.5,-392.5 416.5,-371.5 307.5,-371.5\"/>\r\n",
       "<text text-anchor=\"start\" x=\"345\" y=\"-378.3\" font-family=\"Times New Roman,serif\" font-size=\"14.00\">id:238</text>\r\n",
       "<polygon fill=\"deepskyblue\" stroke=\"none\" points=\"307.5,-335.5 307.5,-371.5 416.5,-371.5 416.5,-335.5 307.5,-335.5\"/>\r\n",
       "<polygon fill=\"none\" stroke=\"black\" points=\"307.5,-335.5 307.5,-371.5 416.5,-371.5 416.5,-335.5 307.5,-335.5\"/>\r\n",
       "<text text-anchor=\"start\" x=\"322\" y=\"-357.3\" font-family=\"Times New Roman,serif\" font-size=\"14.00\">influenza virus</text>\r\n",
       "<text text-anchor=\"start\" x=\"348\" y=\"-342.3\" font-family=\"Times New Roman,serif\" font-size=\"14.00\">virus</text>\r\n",
       "<polygon fill=\"#00ee00\" stroke=\"none\" points=\"307.5,-329.5 307.5,-335.5 416.5,-335.5 416.5,-329.5 307.5,-329.5\"/>\r\n",
       "<polygon fill=\"none\" stroke=\"black\" points=\"307.5,-329.5 307.5,-335.5 416.5,-335.5 416.5,-329.5 307.5,-329.5\"/>\r\n",
       "<polygon fill=\"#ee0000\" stroke=\"none\" points=\"307.5,-248.5 307.5,-329.5 416.5,-329.5 416.5,-248.5 307.5,-248.5\"/>\r\n",
       "<polygon fill=\"none\" stroke=\"black\" points=\"307.5,-248.5 307.5,-329.5 416.5,-329.5 416.5,-248.5 307.5,-248.5\"/>\r\n",
       "<text text-anchor=\"start\" x=\"340\" y=\"-315.3\" font-family=\"Times New Roman,serif\" font-size=\"14.00\">positive</text>\r\n",
       "<text text-anchor=\"start\" x=\"310.5\" y=\"-300.3\" font-family=\"Times New Roman,serif\" font-size=\"14.00\">respiratory viruses</text>\r\n",
       "<text text-anchor=\"start\" x=\"336\" y=\"-285.3\" font-family=\"Times New Roman,serif\" font-size=\"14.00\">detection</text>\r\n",
       "<text text-anchor=\"start\" x=\"340\" y=\"-270.3\" font-family=\"Times New Roman,serif\" font-size=\"14.00\">bacteria</text>\r\n",
       "<text text-anchor=\"start\" x=\"333\" y=\"-255.3\" font-family=\"Times New Roman,serif\" font-size=\"14.00\">circulating</text>\r\n",
       "<polygon fill=\"none\" stroke=\"black\" points=\"307.5,-227.5 307.5,-248.5 416.5,-248.5 416.5,-227.5 307.5,-227.5\"/>\r\n",
       "<text text-anchor=\"start\" x=\"329.5\" y=\"-234.3\" font-family=\"Times New Roman,serif\" font-size=\"14.00\">surveillance</text>\r\n",
       "</g>\r\n",
       "<!-- 184&#45;&gt;238 -->\r\n",
       "<g id=\"edge10\" class=\"edge\"><title>184&#45;&gt;238</title>\r\n",
       "<path fill=\"none\" stroke=\"black\" stroke-width=\"2.44\" d=\"M327.071,-447.987C330.443,-434.619 333.946,-420.731 337.371,-407.154\"/>\r\n",
       "<polygon fill=\"black\" stroke=\"black\" stroke-width=\"2.44\" points=\"340.795,-407.888 339.848,-397.336 334.008,-406.176 340.795,-407.888\"/>\r\n",
       "<text text-anchor=\"middle\" x=\"348\" y=\"-418.8\" font-family=\"Times New Roman,serif\" font-size=\"14.00\" fill=\"red\">0.58</text>\r\n",
       "</g>\r\n",
       "<!-- 251 -->\r\n",
       "<g id=\"node17\" class=\"node\"><title>251</title>\r\n",
       "<polygon fill=\"none\" stroke=\"black\" points=\"194.5,-147.5 194.5,-168.5 272.5,-168.5 272.5,-147.5 194.5,-147.5\"/>\r\n",
       "<text text-anchor=\"start\" x=\"216.5\" y=\"-154.3\" font-family=\"Times New Roman,serif\" font-size=\"14.00\">id:251</text>\r\n",
       "<polygon fill=\"deepskyblue\" stroke=\"none\" points=\"194.5,-141.5 194.5,-147.5 272.5,-147.5 272.5,-141.5 194.5,-141.5\"/>\r\n",
       "<polygon fill=\"none\" stroke=\"black\" points=\"194.5,-141.5 194.5,-147.5 272.5,-147.5 272.5,-141.5 194.5,-141.5\"/>\r\n",
       "<polygon fill=\"#00ee00\" stroke=\"none\" points=\"194.5,-135.5 194.5,-141.5 272.5,-141.5 272.5,-135.5 194.5,-135.5\"/>\r\n",
       "<polygon fill=\"none\" stroke=\"black\" points=\"194.5,-135.5 194.5,-141.5 272.5,-141.5 272.5,-135.5 194.5,-135.5\"/>\r\n",
       "<polygon fill=\"#ee0000\" stroke=\"none\" points=\"194.5,-39.5 194.5,-135.5 272.5,-135.5 272.5,-39.5 194.5,-39.5\"/>\r\n",
       "<polygon fill=\"none\" stroke=\"black\" points=\"194.5,-39.5 194.5,-135.5 272.5,-135.5 272.5,-39.5 194.5,-39.5\"/>\r\n",
       "<text text-anchor=\"start\" x=\"207.5\" y=\"-121.3\" font-family=\"Times New Roman,serif\" font-size=\"14.00\">detection</text>\r\n",
       "<text text-anchor=\"start\" x=\"197.5\" y=\"-106.3\" font-family=\"Times New Roman,serif\" font-size=\"14.00\">development</text>\r\n",
       "<text text-anchor=\"start\" x=\"210.5\" y=\"-91.3\" font-family=\"Times New Roman,serif\" font-size=\"14.00\">samples</text>\r\n",
       "<text text-anchor=\"start\" x=\"204.5\" y=\"-76.3\" font-family=\"Times New Roman,serif\" font-size=\"14.00\">specificity</text>\r\n",
       "<text text-anchor=\"start\" x=\"206\" y=\"-61.3\" font-family=\"Times New Roman,serif\" font-size=\"14.00\">sensitivity</text>\r\n",
       "<text text-anchor=\"start\" x=\"211.5\" y=\"-46.3\" font-family=\"Times New Roman,serif\" font-size=\"14.00\">positive</text>\r\n",
       "<polygon fill=\"none\" stroke=\"black\" points=\"194.5,-3.5 194.5,-39.5 272.5,-39.5 272.5,-3.5 194.5,-3.5\"/>\r\n",
       "<text text-anchor=\"start\" x=\"218\" y=\"-25.3\" font-family=\"Times New Roman,serif\" font-size=\"14.00\">assay</text>\r\n",
       "<text text-anchor=\"start\" x=\"210\" y=\"-10.3\" font-family=\"Times New Roman,serif\" font-size=\"14.00\">real time</text>\r\n",
       "</g>\r\n",
       "<!-- 239&#45;&gt;251 -->\r\n",
       "<g id=\"edge8\" class=\"edge\"><title>239&#45;&gt;251</title>\r\n",
       "<path fill=\"none\" stroke=\"black\" stroke-width=\"8.74\" d=\"M233.5,-223.987C233.5,-210.749 233.5,-197 233.5,-183.55\"/>\r\n",
       "<polygon fill=\"black\" stroke=\"black\" stroke-width=\"8.74\" points=\"241.148,-183.336 233.5,-173.336 225.853,-183.336 241.148,-183.336\"/>\r\n",
       "<text text-anchor=\"middle\" x=\"246\" y=\"-194.8\" font-family=\"Times New Roman,serif\" font-size=\"14.00\" fill=\"red\">0.93</text>\r\n",
       "</g>\r\n",
       "<!-- 267 -->\r\n",
       "<g id=\"node16\" class=\"node\"><title>267</title>\r\n",
       "<polygon fill=\"none\" stroke=\"black\" points=\"318.5,-147.5 318.5,-168.5 404.5,-168.5 404.5,-147.5 318.5,-147.5\"/>\r\n",
       "<text text-anchor=\"start\" x=\"344.5\" y=\"-154.3\" font-family=\"Times New Roman,serif\" font-size=\"14.00\">id:267</text>\r\n",
       "<polygon fill=\"deepskyblue\" stroke=\"none\" points=\"318.5,-141.5 318.5,-147.5 404.5,-147.5 404.5,-141.5 318.5,-141.5\"/>\r\n",
       "<polygon fill=\"none\" stroke=\"black\" points=\"318.5,-141.5 318.5,-147.5 404.5,-147.5 404.5,-141.5 318.5,-141.5\"/>\r\n",
       "<polygon fill=\"#00ee00\" stroke=\"none\" points=\"318.5,-135.5 318.5,-141.5 404.5,-141.5 404.5,-135.5 318.5,-135.5\"/>\r\n",
       "<polygon fill=\"none\" stroke=\"black\" points=\"318.5,-135.5 318.5,-141.5 404.5,-141.5 404.5,-135.5 318.5,-135.5\"/>\r\n",
       "<polygon fill=\"#ee0000\" stroke=\"none\" points=\"318.5,-24.5 318.5,-135.5 404.5,-135.5 404.5,-24.5 318.5,-24.5\"/>\r\n",
       "<polygon fill=\"none\" stroke=\"black\" points=\"318.5,-24.5 318.5,-135.5 404.5,-135.5 404.5,-24.5 318.5,-24.5\"/>\r\n",
       "<text text-anchor=\"start\" x=\"346.5\" y=\"-121.3\" font-family=\"Times New Roman,serif\" font-size=\"14.00\">years</text>\r\n",
       "<text text-anchor=\"start\" x=\"321.5\" y=\"-106.3\" font-family=\"Times New Roman,serif\" font-size=\"14.00\">influenza virus</text>\r\n",
       "<text text-anchor=\"start\" x=\"344.5\" y=\"-91.3\" font-family=\"Times New Roman,serif\" font-size=\"14.00\">adults</text>\r\n",
       "<text text-anchor=\"start\" x=\"339.5\" y=\"-76.3\" font-family=\"Times New Roman,serif\" font-size=\"14.00\">hospital</text>\r\n",
       "<text text-anchor=\"start\" x=\"331\" y=\"-61.3\" font-family=\"Times New Roman,serif\" font-size=\"14.00\">pneumonia</text>\r\n",
       "<text text-anchor=\"start\" x=\"352\" y=\"-46.3\" font-family=\"Times New Roman,serif\" font-size=\"14.00\">age</text>\r\n",
       "<text text-anchor=\"start\" x=\"330\" y=\"-31.3\" font-family=\"Times New Roman,serif\" font-size=\"14.00\">community</text>\r\n",
       "<polygon fill=\"none\" stroke=\"black\" points=\"318.5,-3.5 318.5,-24.5 404.5,-24.5 404.5,-3.5 318.5,-3.5\"/>\r\n",
       "<text text-anchor=\"start\" x=\"340\" y=\"-10.3\" font-family=\"Times New Roman,serif\" font-size=\"14.00\">patients</text>\r\n",
       "</g>\r\n",
       "<!-- 238&#45;&gt;267 -->\r\n",
       "<g id=\"edge9\" class=\"edge\"><title>238&#45;&gt;267</title>\r\n",
       "<path fill=\"none\" stroke=\"black\" stroke-width=\"2.62\" d=\"M361.5,-223.987C361.5,-210.749 361.5,-197 361.5,-183.55\"/>\r\n",
       "<polygon fill=\"black\" stroke=\"black\" stroke-width=\"2.62\" points=\"365,-183.336 361.5,-173.336 358,-183.336 365,-183.336\"/>\r\n",
       "<text text-anchor=\"middle\" x=\"374\" y=\"-194.8\" font-family=\"Times New Roman,serif\" font-size=\"14.00\" fill=\"red\">0.59</text>\r\n",
       "</g>\r\n",
       "<!-- 138 -->\r\n",
       "<g id=\"node12\" class=\"node\"><title>138</title>\r\n",
       "<polygon fill=\"none\" stroke=\"black\" points=\"251.5,-1043.5 251.5,-1064.5 360.5,-1064.5 360.5,-1043.5 251.5,-1043.5\"/>\r\n",
       "<text text-anchor=\"start\" x=\"289\" y=\"-1050.3\" font-family=\"Times New Roman,serif\" font-size=\"14.00\">id:138</text>\r\n",
       "<polygon fill=\"deepskyblue\" stroke=\"none\" points=\"251.5,-1022.5 251.5,-1043.5 360.5,-1043.5 360.5,-1022.5 251.5,-1022.5\"/>\r\n",
       "<polygon fill=\"none\" stroke=\"black\" points=\"251.5,-1022.5 251.5,-1043.5 360.5,-1043.5 360.5,-1022.5 251.5,-1022.5\"/>\r\n",
       "<text text-anchor=\"start\" x=\"283.5\" y=\"-1029.3\" font-family=\"Times New Roman,serif\" font-size=\"14.00\">children</text>\r\n",
       "<polygon fill=\"#00ee00\" stroke=\"none\" points=\"251.5,-926.5 251.5,-1022.5 360.5,-1022.5 360.5,-926.5 251.5,-926.5\"/>\r\n",
       "<polygon fill=\"none\" stroke=\"black\" points=\"251.5,-926.5 251.5,-1022.5 360.5,-1022.5 360.5,-926.5 251.5,-926.5\"/>\r\n",
       "<text text-anchor=\"start\" x=\"291\" y=\"-1008.3\" font-family=\"Times New Roman,serif\" font-size=\"14.00\">years</text>\r\n",
       "<text text-anchor=\"start\" x=\"296.5\" y=\"-993.3\" font-family=\"Times New Roman,serif\" font-size=\"14.00\">age</text>\r\n",
       "<text text-anchor=\"start\" x=\"275.5\" y=\"-978.3\" font-family=\"Times New Roman,serif\" font-size=\"14.00\">pneumonia</text>\r\n",
       "<text text-anchor=\"start\" x=\"289\" y=\"-963.3\" font-family=\"Times New Roman,serif\" font-size=\"14.00\">adults</text>\r\n",
       "<text text-anchor=\"start\" x=\"254.5\" y=\"-948.3\" font-family=\"Times New Roman,serif\" font-size=\"14.00\">respiratory viruses</text>\r\n",
       "<text text-anchor=\"start\" x=\"274.5\" y=\"-933.3\" font-family=\"Times New Roman,serif\" font-size=\"14.00\">community</text>\r\n",
       "<polygon fill=\"#ee0000\" stroke=\"none\" points=\"251.5,-905.5 251.5,-926.5 360.5,-926.5 360.5,-905.5 251.5,-905.5\"/>\r\n",
       "<polygon fill=\"none\" stroke=\"black\" points=\"251.5,-905.5 251.5,-926.5 360.5,-926.5 360.5,-905.5 251.5,-905.5\"/>\r\n",
       "<text text-anchor=\"start\" x=\"276\" y=\"-912.3\" font-family=\"Times New Roman,serif\" font-size=\"14.00\">prevalence</text>\r\n",
       "<polygon fill=\"none\" stroke=\"black\" points=\"251.5,-899.5 251.5,-905.5 360.5,-905.5 360.5,-899.5 251.5,-899.5\"/>\r\n",
       "</g>\r\n",
       "<!-- 168 -->\r\n",
       "<g id=\"node14\" class=\"node\"><title>168</title>\r\n",
       "<polygon fill=\"none\" stroke=\"black\" points=\"251.5,-819.5 251.5,-840.5 360.5,-840.5 360.5,-819.5 251.5,-819.5\"/>\r\n",
       "<text text-anchor=\"start\" x=\"289\" y=\"-826.3\" font-family=\"Times New Roman,serif\" font-size=\"14.00\">id:168</text>\r\n",
       "<polygon fill=\"deepskyblue\" stroke=\"none\" points=\"251.5,-738.5 251.5,-819.5 360.5,-819.5 360.5,-738.5 251.5,-738.5\"/>\r\n",
       "<polygon fill=\"none\" stroke=\"black\" points=\"251.5,-738.5 251.5,-819.5 360.5,-819.5 360.5,-738.5 251.5,-738.5\"/>\r\n",
       "<text text-anchor=\"start\" x=\"280\" y=\"-805.3\" font-family=\"Times New Roman,serif\" font-size=\"14.00\">detection</text>\r\n",
       "<text text-anchor=\"start\" x=\"254.5\" y=\"-790.3\" font-family=\"Times New Roman,serif\" font-size=\"14.00\">respiratory viruses</text>\r\n",
       "<text text-anchor=\"start\" x=\"292\" y=\"-775.3\" font-family=\"Times New Roman,serif\" font-size=\"14.00\">virus</text>\r\n",
       "<text text-anchor=\"start\" x=\"283\" y=\"-760.3\" font-family=\"Times New Roman,serif\" font-size=\"14.00\">samples</text>\r\n",
       "<text text-anchor=\"start\" x=\"291\" y=\"-745.3\" font-family=\"Times New Roman,serif\" font-size=\"14.00\">years</text>\r\n",
       "<polygon fill=\"#00ee00\" stroke=\"none\" points=\"251.5,-702.5 251.5,-738.5 360.5,-738.5 360.5,-702.5 251.5,-702.5\"/>\r\n",
       "<polygon fill=\"none\" stroke=\"black\" points=\"251.5,-702.5 251.5,-738.5 360.5,-738.5 360.5,-702.5 251.5,-702.5\"/>\r\n",
       "<text text-anchor=\"start\" x=\"284\" y=\"-724.3\" font-family=\"Times New Roman,serif\" font-size=\"14.00\">positive</text>\r\n",
       "<text text-anchor=\"start\" x=\"284\" y=\"-709.3\" font-family=\"Times New Roman,serif\" font-size=\"14.00\">hospital</text>\r\n",
       "<polygon fill=\"#ee0000\" stroke=\"none\" points=\"251.5,-681.5 251.5,-702.5 360.5,-702.5 360.5,-681.5 251.5,-681.5\"/>\r\n",
       "<polygon fill=\"none\" stroke=\"black\" points=\"251.5,-681.5 251.5,-702.5 360.5,-702.5 360.5,-681.5 251.5,-681.5\"/>\r\n",
       "<text text-anchor=\"start\" x=\"283.5\" y=\"-688.3\" font-family=\"Times New Roman,serif\" font-size=\"14.00\">children</text>\r\n",
       "<polygon fill=\"none\" stroke=\"black\" points=\"251.5,-675.5 251.5,-681.5 360.5,-681.5 360.5,-675.5 251.5,-675.5\"/>\r\n",
       "</g>\r\n",
       "<!-- 138&#45;&gt;168 -->\r\n",
       "<g id=\"edge11\" class=\"edge\"><title>138&#45;&gt;168</title>\r\n",
       "<path fill=\"none\" stroke=\"black\" d=\"M305.5,-895.987C305.5,-882.749 305.5,-869 305.5,-855.55\"/>\r\n",
       "<polygon fill=\"black\" stroke=\"black\" points=\"309,-855.336 305.5,-845.336 302,-855.336 309,-855.336\"/>\r\n",
       "<text text-anchor=\"middle\" x=\"314.5\" y=\"-866.8\" font-family=\"Times New Roman,serif\" font-size=\"14.00\" fill=\"red\">0.5</text>\r\n",
       "</g>\r\n",
       "<!-- 221 -->\r\n",
       "<g id=\"node13\" class=\"node\"><title>221</title>\r\n",
       "<polygon fill=\"none\" stroke=\"black\" points=\"415.5,-1043.5 415.5,-1064.5 481.5,-1064.5 481.5,-1043.5 415.5,-1043.5\"/>\r\n",
       "<text text-anchor=\"start\" x=\"431.5\" y=\"-1050.3\" font-family=\"Times New Roman,serif\" font-size=\"14.00\">id:221</text>\r\n",
       "<polygon fill=\"deepskyblue\" stroke=\"none\" points=\"415.5,-1007.5 415.5,-1043.5 481.5,-1043.5 481.5,-1007.5 415.5,-1007.5\"/>\r\n",
       "<polygon fill=\"none\" stroke=\"black\" points=\"415.5,-1007.5 415.5,-1043.5 481.5,-1043.5 481.5,-1007.5 415.5,-1007.5\"/>\r\n",
       "<text text-anchor=\"start\" x=\"426\" y=\"-1029.3\" font-family=\"Times New Roman,serif\" font-size=\"14.00\">children</text>\r\n",
       "<text text-anchor=\"start\" x=\"439\" y=\"-1014.3\" font-family=\"Times New Roman,serif\" font-size=\"14.00\">age</text>\r\n",
       "<polygon fill=\"#00ee00\" stroke=\"none\" points=\"415.5,-986.5 415.5,-1007.5 481.5,-1007.5 481.5,-986.5 415.5,-986.5\"/>\r\n",
       "<polygon fill=\"none\" stroke=\"black\" points=\"415.5,-986.5 415.5,-1007.5 481.5,-1007.5 481.5,-986.5 415.5,-986.5\"/>\r\n",
       "<text text-anchor=\"start\" x=\"430\" y=\"-993.3\" font-family=\"Times New Roman,serif\" font-size=\"14.00\">infants</text>\r\n",
       "<polygon fill=\"#ee0000\" stroke=\"none\" points=\"415.5,-935.5 415.5,-986.5 481.5,-986.5 481.5,-935.5 415.5,-935.5\"/>\r\n",
       "<polygon fill=\"none\" stroke=\"black\" points=\"415.5,-935.5 415.5,-986.5 481.5,-986.5 481.5,-935.5 415.5,-935.5\"/>\r\n",
       "<text text-anchor=\"start\" x=\"433.5\" y=\"-972.3\" font-family=\"Times New Roman,serif\" font-size=\"14.00\">years</text>\r\n",
       "<text text-anchor=\"start\" x=\"426.5\" y=\"-957.3\" font-family=\"Times New Roman,serif\" font-size=\"14.00\">hospital</text>\r\n",
       "<text text-anchor=\"start\" x=\"431.5\" y=\"-942.3\" font-family=\"Times New Roman,serif\" font-size=\"14.00\">adults</text>\r\n",
       "<polygon fill=\"none\" stroke=\"black\" points=\"415.5,-899.5 415.5,-935.5 481.5,-935.5 481.5,-899.5 415.5,-899.5\"/>\r\n",
       "<text text-anchor=\"start\" x=\"418.5\" y=\"-921.3\" font-family=\"Times New Roman,serif\" font-size=\"14.00\">prevalence</text>\r\n",
       "<text text-anchor=\"start\" x=\"427.5\" y=\"-906.3\" font-family=\"Times New Roman,serif\" font-size=\"14.00\">months</text>\r\n",
       "</g>\r\n",
       "<!-- 241 -->\r\n",
       "<g id=\"node21\" class=\"node\"><title>241</title>\r\n",
       "<polygon fill=\"none\" stroke=\"black\" points=\"394.5,-819.5 394.5,-840.5 503.5,-840.5 503.5,-819.5 394.5,-819.5\"/>\r\n",
       "<text text-anchor=\"start\" x=\"432\" y=\"-826.3\" font-family=\"Times New Roman,serif\" font-size=\"14.00\">id:241</text>\r\n",
       "<polygon fill=\"deepskyblue\" stroke=\"none\" points=\"394.5,-813.5 394.5,-819.5 503.5,-819.5 503.5,-813.5 394.5,-813.5\"/>\r\n",
       "<polygon fill=\"none\" stroke=\"black\" points=\"394.5,-813.5 394.5,-819.5 503.5,-819.5 503.5,-813.5 394.5,-813.5\"/>\r\n",
       "<polygon fill=\"#00ee00\" stroke=\"none\" points=\"394.5,-807.5 394.5,-813.5 503.5,-813.5 503.5,-807.5 394.5,-807.5\"/>\r\n",
       "<polygon fill=\"none\" stroke=\"black\" points=\"394.5,-807.5 394.5,-813.5 503.5,-813.5 503.5,-807.5 394.5,-807.5\"/>\r\n",
       "<polygon fill=\"#ee0000\" stroke=\"none\" points=\"394.5,-756.5 394.5,-807.5 503.5,-807.5 503.5,-756.5 394.5,-756.5\"/>\r\n",
       "<polygon fill=\"none\" stroke=\"black\" points=\"394.5,-756.5 394.5,-807.5 503.5,-807.5 503.5,-756.5 394.5,-756.5\"/>\r\n",
       "<text text-anchor=\"start\" x=\"426.5\" y=\"-793.3\" font-family=\"Times New Roman,serif\" font-size=\"14.00\">children</text>\r\n",
       "<text text-anchor=\"start\" x=\"439.5\" y=\"-778.3\" font-family=\"Times New Roman,serif\" font-size=\"14.00\">age</text>\r\n",
       "<text text-anchor=\"start\" x=\"430.5\" y=\"-763.3\" font-family=\"Times New Roman,serif\" font-size=\"14.00\">infants</text>\r\n",
       "<polygon fill=\"none\" stroke=\"black\" points=\"394.5,-675.5 394.5,-756.5 503.5,-756.5 503.5,-675.5 394.5,-675.5\"/>\r\n",
       "<text text-anchor=\"start\" x=\"427.5\" y=\"-742.3\" font-family=\"Times New Roman,serif\" font-size=\"14.00\">patients</text>\r\n",
       "<text text-anchor=\"start\" x=\"397.5\" y=\"-727.3\" font-family=\"Times New Roman,serif\" font-size=\"14.00\">respiratory viruses</text>\r\n",
       "<text text-anchor=\"start\" x=\"423\" y=\"-712.3\" font-family=\"Times New Roman,serif\" font-size=\"14.00\">detection</text>\r\n",
       "<text text-anchor=\"start\" x=\"440\" y=\"-697.3\" font-family=\"Times New Roman,serif\" font-size=\"14.00\">rsv</text>\r\n",
       "<text text-anchor=\"start\" x=\"433.5\" y=\"-682.3\" font-family=\"Times New Roman,serif\" font-size=\"14.00\">cases</text>\r\n",
       "</g>\r\n",
       "<!-- 221&#45;&gt;241 -->\r\n",
       "<g id=\"edge16\" class=\"edge\"><title>221&#45;&gt;241</title>\r\n",
       "<path fill=\"none\" stroke=\"black\" stroke-width=\"5.68\" d=\"M448.5,-895.987C448.5,-882.749 448.5,-869 448.5,-855.55\"/>\r\n",
       "<polygon fill=\"black\" stroke=\"black\" stroke-width=\"5.68\" points=\"453.47,-855.336 448.5,-845.336 443.53,-855.336 453.47,-855.336\"/>\r\n",
       "<text text-anchor=\"middle\" x=\"461\" y=\"-866.8\" font-family=\"Times New Roman,serif\" font-size=\"14.00\" fill=\"red\">0.76</text>\r\n",
       "</g>\r\n",
       "<!-- 168&#45;&gt;184 -->\r\n",
       "<g id=\"edge7\" class=\"edge\"><title>168&#45;&gt;184</title>\r\n",
       "<path fill=\"none\" stroke=\"black\" stroke-width=\"5.5\" d=\"M305.5,-671.987C305.5,-658.749 305.5,-645 305.5,-631.55\"/>\r\n",
       "<polygon fill=\"black\" stroke=\"black\" stroke-width=\"5.5\" points=\"310.313,-631.336 305.5,-621.336 300.688,-631.336 310.313,-631.336\"/>\r\n",
       "<text text-anchor=\"middle\" x=\"318\" y=\"-642.8\" font-family=\"Times New Roman,serif\" font-size=\"14.00\" fill=\"red\">0.75</text>\r\n",
       "</g>\r\n",
       "<!-- 31 -->\r\n",
       "<g id=\"node15\" class=\"node\"><title>31</title>\r\n",
       "<polygon fill=\"none\" stroke=\"black\" points=\"524.5,-1267.5 524.5,-1288.5 657.5,-1288.5 657.5,-1267.5 524.5,-1267.5\"/>\r\n",
       "<text text-anchor=\"start\" x=\"577\" y=\"-1274.3\" font-family=\"Times New Roman,serif\" font-size=\"14.00\">id:31</text>\r\n",
       "<polygon fill=\"deepskyblue\" stroke=\"none\" points=\"524.5,-1261.5 524.5,-1267.5 657.5,-1267.5 657.5,-1261.5 524.5,-1261.5\"/>\r\n",
       "<polygon fill=\"none\" stroke=\"black\" points=\"524.5,-1261.5 524.5,-1267.5 657.5,-1267.5 657.5,-1261.5 524.5,-1261.5\"/>\r\n",
       "<polygon fill=\"#00ee00\" stroke=\"none\" points=\"524.5,-1225.5 524.5,-1261.5 657.5,-1261.5 657.5,-1225.5 524.5,-1225.5\"/>\r\n",
       "<polygon fill=\"none\" stroke=\"black\" points=\"524.5,-1225.5 524.5,-1261.5 657.5,-1261.5 657.5,-1225.5 524.5,-1225.5\"/>\r\n",
       "<text text-anchor=\"start\" x=\"565.5\" y=\"-1247.3\" font-family=\"Times New Roman,serif\" font-size=\"14.00\">response</text>\r\n",
       "<text text-anchor=\"start\" x=\"574.5\" y=\"-1232.3\" font-family=\"Times New Roman,serif\" font-size=\"14.00\">health</text>\r\n",
       "<polygon fill=\"#ee0000\" stroke=\"none\" points=\"524.5,-1219.5 524.5,-1225.5 657.5,-1225.5 657.5,-1219.5 524.5,-1219.5\"/>\r\n",
       "<polygon fill=\"none\" stroke=\"black\" points=\"524.5,-1219.5 524.5,-1225.5 657.5,-1225.5 657.5,-1219.5 524.5,-1219.5\"/>\r\n",
       "<polygon fill=\"none\" stroke=\"black\" points=\"524.5,-1123.5 524.5,-1219.5 657.5,-1219.5 657.5,-1123.5 524.5,-1123.5\"/>\r\n",
       "<text text-anchor=\"start\" x=\"557.5\" y=\"-1205.3\" font-family=\"Times New Roman,serif\" font-size=\"14.00\">implications</text>\r\n",
       "<text text-anchor=\"start\" x=\"546\" y=\"-1190.3\" font-family=\"Times New Roman,serif\" font-size=\"14.00\">gene expression</text>\r\n",
       "<text text-anchor=\"start\" x=\"550\" y=\"-1175.3\" font-family=\"Times New Roman,serif\" font-size=\"14.00\">avian influenza</text>\r\n",
       "<text text-anchor=\"start\" x=\"559.5\" y=\"-1160.3\" font-family=\"Times New Roman,serif\" font-size=\"14.00\">recruitment</text>\r\n",
       "<text text-anchor=\"start\" x=\"527.5\" y=\"-1145.3\" font-family=\"Times New Roman,serif\" font-size=\"14.00\">molecular mechanisms</text>\r\n",
       "<text text-anchor=\"start\" x=\"574.5\" y=\"-1130.3\" font-family=\"Times New Roman,serif\" font-size=\"14.00\">stress</text>\r\n",
       "</g>\r\n",
       "<!-- 80 -->\r\n",
       "<g id=\"node20\" class=\"node\"><title>80</title>\r\n",
       "<polygon fill=\"none\" stroke=\"black\" points=\"555.5,-1043.5 555.5,-1064.5 625.5,-1064.5 625.5,-1043.5 555.5,-1043.5\"/>\r\n",
       "<text text-anchor=\"start\" x=\"576.5\" y=\"-1050.3\" font-family=\"Times New Roman,serif\" font-size=\"14.00\">id:80</text>\r\n",
       "<polygon fill=\"deepskyblue\" stroke=\"none\" points=\"555.5,-1037.5 555.5,-1043.5 625.5,-1043.5 625.5,-1037.5 555.5,-1037.5\"/>\r\n",
       "<polygon fill=\"none\" stroke=\"black\" points=\"555.5,-1037.5 555.5,-1043.5 625.5,-1043.5 625.5,-1037.5 555.5,-1037.5\"/>\r\n",
       "<polygon fill=\"#00ee00\" stroke=\"none\" points=\"555.5,-1031.5 555.5,-1037.5 625.5,-1037.5 625.5,-1031.5 555.5,-1031.5\"/>\r\n",
       "<polygon fill=\"none\" stroke=\"black\" points=\"555.5,-1031.5 555.5,-1037.5 625.5,-1037.5 625.5,-1031.5 555.5,-1031.5\"/>\r\n",
       "<polygon fill=\"#ee0000\" stroke=\"none\" points=\"555.5,-995.5 555.5,-1031.5 625.5,-1031.5 625.5,-995.5 555.5,-995.5\"/>\r\n",
       "<polygon fill=\"none\" stroke=\"black\" points=\"555.5,-995.5 555.5,-1031.5 625.5,-1031.5 625.5,-995.5 555.5,-995.5\"/>\r\n",
       "<text text-anchor=\"start\" x=\"565\" y=\"-1017.3\" font-family=\"Times New Roman,serif\" font-size=\"14.00\">response</text>\r\n",
       "<text text-anchor=\"start\" x=\"574\" y=\"-1002.3\" font-family=\"Times New Roman,serif\" font-size=\"14.00\">health</text>\r\n",
       "<polygon fill=\"none\" stroke=\"black\" points=\"555.5,-899.5 555.5,-995.5 625.5,-995.5 625.5,-899.5 555.5,-899.5\"/>\r\n",
       "<text text-anchor=\"start\" x=\"567\" y=\"-981.3\" font-family=\"Times New Roman,serif\" font-size=\"14.00\">receptor</text>\r\n",
       "<text text-anchor=\"start\" x=\"581.5\" y=\"-966.3\" font-family=\"Times New Roman,serif\" font-size=\"14.00\">toll</text>\r\n",
       "<text text-anchor=\"start\" x=\"570.5\" y=\"-951.3\" font-family=\"Times New Roman,serif\" font-size=\"14.00\">factors</text>\r\n",
       "<text text-anchor=\"start\" x=\"558.5\" y=\"-936.3\" font-family=\"Times New Roman,serif\" font-size=\"14.00\">relationship</text>\r\n",
       "<text text-anchor=\"start\" x=\"584.5\" y=\"-921.3\" font-family=\"Times New Roman,serif\" font-size=\"14.00\">tlr</text>\r\n",
       "<text text-anchor=\"start\" x=\"570.5\" y=\"-906.3\" font-family=\"Times New Roman,serif\" font-size=\"14.00\">learned</text>\r\n",
       "</g>\r\n",
       "<!-- 31&#45;&gt;80 -->\r\n",
       "<g id=\"edge12\" class=\"edge\"><title>31&#45;&gt;80</title>\r\n",
       "<path fill=\"none\" stroke=\"black\" d=\"M590.5,-1119.99C590.5,-1106.75 590.5,-1093 590.5,-1079.55\"/>\r\n",
       "<polygon fill=\"black\" stroke=\"black\" points=\"594,-1079.34 590.5,-1069.34 587,-1079.34 594,-1079.34\"/>\r\n",
       "<text text-anchor=\"middle\" x=\"599.5\" y=\"-1090.8\" font-family=\"Times New Roman,serif\" font-size=\"14.00\" fill=\"red\">0.5</text>\r\n",
       "</g>\r\n",
       "<!-- 114 -->\r\n",
       "<g id=\"node18\" class=\"node\"><title>114</title>\r\n",
       "<polygon fill=\"none\" stroke=\"black\" points=\"272.5,-1267.5 272.5,-1288.5 338.5,-1288.5 338.5,-1267.5 272.5,-1267.5\"/>\r\n",
       "<text text-anchor=\"start\" x=\"288.5\" y=\"-1274.3\" font-family=\"Times New Roman,serif\" font-size=\"14.00\">id:114</text>\r\n",
       "<polygon fill=\"deepskyblue\" stroke=\"none\" points=\"272.5,-1261.5 272.5,-1267.5 338.5,-1267.5 338.5,-1261.5 272.5,-1261.5\"/>\r\n",
       "<polygon fill=\"none\" stroke=\"black\" points=\"272.5,-1261.5 272.5,-1267.5 338.5,-1267.5 338.5,-1261.5 272.5,-1261.5\"/>\r\n",
       "<polygon fill=\"#00ee00\" stroke=\"none\" points=\"272.5,-1180.5 272.5,-1261.5 338.5,-1261.5 338.5,-1180.5 272.5,-1180.5\"/>\r\n",
       "<polygon fill=\"none\" stroke=\"black\" points=\"272.5,-1180.5 272.5,-1261.5 338.5,-1261.5 338.5,-1180.5 272.5,-1180.5\"/>\r\n",
       "<text text-anchor=\"start\" x=\"283\" y=\"-1247.3\" font-family=\"Times New Roman,serif\" font-size=\"14.00\">children</text>\r\n",
       "<text text-anchor=\"start\" x=\"275.5\" y=\"-1232.3\" font-family=\"Times New Roman,serif\" font-size=\"14.00\">prevalence</text>\r\n",
       "<text text-anchor=\"start\" x=\"279.5\" y=\"-1217.3\" font-family=\"Times New Roman,serif\" font-size=\"14.00\">sequence</text>\r\n",
       "<text text-anchor=\"start\" x=\"287\" y=\"-1202.3\" font-family=\"Times New Roman,serif\" font-size=\"14.00\">strains</text>\r\n",
       "<text text-anchor=\"start\" x=\"276.5\" y=\"-1187.3\" font-family=\"Times New Roman,serif\" font-size=\"14.00\">circulating</text>\r\n",
       "<polygon fill=\"#ee0000\" stroke=\"none\" points=\"272.5,-1174.5 272.5,-1180.5 338.5,-1180.5 338.5,-1174.5 272.5,-1174.5\"/>\r\n",
       "<polygon fill=\"none\" stroke=\"black\" points=\"272.5,-1174.5 272.5,-1180.5 338.5,-1180.5 338.5,-1174.5 272.5,-1174.5\"/>\r\n",
       "<polygon fill=\"none\" stroke=\"black\" points=\"272.5,-1123.5 272.5,-1174.5 338.5,-1174.5 338.5,-1123.5 272.5,-1123.5\"/>\r\n",
       "<text text-anchor=\"start\" x=\"284\" y=\"-1160.3\" font-family=\"Times New Roman,serif\" font-size=\"14.00\">humans</text>\r\n",
       "<text text-anchor=\"start\" x=\"281\" y=\"-1145.3\" font-family=\"Times New Roman,serif\" font-size=\"14.00\">evidence</text>\r\n",
       "<text text-anchor=\"start\" x=\"279.5\" y=\"-1130.3\" font-family=\"Times New Roman,serif\" font-size=\"14.00\">genotype</text>\r\n",
       "</g>\r\n",
       "<!-- 114&#45;&gt;138 -->\r\n",
       "<g id=\"edge14\" class=\"edge\"><title>114&#45;&gt;138</title>\r\n",
       "<path fill=\"none\" stroke=\"black\" stroke-width=\"2.08\" d=\"M305.5,-1119.99C305.5,-1106.75 305.5,-1093 305.5,-1079.55\"/>\r\n",
       "<polygon fill=\"black\" stroke=\"black\" stroke-width=\"2.08\" points=\"309,-1079.34 305.5,-1069.34 302,-1079.34 309,-1079.34\"/>\r\n",
       "<text text-anchor=\"middle\" x=\"318\" y=\"-1090.8\" font-family=\"Times New Roman,serif\" font-size=\"14.00\" fill=\"red\">0.56</text>\r\n",
       "</g>\r\n",
       "<!-- 190 -->\r\n",
       "<g id=\"node19\" class=\"node\"><title>190</title>\r\n",
       "<polygon fill=\"none\" stroke=\"black\" points=\"407.5,-1267.5 407.5,-1288.5 489.5,-1288.5 489.5,-1267.5 407.5,-1267.5\"/>\r\n",
       "<text text-anchor=\"start\" x=\"431.5\" y=\"-1274.3\" font-family=\"Times New Roman,serif\" font-size=\"14.00\">id:190</text>\r\n",
       "<polygon fill=\"deepskyblue\" stroke=\"none\" points=\"407.5,-1261.5 407.5,-1267.5 489.5,-1267.5 489.5,-1261.5 407.5,-1261.5\"/>\r\n",
       "<polygon fill=\"none\" stroke=\"black\" points=\"407.5,-1261.5 407.5,-1267.5 489.5,-1267.5 489.5,-1261.5 407.5,-1261.5\"/>\r\n",
       "<polygon fill=\"#00ee00\" stroke=\"none\" points=\"407.5,-1180.5 407.5,-1261.5 489.5,-1261.5 489.5,-1180.5 407.5,-1180.5\"/>\r\n",
       "<polygon fill=\"none\" stroke=\"black\" points=\"407.5,-1180.5 407.5,-1261.5 489.5,-1261.5 489.5,-1180.5 407.5,-1180.5\"/>\r\n",
       "<text text-anchor=\"start\" x=\"426\" y=\"-1247.3\" font-family=\"Times New Roman,serif\" font-size=\"14.00\">children</text>\r\n",
       "<text text-anchor=\"start\" x=\"433.5\" y=\"-1232.3\" font-family=\"Times New Roman,serif\" font-size=\"14.00\">years</text>\r\n",
       "<text text-anchor=\"start\" x=\"426.5\" y=\"-1217.3\" font-family=\"Times New Roman,serif\" font-size=\"14.00\">hospital</text>\r\n",
       "<text text-anchor=\"start\" x=\"439\" y=\"-1202.3\" font-family=\"Times New Roman,serif\" font-size=\"14.00\">age</text>\r\n",
       "<text text-anchor=\"start\" x=\"431.5\" y=\"-1187.3\" font-family=\"Times New Roman,serif\" font-size=\"14.00\">adults</text>\r\n",
       "<polygon fill=\"#ee0000\" stroke=\"none\" points=\"407.5,-1174.5 407.5,-1180.5 489.5,-1180.5 489.5,-1174.5 407.5,-1174.5\"/>\r\n",
       "<polygon fill=\"none\" stroke=\"black\" points=\"407.5,-1174.5 407.5,-1180.5 489.5,-1180.5 489.5,-1174.5 407.5,-1174.5\"/>\r\n",
       "<polygon fill=\"none\" stroke=\"black\" points=\"407.5,-1123.5 407.5,-1174.5 489.5,-1174.5 489.5,-1123.5 407.5,-1123.5\"/>\r\n",
       "<text text-anchor=\"start\" x=\"418\" y=\"-1160.3\" font-family=\"Times New Roman,serif\" font-size=\"14.00\">pneumonia</text>\r\n",
       "<text text-anchor=\"start\" x=\"410.5\" y=\"-1145.3\" font-family=\"Times New Roman,serif\" font-size=\"14.00\">epidemiology</text>\r\n",
       "<text text-anchor=\"start\" x=\"417\" y=\"-1130.3\" font-family=\"Times New Roman,serif\" font-size=\"14.00\">community</text>\r\n",
       "</g>\r\n",
       "<!-- 190&#45;&gt;221 -->\r\n",
       "<g id=\"edge13\" class=\"edge\"><title>190&#45;&gt;221</title>\r\n",
       "<path fill=\"none\" stroke=\"black\" stroke-width=\"7.48\" d=\"M448.5,-1119.99C448.5,-1106.75 448.5,-1093 448.5,-1079.55\"/>\r\n",
       "<polygon fill=\"black\" stroke=\"black\" stroke-width=\"7.48\" points=\"455.045,-1079.34 448.5,-1069.34 441.955,-1079.34 455.045,-1079.34\"/>\r\n",
       "<text text-anchor=\"middle\" x=\"461\" y=\"-1090.8\" font-family=\"Times New Roman,serif\" font-size=\"14.00\" fill=\"red\">0.86</text>\r\n",
       "</g>\r\n",
       "</g>\r\n",
       "</svg>\r\n"
      ],
      "text/plain": [
       "<graphviz.dot.Digraph at 0x21ac5aacfc8>"
      ]
     },
     "execution_count": 31,
     "metadata": {},
     "output_type": "execute_result"
    }
   ],
   "source": [
    "g1 = drawPivotGraph(beta, subgraphFuture, subgraphPast, periodList, labels)\n",
    "g1.attr(size = '20')\n",
    "g1.format = 'svg'\n",
    "#g1.render('test-output/g1', view=True) \n",
    "#Source.from_file('test-output/g1')\n",
    "g1"
   ]
  },
  {
   "cell_type": "code",
   "execution_count": null,
   "metadata": {},
   "outputs": [],
   "source": []
  },
  {
   "cell_type": "code",
   "execution_count": null,
   "metadata": {},
   "outputs": [],
   "source": []
  },
  {
   "cell_type": "code",
   "execution_count": null,
   "metadata": {},
   "outputs": [],
   "source": []
  },
  {
   "cell_type": "code",
   "execution_count": null,
   "metadata": {},
   "outputs": [],
   "source": []
  }
 ],
 "metadata": {
  "kernelspec": {
   "display_name": "Python 3",
   "language": "python",
   "name": "python3"
  },
  "language_info": {
   "codemirror_mode": {
    "name": "ipython",
    "version": 3
   },
   "file_extension": ".py",
   "mimetype": "text/x-python",
   "name": "python",
   "nbconvert_exporter": "python",
   "pygments_lexer": "ipython3",
   "version": "3.7.6"
  }
 },
 "nbformat": 4,
 "nbformat_minor": 4
}
