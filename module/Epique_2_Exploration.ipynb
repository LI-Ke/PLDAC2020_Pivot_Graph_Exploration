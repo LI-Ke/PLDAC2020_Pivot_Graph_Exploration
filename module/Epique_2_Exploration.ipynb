{
 "cells": [
  {
   "cell_type": "markdown",
   "metadata": {},
   "source": [
    "# EPIQUE: an interactive exploration platform of topic evolution"
   ]
  },
  {
   "cell_type": "markdown",
   "metadata": {},
   "source": [
    "## Import"
   ]
  },
  {
   "cell_type": "code",
   "execution_count": 1,
   "metadata": {},
   "outputs": [],
   "source": [
    "from pyepique import sparkCxtResolver\n",
    "from pyepique import configuration\n",
    "from pyepique import pivot"
   ]
  },
  {
   "cell_type": "markdown",
   "metadata": {},
   "source": [
    "## Start Spark"
   ]
  },
  {
   "cell_type": "code",
   "execution_count": 2,
   "metadata": {},
   "outputs": [
    {
     "name": "stdout",
     "output_type": "stream",
     "text": [
      "spark application : local-1582815586827 started!\n"
     ]
    }
   ],
   "source": [
    "sparkCxt = sparkCxtResolver.sparkResolver(appName = \"Pivot graph exploration\", master = \"local[*]\")\n",
    "sparkCxt.initialize()"
   ]
  },
  {
   "cell_type": "markdown",
   "metadata": {},
   "source": [
    "## Load configuration"
   ]
  },
  {
   "cell_type": "code",
   "execution_count": 3,
   "metadata": {},
   "outputs": [],
   "source": [
    "conf = configuration.Configuration(corpusname = \"WILEY\")\n",
    "conf.read().extract()"
   ]
  },
  {
   "cell_type": "markdown",
   "metadata": {},
   "source": [
    "## Load graphs"
   ]
  },
  {
   "cell_type": "code",
   "execution_count": 4,
   "metadata": {},
   "outputs": [],
   "source": [
    "pivotTopics = pivot.Pivot(conf, sparkCxt)\n",
    "pivots = pivotTopics.initialize()"
   ]
  },
  {
   "cell_type": "markdown",
   "metadata": {},
   "source": [
    "## Visualization"
   ]
  },
  {
   "cell_type": "code",
   "execution_count": 5,
   "metadata": {},
   "outputs": [
    {
     "name": "stdout",
     "output_type": "stream",
     "text": [
      "future pivot topics:\n",
      "+----+-----------------+-------+----------+--------------------+-----------------------+-----------+---------+-------+--------+--------------------+--------------------+--------------------+\n",
      "|Beta|ConvergenceDegree|Endyear|Liveliness|PivotEvolutionDegree|RelativeEvolutionDegree|SplitDegree|Startyear|TopicID|decaying|            emerging|            specific|              stable|\n",
      "+----+-----------------+-------+----------+--------------------+-----------------------+-----------+---------+-------+--------+--------------------+--------------------+--------------------+\n",
      "| 0.2|            3.484|   2004|         6|                0.89|                  0.696|      4.646|     2002|     75|[faults]|[operations, soft...|[specification, s...|              [type]|\n",
      "| 0.1|             7.25|   2000|         8|               0.844|                  0.779|      8.352|     1998|     20|      []|              [goal]|         [formalism]|[implementation, ...|\n",
      "| 0.2|            3.398|   2000|         8|               0.833|                  0.684|      3.991|     1998|     20|      []|[structure, goal,...|         [formalism]|[implementation, ...|\n",
      "+----+-----------------+-------+----------+--------------------+-----------------------+-----------+---------+-------+--------+--------------------+--------------------+--------------------+\n",
      "\n",
      "past pivot topics:\n",
      "+----+-----------------+-------+----------+--------------------+-----------------------+-----------+---------+-------+--------+--------------------+--------------------+--------------------+\n",
      "|Beta|ConvergenceDegree|Endyear|Liveliness|PivotEvolutionDegree|RelativeEvolutionDegree|SplitDegree|Startyear|TopicID|decaying|            emerging|            specific|              stable|\n",
      "+----+-----------------+-------+----------+--------------------+-----------------------+-----------+---------+-------+--------+--------------------+--------------------+--------------------+\n",
      "| 0.2|             1.25|   2004|         3|               0.856|                  0.666|        1.0|     2002|     75|[faults]|[operations, soft...|[specification, s...|              [type]|\n",
      "| 0.1|             11.0|   2000|         1|               0.811|                  0.811|        1.0|     1998|     20|      []|              [goal]|         [formalism]|[implementation, ...|\n",
      "| 0.2|              4.0|   2000|         1|               0.747|                  0.747|        1.0|     1998|     20|      []|[structure, goal,...|         [formalism]|[implementation, ...|\n",
      "+----+-----------------+-------+----------+--------------------+-----------------------+-----------+---------+-------+--------+--------------------+--------------------+--------------------+\n",
      "\n"
     ]
    }
   ],
   "source": [
    "pivots.emerge('goal').show()"
   ]
  },
  {
   "cell_type": "code",
   "execution_count": 6,
   "metadata": {},
   "outputs": [
    {
     "data": {
      "application/vnd.jupyter.widget-view+json": {
       "model_id": "d268c68d1c884ca9903f790eb4a5da5e",
       "version_major": 2,
       "version_minor": 0
      },
      "text/plain": [
       "VBox(children=(Dropdown(description='Keywords:', options=('---Select a keyword---', '101002 cae', 'ACM CCS I',…"
      ]
     },
     "metadata": {},
     "output_type": "display_data"
    },
    {
     "data": {
      "application/vnd.jupyter.widget-view+json": {
       "model_id": "14a85f33547a4eb49ce3a2515cb7ee2c",
       "version_major": 2,
       "version_minor": 0
      },
      "text/plain": [
       "Output()"
      ]
     },
     "metadata": {},
     "output_type": "display_data"
    },
    {
     "data": {
      "application/vnd.jupyter.widget-view+json": {
       "model_id": "07b02e3a6f9e41bfb94a56369b8c4e73",
       "version_major": 2,
       "version_minor": 0
      },
      "text/plain": [
       "Button(description='Search', style=ButtonStyle(button_color='lightblue'))"
      ]
     },
     "metadata": {},
     "output_type": "display_data"
    },
    {
     "data": {
      "application/vnd.jupyter.widget-view+json": {
       "model_id": "e2cb3095f32e4ccf901887d7c33bd0ce",
       "version_major": 2,
       "version_minor": 0
      },
      "text/plain": [
       "Output()"
      ]
     },
     "metadata": {},
     "output_type": "display_data"
    }
   ],
   "source": [
    "pivots.query_form()"
   ]
  },
  {
   "cell_type": "code",
   "execution_count": 7,
   "metadata": {},
   "outputs": [
    {
     "name": "stdout",
     "output_type": "stream",
     "text": [
      "future pivot topics:\n",
      "+----+-----------------+-------+----------+--------------------+-----------------------+-----------+---------+-------+--------+--------------------+--------------------+--------------------+\n",
      "|Beta|ConvergenceDegree|Endyear|Liveliness|PivotEvolutionDegree|RelativeEvolutionDegree|SplitDegree|Startyear|TopicID|decaying|            emerging|            specific|              stable|\n",
      "+----+-----------------+-------+----------+--------------------+-----------------------+-----------+---------+-------+--------+--------------------+--------------------+--------------------+\n",
      "| 0.2|            3.484|   2004|         6|                0.89|                  0.696|      4.646|     2002|     75|[faults]|[operations, soft...|[specification, s...|              [type]|\n",
      "| 0.1|             7.25|   2000|         8|               0.844|                  0.779|      8.352|     1998|     20|      []|              [goal]|         [formalism]|[implementation, ...|\n",
      "| 0.2|            3.398|   2000|         8|               0.833|                  0.684|      3.991|     1998|     20|      []|[structure, goal,...|         [formalism]|[implementation, ...|\n",
      "+----+-----------------+-------+----------+--------------------+-----------------------+-----------+---------+-------+--------+--------------------+--------------------+--------------------+\n",
      "\n",
      "past pivot topics:\n",
      "+----+-----------------+-------+----------+--------------------+-----------------------+-----------+---------+-------+--------+--------------------+--------------------+--------------------+\n",
      "|Beta|ConvergenceDegree|Endyear|Liveliness|PivotEvolutionDegree|RelativeEvolutionDegree|SplitDegree|Startyear|TopicID|decaying|            emerging|            specific|              stable|\n",
      "+----+-----------------+-------+----------+--------------------+-----------------------+-----------+---------+-------+--------+--------------------+--------------------+--------------------+\n",
      "| 0.2|             1.25|   2004|         3|               0.856|                  0.666|        1.0|     2002|     75|[faults]|[operations, soft...|[specification, s...|              [type]|\n",
      "| 0.1|             11.0|   2000|         1|               0.811|                  0.811|        1.0|     1998|     20|      []|              [goal]|         [formalism]|[implementation, ...|\n",
      "| 0.2|              4.0|   2000|         1|               0.747|                  0.747|        1.0|     1998|     20|      []|[structure, goal,...|         [formalism]|[implementation, ...|\n",
      "+----+-----------------+-------+----------+--------------------+-----------------------+-----------+---------+-------+--------+--------------------+--------------------+--------------------+\n",
      "\n"
     ]
    }
   ],
   "source": [
    "pivots.show()"
   ]
  },
  {
   "cell_type": "code",
   "execution_count": 8,
   "metadata": {},
   "outputs": [
    {
     "data": {
      "application/vnd.jupyter.widget-view+json": {
       "model_id": "8616a1fbc4a24c57bd8d83665e8d967e",
       "version_major": 2,
       "version_minor": 0
      },
      "text/plain": [
       "HBox(children=(Button(description='Single pivot graphs', style=ButtonStyle(button_color='lightblue')), Button(…"
      ]
     },
     "metadata": {},
     "output_type": "display_data"
    },
    {
     "data": {
      "application/vnd.jupyter.widget-view+json": {
       "model_id": "7614758a83f14a839f18812f513ba4b0",
       "version_major": 2,
       "version_minor": 0
      },
      "text/plain": [
       "Output()"
      ]
     },
     "metadata": {},
     "output_type": "display_data"
    }
   ],
   "source": [
    "pivots.visualize()"
   ]
  },
  {
   "cell_type": "code",
   "execution_count": null,
   "metadata": {},
   "outputs": [],
   "source": [
    "\n",
    "\n",
    "\n",
    "\n",
    "\n"
   ]
  },
  {
   "cell_type": "code",
   "execution_count": 4,
   "metadata": {},
   "outputs": [
    {
     "name": "stdout",
     "output_type": "stream",
     "text": [
      "future pivot topics:\n",
      "+----+-----------------+-------+----------+--------------------+-----------------------+-----------+---------+-------+--------+--------------------+--------+------+\n",
      "|Beta|ConvergenceDegree|Endyear|Liveliness|PivotEvolutionDegree|RelativeEvolutionDegree|SplitDegree|Startyear|TopicID|decaying|            emerging|specific|stable|\n",
      "+----+-----------------+-------+----------+--------------------+-----------------------+-----------+---------+-------+--------+--------------------+--------+------+\n",
      "| 0.1|            6.918|   1998|         9|               0.943|                  0.776|      7.945|     1996|      9|      []|[network, graph, ...|      []|    []|\n",
      "+----+-----------------+-------+----------+--------------------+-----------------------+-----------+---------+-------+--------+--------------------+--------+------+\n",
      "only showing top 1 row\n",
      "\n",
      "past pivot topics:\n",
      "+----+-----------------+-------+----------+--------------------+-----------------------+-----------+---------+-------+--------+--------+-------------+--------------------+\n",
      "|Beta|ConvergenceDegree|Endyear|Liveliness|PivotEvolutionDegree|RelativeEvolutionDegree|SplitDegree|Startyear|TopicID|decaying|emerging|     specific|              stable|\n",
      "+----+-----------------+-------+----------+--------------------+-----------------------+-----------+---------+-------+--------+--------+-------------+--------------------+\n",
      "| 0.1|             10.0|   2000|         1|               0.833|                  0.833|        1.0|     1998|     22|      []|      []|[engineering]|[images, control,...|\n",
      "+----+-----------------+-------+----------+--------------------+-----------------------+-----------+---------+-------+--------+--------+-------------+--------------------+\n",
      "only showing top 1 row\n",
      "\n"
     ]
    }
   ],
   "source": [
    "pivots.show(1)"
   ]
  },
  {
   "cell_type": "markdown",
   "metadata": {},
   "source": [
    "## Term Filters"
   ]
  },
  {
   "cell_type": "code",
   "execution_count": 5,
   "metadata": {},
   "outputs": [
    {
     "name": "stdout",
     "output_type": "stream",
     "text": [
      "future pivot topics:\n",
      "+----+-----------------+-------+----------+--------------------+-----------------------+-----------+---------+-------+--------+--------------------+--------------------+--------------------+\n",
      "|Beta|ConvergenceDegree|Endyear|Liveliness|PivotEvolutionDegree|RelativeEvolutionDegree|SplitDegree|Startyear|TopicID|decaying|            emerging|            specific|              stable|\n",
      "+----+-----------------+-------+----------+--------------------+-----------------------+-----------+---------+-------+--------+--------------------+--------------------+--------------------+\n",
      "| 0.2|            3.484|   2004|         6|                0.89|                  0.696|      4.646|     2002|     75|[faults]|[operations, soft...|[specification, s...|              [type]|\n",
      "| 0.1|             7.25|   2000|         8|               0.844|                  0.779|      8.352|     1998|     20|      []|              [goal]|         [formalism]|[implementation, ...|\n",
      "| 0.2|            3.398|   2000|         8|               0.833|                  0.684|      3.991|     1998|     20|      []|[structure, goal,...|         [formalism]|[implementation, ...|\n",
      "+----+-----------------+-------+----------+--------------------+-----------------------+-----------+---------+-------+--------+--------------------+--------------------+--------------------+\n",
      "\n",
      "past pivot topics:\n",
      "+----+-----------------+-------+----------+--------------------+-----------------------+-----------+---------+-------+--------+--------------------+--------------------+--------------------+\n",
      "|Beta|ConvergenceDegree|Endyear|Liveliness|PivotEvolutionDegree|RelativeEvolutionDegree|SplitDegree|Startyear|TopicID|decaying|            emerging|            specific|              stable|\n",
      "+----+-----------------+-------+----------+--------------------+-----------------------+-----------+---------+-------+--------+--------------------+--------------------+--------------------+\n",
      "| 0.2|             1.25|   2004|         3|               0.856|                  0.666|        1.0|     2002|     75|[faults]|[operations, soft...|[specification, s...|              [type]|\n",
      "| 0.1|             11.0|   2000|         1|               0.811|                  0.811|        1.0|     1998|     20|      []|              [goal]|         [formalism]|[implementation, ...|\n",
      "| 0.2|              4.0|   2000|         1|               0.747|                  0.747|        1.0|     1998|     20|      []|[structure, goal,...|         [formalism]|[implementation, ...|\n",
      "+----+-----------------+-------+----------+--------------------+-----------------------+-----------+---------+-------+--------+--------------------+--------------------+--------------------+\n",
      "\n"
     ]
    }
   ],
   "source": [
    "# implm pass several words [\"\",\"\",\"\"]\n",
    "pivots.emerge('goal').show()"
   ]
  },
  {
   "cell_type": "code",
   "execution_count": 6,
   "metadata": {},
   "outputs": [
    {
     "name": "stdout",
     "output_type": "stream",
     "text": [
      "future pivot topics:\n",
      "+----+-----------------+-------+----------+--------------------+-----------------------+-----------+---------+-------+--------------------+----------+--------+--------------------+\n",
      "|Beta|ConvergenceDegree|Endyear|Liveliness|PivotEvolutionDegree|RelativeEvolutionDegree|SplitDegree|Startyear|TopicID|            decaying|  emerging|specific|              stable|\n",
      "+----+-----------------+-------+----------+--------------------+-----------------------+-----------+---------+-------+--------------------+----------+--------+--------------------+\n",
      "| 0.1|            7.206|   2004|         6|               0.901|                  0.778|      8.761|     2002|     75|[specification, d...|[sequence]|      []|[type, operations...|\n",
      "+----+-----------------+-------+----------+--------------------+-----------------------+-----------+---------+-------+--------------------+----------+--------+--------------------+\n",
      "\n",
      "past pivot topics:\n",
      "+----+-----------------+-------+----------+--------------------+-----------------------+-----------+---------+-------+--------------------+----------+--------+--------------------+\n",
      "|Beta|ConvergenceDegree|Endyear|Liveliness|PivotEvolutionDegree|RelativeEvolutionDegree|SplitDegree|Startyear|TopicID|            decaying|  emerging|specific|              stable|\n",
      "+----+-----------------+-------+----------+--------------------+-----------------------+-----------+---------+-------+--------------------+----------+--------+--------------------+\n",
      "| 0.1|            7.115|   2004|         3|               0.897|                  0.798|      4.205|     2002|     75|[specification, d...|[sequence]|      []|[type, operations...|\n",
      "+----+-----------------+-------+----------+--------------------+-----------------------+-----------+---------+-------+--------------------+----------+--------+--------------------+\n",
      "\n"
     ]
    }
   ],
   "source": [
    "pivots.decay('specification').show()"
   ]
  },
  {
   "cell_type": "code",
   "execution_count": 7,
   "metadata": {},
   "outputs": [
    {
     "name": "stdout",
     "output_type": "stream",
     "text": [
      "future pivot topics:\n",
      "+----+-----------------+-------+----------+--------------------+-----------------------+-----------+---------+-------+--------------------+--------------------+--------------------+--------------------+\n",
      "|Beta|ConvergenceDegree|Endyear|Liveliness|PivotEvolutionDegree|RelativeEvolutionDegree|SplitDegree|Startyear|TopicID|            decaying|            emerging|            specific|              stable|\n",
      "+----+-----------------+-------+----------+--------------------+-----------------------+-----------+---------+-------+--------------------+--------------------+--------------------+--------------------+\n",
      "| 0.1|            7.121|   2000|         8|                0.88|                  0.776|       8.23|     1998|     32|                  []|[run, database, u...|        [processors]|[design, nodes, n...|\n",
      "| 0.1|            6.873|   2002|         7|               0.934|                  0.773|      8.192|     2000|     40|                  []|          [matching]|[semantics, equip...|[function, nodes,...|\n",
      "| 0.1|             4.31|   2010|         3|               0.902|                   0.77|       7.87|     2008|    129|                  []|  [prevent, protect]|                  []|[security, attack...|\n",
      "| 0.2|            3.355|   2000|         8|               0.877|                  0.679|       3.98|     1998|     32|                  []|  [run, data, users]|[area, database, ...|[design, nodes, n...|\n",
      "| 0.2|            3.202|   2002|         7|                0.93|                  0.676|      4.014|     2000|     40|                  []|[links, matching,...|[semantics, equip...|[function, nodes,...|\n",
      "| 0.2|            1.308|   2010|         3|               0.767|                   0.59|      2.125|     2008|    129|          [solution]|[security, preven...|                  []|[attacks, nodes, ...|\n",
      "| 0.1|            6.969|   2004|         6|               0.884|                  0.772|      8.667|     2002|     74|         [mechanism]|[methodology, par...|               [sip]|[network, nodes, ...|\n",
      "| 0.1|              1.1|   2012|         2|               0.706|                  0.636|       2.75|     2010|    145|                  []|                  []|                  []|[graph, connected...|\n",
      "| 0.1|              1.0|   2014|         1|               0.789|                  0.789|       13.0|     2012|    162|[series, extensio...|            [suffer]|                  []|[analysis, region...|\n",
      "| 0.2|            3.127|   2004|         6|               0.877|                  0.676|      4.049|     2002|     74|         [mechanism]|[methodology, par...|               [sip]|[network, nodes, ...|\n",
      "| 0.2|              1.0|   2014|         1|               0.745|                  0.745|        8.0|     2012|    162|[analysis, series...|            [suffer]|                  []|[regions, network...|\n",
      "| 0.1|             6.08|   2006|         5|               0.925|                   0.77|      8.143|     2004|     83|                  []|[packets, traffic...|       [scalability]|[network, nodes, ...|\n",
      "| 0.2|            1.391|   2006|         5|               0.732|                  0.543|      1.882|     2004|     83|             [links]|[packets, traffic...| [cost, scalability]|[network, nodes, ...|\n",
      "| 0.1|            6.977|   2000|         8|               0.962|                  0.775|      8.079|     1998|     39|                  []|               [alg]|                  []|[graph, network, ...|\n",
      "| 0.1|            5.645|   2008|         4|               0.907|                  0.772|       8.14|     2006|    113|                  []|       [reliability]|                  []|[network, routing...|\n",
      "| 0.1|            4.898|   2010|         3|               0.867|                  0.769|        8.0|     2008|    123|                  []|[aims, energy con...|                  []|[network, routing...|\n",
      "| 0.1|            1.565|   2010|         3|               0.843|                  0.716|        4.5|     2008|    127|                  []|                  []|            [colors]|[network, graph, ...|\n",
      "| 0.1|            5.537|   2010|         3|               0.824|                  0.776|      8.543|     2008|    135|[alcatel‐lucent, ...|                  []|             [serve]|[operations, cust...|\n",
      "| 0.2|            3.232|   2000|         8|               0.945|                  0.673|      3.902|     1998|     39|                  []|         [alg, mesh]|                  []|[graph, network, ...|\n",
      "| 0.2|             1.35|   2008|         4|               0.757|                  0.537|      1.929|     2006|    113|                  []|[agents, reliabil...|          [strategy]|[network, routing...|\n",
      "+----+-----------------+-------+----------+--------------------+-----------------------+-----------+---------+-------+--------------------+--------------------+--------------------+--------------------+\n",
      "only showing top 20 rows\n",
      "\n",
      "past pivot topics:\n",
      "+----+-----------------+-------+----------+--------------------+-----------------------+-----------+---------+-------+--------------------+--------------------+--------------------+--------------------+\n",
      "|Beta|ConvergenceDegree|Endyear|Liveliness|PivotEvolutionDegree|RelativeEvolutionDegree|SplitDegree|Startyear|TopicID|            decaying|            emerging|            specific|              stable|\n",
      "+----+-----------------+-------+----------+--------------------+-----------------------+-----------+---------+-------+--------------------+--------------------+--------------------+--------------------+\n",
      "| 0.1|              3.0|   2000|         1|               0.649|                  0.649|        1.0|     1998|     32|                  []|[run, database, u...|        [processors]|[design, nodes, n...|\n",
      "| 0.1|              3.2|   2002|         2|               0.837|                  0.697|      1.333|     2000|     40|                  []|          [matching]|[semantics, equip...|[function, nodes,...|\n",
      "| 0.1|            6.951|   2010|         6|               0.929|                  0.787|      5.644|     2008|    129|                  []|  [prevent, protect]|                  []|[security, attack...|\n",
      "| 0.2|              2.0|   2000|         1|               0.529|                  0.529|        1.0|     1998|     32|                  []|  [run, data, users]|[area, database, ...|[design, nodes, n...|\n",
      "| 0.2|              2.0|   2002|         2|               0.744|                  0.602|        1.0|     2000|     40|                  []|[links, matching,...|[semantics, equip...|[function, nodes,...|\n",
      "| 0.2|            2.557|   2010|         6|               0.921|                  0.671|      1.975|     2008|    129|          [solution]|[security, preven...|                  []|[attacks, nodes, ...|\n",
      "| 0.1|              2.0|   2000|         1|               0.533|                  0.533|        1.0|     1998|     39|                  []|               [alg]|                  []|[graph, network, ...|\n",
      "| 0.1|             6.75|   2008|         5|               0.937|                  0.793|      5.014|     2006|    113|                  []|       [reliability]|                  []|[network, routing...|\n",
      "| 0.1|            7.126|   2010|         6|                0.89|                  0.787|      5.849|     2008|    123|                  []|[aims, energy con...|                  []|[network, routing...|\n",
      "| 0.1|            6.175|   2010|         6|               0.938|                  0.787|      4.693|     2008|    127|                  []|                  []|            [colors]|[network, graph, ...|\n",
      "| 0.1|            7.185|   2010|         6|               0.843|                  0.786|      5.955|     2008|    135|[alcatel‐lucent, ...|                  []|             [serve]|[operations, cust...|\n",
      "| 0.1|            6.071|   2006|         4|               0.933|                  0.792|      3.617|     2004|     83|                  []|[packets, traffic...|       [scalability]|[network, nodes, ...|\n",
      "| 0.2|            2.111|   2006|         4|               0.849|                   0.64|      1.267|     2004|     83|             [links]|[packets, traffic...| [cost, scalability]|[network, nodes, ...|\n",
      "| 0.2|              1.0|   2000|         1|                0.17|                   0.17|        1.0|     1998|     39|                  []|         [alg, mesh]|                  []|[graph, network, ...|\n",
      "| 0.2|            2.053|   2008|         5|               0.825|                  0.628|      1.258|     2006|    113|                  []|[agents, reliabil...|          [strategy]|[network, routing...|\n",
      "| 0.2|            2.705|   2010|         6|               0.886|                  0.667|      2.089|     2008|    123|[clusters, scheme...|[energy consumption]|              [aims]|[network, routing...|\n",
      "| 0.2|             1.92|   2010|         6|               0.765|                   0.58|      1.297|     2008|    127|                  []|                  []|            [colors]|[network, graph, ...|\n",
      "| 0.2|            2.848|   2010|         6|               0.842|                  0.675|       2.32|     2008|    135|[alcatel‐lucent, ...|                  []|             [serve]|[operations, cust...|\n",
      "| 0.3|              1.0|   2000|         1|                0.17|                   0.17|        1.0|     1998|     39|                  []|               [alg]|              [mesh]|[graph, network, ...|\n",
      "| 0.3|            1.333|   2008|         5|               0.729|                  0.495|        1.0|     2006|    113|                  []|[agents, clusters...|          [strategy]|[network, routing...|\n",
      "+----+-----------------+-------+----------+--------------------+-----------------------+-----------+---------+-------+--------------------+--------------------+--------------------+--------------------+\n",
      "only showing top 20 rows\n",
      "\n"
     ]
    }
   ],
   "source": [
    "pivots.stable('network').show()"
   ]
  },
  {
   "cell_type": "code",
   "execution_count": 8,
   "metadata": {},
   "outputs": [
    {
     "name": "stdout",
     "output_type": "stream",
     "text": [
      "future pivot topics:\n",
      "+----+-----------------+-------+----------+--------------------+-----------------------+-----------+---------+-------+--------+--------------------+--------------------+--------------------+\n",
      "|Beta|ConvergenceDegree|Endyear|Liveliness|PivotEvolutionDegree|RelativeEvolutionDegree|SplitDegree|Startyear|TopicID|decaying|            emerging|            specific|              stable|\n",
      "+----+-----------------+-------+----------+--------------------+-----------------------+-----------+---------+-------+--------+--------------------+--------------------+--------------------+\n",
      "| 0.1|            7.121|   2000|         8|                0.88|                  0.776|       8.23|     1998|     32|      []|[run, database, u...|        [processors]|[design, nodes, n...|\n",
      "| 0.2|            3.355|   2000|         8|               0.877|                  0.679|       3.98|     1998|     32|      []|  [run, data, users]|[area, database, ...|[design, nodes, n...|\n",
      "| 0.3|            1.587|   2000|         8|               0.855|                  0.569|      2.326|     1998|     32|      []|[nodes, network, ...|[area, database, ...|            [design]|\n",
      "| 0.4|              1.0|   2000|         1|               0.514|                  0.514|        1.0|     1998|     32|      []|                  []|[nodes, network, ...|            [design]|\n",
      "+----+-----------------+-------+----------+--------------------+-----------------------+-----------+---------+-------+--------+--------------------+--------------------+--------------------+\n",
      "\n",
      "past pivot topics:\n",
      "+----+-----------------+-------+----------+--------------------+-----------------------+-----------+---------+-------+--------+--------------------+--------------------+--------------------+\n",
      "|Beta|ConvergenceDegree|Endyear|Liveliness|PivotEvolutionDegree|RelativeEvolutionDegree|SplitDegree|Startyear|TopicID|decaying|            emerging|            specific|              stable|\n",
      "+----+-----------------+-------+----------+--------------------+-----------------------+-----------+---------+-------+--------+--------------------+--------------------+--------------------+\n",
      "| 0.1|              3.0|   2000|         1|               0.649|                  0.649|        1.0|     1998|     32|      []|[run, database, u...|        [processors]|[design, nodes, n...|\n",
      "| 0.2|              2.0|   2000|         1|               0.529|                  0.529|        1.0|     1998|     32|      []|  [run, data, users]|[area, database, ...|[design, nodes, n...|\n",
      "| 0.3|              1.0|   2000|         1|               0.336|                  0.336|        1.0|     1998|     32|      []|[nodes, network, ...|[area, database, ...|            [design]|\n",
      "| 0.4|              1.0|   2000|         1|               0.336|                  0.336|        1.0|     1998|     32|      []|                  []|[nodes, network, ...|            [design]|\n",
      "| 0.5|              1.0|   2000|         1|               0.336|                  0.336|        1.0|     1998|     32|[design]|                  []|[nodes, network, ...|                  []|\n",
      "| 0.6|              1.0|   2000|         1|               0.336|                  0.336|        1.0|     1998|     32|[design]|                  []|[nodes, network, ...|                  []|\n",
      "+----+-----------------+-------+----------+--------------------+-----------------------+-----------+---------+-------+--------+--------------------+--------------------+--------------------+\n",
      "\n"
     ]
    }
   ],
   "source": [
    "pivots.specific('processors').show()"
   ]
  },
  {
   "cell_type": "code",
   "execution_count": 9,
   "metadata": {},
   "outputs": [
    {
     "name": "stdout",
     "output_type": "stream",
     "text": [
      "future pivot topics:\n",
      "+----+-----------------+-------+----------+--------------------+-----------------------+-----------+---------+-------+--------------------+--------------------+--------------------+--------------------+\n",
      "|Beta|ConvergenceDegree|Endyear|Liveliness|PivotEvolutionDegree|RelativeEvolutionDegree|SplitDegree|Startyear|TopicID|            decaying|            emerging|            specific|              stable|\n",
      "+----+-----------------+-------+----------+--------------------+-----------------------+-----------+---------+-------+--------------------+--------------------+--------------------+--------------------+\n",
      "| 0.1|             4.31|   2010|         3|               0.902|                   0.77|       7.87|     2008|    129|                  []|  [prevent, protect]|                  []|[security, attack...|\n",
      "| 0.1|            1.762|   2012|         2|               0.876|                  0.761|        7.4|     2010|    154|         [guarantee]|[verify, message,...|                  []|[security, scheme...|\n",
      "| 0.2|            1.308|   2010|         3|               0.767|                   0.59|      2.125|     2008|    129|          [solution]|[security, preven...|                  []|[attacks, nodes, ...|\n",
      "| 0.2|            1.167|   2012|         2|               0.676|                  0.579|      2.333|     2010|    154|  [guarantee, guide]|[verify, authenti...|           [message]|[security, scheme...|\n",
      "| 0.1|              1.0|   2014|         1|               0.592|                  0.592|        4.0|     2012|    179|[prevent, protect...|     [tags, privacy]|            [server]|[users, security,...|\n",
      "| 0.2|              1.0|   2014|         1|               0.592|                  0.592|        4.0|     2012|    179|[prevent, protect...|     [tags, privacy]|            [server]|[users, security,...|\n",
      "| 0.3|              1.0|   2010|         3|               0.655|                  0.487|        1.6|     2008|    129|                  []|[security, attack...|          [solution]|[nodes, network, ...|\n",
      "| 0.3|              1.0|   2012|         2|                0.39|                  0.452|        1.0|     2010|    154|[guarantee, protect]|[scheme, group, v...|    [guide, message]|[security, protocol]|\n",
      "| 0.3|              1.0|   2014|         1|               0.544|                  0.544|        3.0|     2012|    179|          [security]|[sharing, tags, p...|[prevent, server,...|     [users, images]|\n",
      "| 0.4|              1.0|   2010|         3|                0.64|                  0.419|      1.333|     2008|    129|                  []|          [protocol]|[security, attack...|[nodes, network, ...|\n",
      "| 0.4|              1.0|   2012|         2|                0.39|                  0.452|        1.0|     2010|    154|                  []|[security, scheme...|[guarantee, guide...|                  []|\n",
      "| 0.1|            5.938|   2008|         4|               0.902|                  0.776|      8.391|     2006|    108|              [call]|[alcatel‐lucent, ...|                  []|[services, design...|\n",
      "| 0.2|             2.78|   2008|         4|               0.891|                  0.696|       4.56|     2006|    108|              [call]|[alcatel‐lucent, ...|                  []|[services, design...|\n",
      "| 0.3|            1.619|   2008|         4|               0.882|                  0.596|      3.091|     2006|    108|              [call]|[alcatel‐lucent, ...|         [evolution]|[services, design...|\n",
      "| 0.4|              1.0|   2014|         1|               0.473|                  0.473|        2.0|     2012|    179|                  []|     [sharing, tags]|[security, privac...|     [users, images]|\n",
      "| 0.5|              1.0|   2012|         2|                0.39|                  0.452|        1.0|     2010|    154|                  []|[security, scheme...|[guarantee, guide...|                  []|\n",
      "| 0.5|              1.0|   2014|         1|               0.473|                  0.473|        2.0|     2012|    179|                  []|[users, sharing, ...|[security, privac...|                  []|\n",
      "| 0.4|              1.0|   2008|         1|               0.432|                  0.432|        1.0|     2006|    108|[services, design...|[alcatel‐lucent, ...|[security, evolut...|      [architecture]|\n",
      "| 0.5|              1.0|   2008|         1|               0.432|                  0.432|        1.0|     2006|    108|                  []|[alcatel‐lucent, ...|[services, securi...|                  []|\n",
      "+----+-----------------+-------+----------+--------------------+-----------------------+-----------+---------+-------+--------------------+--------------------+--------------------+--------------------+\n",
      "\n",
      "past pivot topics:\n",
      "+----+-----------------+-------+----------+--------------------+-----------------------+-----------+---------+-------+--------------------+--------------------+--------------------+--------------------+\n",
      "|Beta|ConvergenceDegree|Endyear|Liveliness|PivotEvolutionDegree|RelativeEvolutionDegree|SplitDegree|Startyear|TopicID|            decaying|            emerging|            specific|              stable|\n",
      "+----+-----------------+-------+----------+--------------------+-----------------------+-----------+---------+-------+--------------------+--------------------+--------------------+--------------------+\n",
      "| 0.1|            6.951|   2010|         6|               0.929|                  0.787|      5.644|     2008|    129|                  []|  [prevent, protect]|                  []|[security, attack...|\n",
      "| 0.1|            7.245|   2012|         7|               0.932|                  0.786|      6.107|     2010|    154|         [guarantee]|[verify, message,...|                  []|[security, scheme...|\n",
      "| 0.2|            2.557|   2010|         6|               0.921|                  0.671|      1.975|     2008|    129|          [solution]|[security, preven...|                  []|[attacks, nodes, ...|\n",
      "| 0.2|            2.532|   2012|         7|                0.94|                  0.671|      1.963|     2010|    154|  [guarantee, guide]|[verify, authenti...|           [message]|[security, scheme...|\n",
      "| 0.1|             7.54|   2014|         8|               0.925|                  0.786|      6.585|     2012|    179|[prevent, protect...|     [tags, privacy]|            [server]|[users, security,...|\n",
      "| 0.1|            7.619|   2015|         9|               0.939|                  0.784|      6.703|     2014|    181|[security, scheme...|                  []|            [resist]|                  []|\n",
      "| 0.2|            3.082|   2014|         8|               0.918|                  0.678|      2.648|     2012|    179|[prevent, protect...|     [tags, privacy]|            [server]|[users, security,...|\n",
      "| 0.2|             3.07|   2015|         9|               0.936|                  0.678|      2.654|     2014|    181|[security, scheme...|                  []|            [resist]|                  []|\n",
      "| 0.3|            1.731|   2014|         8|               0.883|                  0.566|       1.25|     2012|    179|          [security]|[sharing, tags, p...|[prevent, server,...|     [users, images]|\n",
      "| 0.3|            1.231|   2015|         9|               0.875|                  0.503|        1.0|     2014|    181|[security, scheme...|                  []| [detection, resist]|                  []|\n",
      "| 0.3|              1.3|   2010|         6|               0.837|                  0.501|        1.0|     2008|    129|                  []|[security, attack...|          [solution]|[nodes, network, ...|\n",
      "| 0.3|            1.273|   2012|         7|               0.921|                   0.51|        1.0|     2010|    154|[guarantee, protect]|[scheme, group, v...|    [guide, message]|[security, protocol]|\n",
      "| 0.4|              1.0|   2010|         3|               0.603|                  0.358|        1.0|     2008|    129|                  []|          [protocol]|[security, attack...|[nodes, network, ...|\n",
      "| 0.1|             6.82|   2008|         5|               0.929|                  0.793|        5.2|     2006|    108|              [call]|[alcatel‐lucent, ...|                  []|[services, design...|\n",
      "| 0.2|            2.594|   2008|         5|               0.904|                  0.677|       1.66|     2006|    108|              [call]|[alcatel‐lucent, ...|                  []|[services, design...|\n",
      "| 0.4|              1.0|   2014|         1|               0.516|                  0.516|        1.0|     2012|    179|                  []|     [sharing, tags]|[security, privac...|     [users, images]|\n",
      "| 0.4|              1.0|   2015|         2|               0.436|                  0.452|        1.0|     2014|    181|[security, scheme...|                  []|[attacks, detecti...|                  []|\n",
      "| 0.3|            1.222|   2008|         5|               0.746|                  0.557|        1.0|     2006|    108|              [call]|[alcatel‐lucent, ...|         [evolution]|[services, design...|\n",
      "| 0.5|              1.0|   2015|         2|               0.436|                  0.452|        1.0|     2014|    181|[security, scheme...|                  []|[attacks, detecti...|                  []|\n",
      "| 0.4|              2.0|   2008|         1|               0.538|                  0.538|        1.0|     2006|    108|[services, design...|[alcatel‐lucent, ...|[security, evolut...|      [architecture]|\n",
      "+----+-----------------+-------+----------+--------------------+-----------------------+-----------+---------+-------+--------------------+--------------------+--------------------+--------------------+\n",
      "\n"
     ]
    }
   ],
   "source": [
    "pivots.contains('security').show()"
   ]
  },
  {
   "cell_type": "code",
   "execution_count": 10,
   "metadata": {},
   "outputs": [
    {
     "name": "stdout",
     "output_type": "stream",
     "text": [
      "future pivot topics:\n",
      "+----+-----------------+-------+----------+--------------------+-----------------------+-----------+---------+-------+----------+--------------------+-----------+--------------------+\n",
      "|Beta|ConvergenceDegree|Endyear|Liveliness|PivotEvolutionDegree|RelativeEvolutionDegree|SplitDegree|Startyear|TopicID|  decaying|            emerging|   specific|              stable|\n",
      "+----+-----------------+-------+----------+--------------------+-----------------------+-----------+---------+-------+----------+--------------------+-----------+--------------------+\n",
      "| 0.2|            1.308|   2010|         3|               0.767|                   0.59|      2.125|     2008|    129|[solution]|[security, preven...|         []|[attacks, nodes, ...|\n",
      "| 0.3|              1.0|   2010|         3|               0.655|                  0.487|        1.6|     2008|    129|        []|[security, attack...| [solution]|[nodes, network, ...|\n",
      "| 0.1|            5.938|   2008|         4|               0.902|                  0.776|      8.391|     2006|    108|    [call]|[alcatel‐lucent, ...|         []|[services, design...|\n",
      "| 0.2|             2.78|   2008|         4|               0.891|                  0.696|       4.56|     2006|    108|    [call]|[alcatel‐lucent, ...|         []|[services, design...|\n",
      "| 0.3|            1.619|   2008|         4|               0.882|                  0.596|      3.091|     2006|    108|    [call]|[alcatel‐lucent, ...|[evolution]|[services, design...|\n",
      "+----+-----------------+-------+----------+--------------------+-----------------------+-----------+---------+-------+----------+--------------------+-----------+--------------------+\n",
      "\n",
      "past pivot topics:\n",
      "+----+-----------------+-------+----------+--------------------+-----------------------+-----------+---------+-------+----------+--------------------+-----------+--------------------+\n",
      "|Beta|ConvergenceDegree|Endyear|Liveliness|PivotEvolutionDegree|RelativeEvolutionDegree|SplitDegree|Startyear|TopicID|  decaying|            emerging|   specific|              stable|\n",
      "+----+-----------------+-------+----------+--------------------+-----------------------+-----------+---------+-------+----------+--------------------+-----------+--------------------+\n",
      "| 0.2|            2.557|   2010|         6|               0.921|                  0.671|      1.975|     2008|    129|[solution]|[security, preven...|         []|[attacks, nodes, ...|\n",
      "| 0.3|              1.3|   2010|         6|               0.837|                  0.501|        1.0|     2008|    129|        []|[security, attack...| [solution]|[nodes, network, ...|\n",
      "| 0.1|             6.82|   2008|         5|               0.929|                  0.793|        5.2|     2006|    108|    [call]|[alcatel‐lucent, ...|         []|[services, design...|\n",
      "| 0.2|            2.594|   2008|         5|               0.904|                  0.677|       1.66|     2006|    108|    [call]|[alcatel‐lucent, ...|         []|[services, design...|\n",
      "| 0.3|            1.222|   2008|         5|               0.746|                  0.557|        1.0|     2006|    108|    [call]|[alcatel‐lucent, ...|[evolution]|[services, design...|\n",
      "+----+-----------------+-------+----------+--------------------+-----------------------+-----------+---------+-------+----------+--------------------+-----------+--------------------+\n",
      "\n"
     ]
    }
   ],
   "source": [
    "pivots.stable('network').emerge('security').show()"
   ]
  },
  {
   "cell_type": "markdown",
   "metadata": {},
   "source": [
    "## Temporal Projection"
   ]
  },
  {
   "cell_type": "code",
   "execution_count": 11,
   "metadata": {},
   "outputs": [
    {
     "name": "stdout",
     "output_type": "stream",
     "text": [
      "future pivot topics:\n",
      "+----+-----------------+-------+----------+--------------------+-----------------------+-----------+---------+-------+----------+--------------------+-----------+--------------------+\n",
      "|Beta|ConvergenceDegree|Endyear|Liveliness|PivotEvolutionDegree|RelativeEvolutionDegree|SplitDegree|Startyear|TopicID|  decaying|            emerging|   specific|              stable|\n",
      "+----+-----------------+-------+----------+--------------------+-----------------------+-----------+---------+-------+----------+--------------------+-----------+--------------------+\n",
      "| 0.2|            1.308|   2010|         3|               0.767|                   0.59|      2.125|     2008|    129|[solution]|[security, preven...|         []|[attacks, nodes, ...|\n",
      "| 0.3|              1.0|   2010|         3|               0.655|                  0.487|        1.6|     2008|    129|        []|[security, attack...| [solution]|[nodes, network, ...|\n",
      "| 0.1|            5.938|   2008|         4|               0.902|                  0.776|      8.391|     2006|    108|    [call]|[alcatel‐lucent, ...|         []|[services, design...|\n",
      "| 0.2|             2.78|   2008|         4|               0.891|                  0.696|       4.56|     2006|    108|    [call]|[alcatel‐lucent, ...|         []|[services, design...|\n",
      "| 0.3|            1.619|   2008|         4|               0.882|                  0.596|      3.091|     2006|    108|    [call]|[alcatel‐lucent, ...|[evolution]|[services, design...|\n",
      "+----+-----------------+-------+----------+--------------------+-----------------------+-----------+---------+-------+----------+--------------------+-----------+--------------------+\n",
      "\n"
     ]
    }
   ],
   "source": [
    "pivots.stable('network').emerge('security').future().show()"
   ]
  },
  {
   "cell_type": "code",
   "execution_count": 12,
   "metadata": {},
   "outputs": [
    {
     "name": "stdout",
     "output_type": "stream",
     "text": [
      "past pivot topics:\n",
      "+----+-----------------+-------+----------+--------------------+-----------------------+-----------+---------+-------+----------+--------------------+-----------+--------------------+\n",
      "|Beta|ConvergenceDegree|Endyear|Liveliness|PivotEvolutionDegree|RelativeEvolutionDegree|SplitDegree|Startyear|TopicID|  decaying|            emerging|   specific|              stable|\n",
      "+----+-----------------+-------+----------+--------------------+-----------------------+-----------+---------+-------+----------+--------------------+-----------+--------------------+\n",
      "| 0.2|            2.557|   2010|         6|               0.921|                  0.671|      1.975|     2008|    129|[solution]|[security, preven...|         []|[attacks, nodes, ...|\n",
      "| 0.3|              1.3|   2010|         6|               0.837|                  0.501|        1.0|     2008|    129|        []|[security, attack...| [solution]|[nodes, network, ...|\n",
      "| 0.1|             6.82|   2008|         5|               0.929|                  0.793|        5.2|     2006|    108|    [call]|[alcatel‐lucent, ...|         []|[services, design...|\n",
      "| 0.2|            2.594|   2008|         5|               0.904|                  0.677|       1.66|     2006|    108|    [call]|[alcatel‐lucent, ...|         []|[services, design...|\n",
      "| 0.3|            1.222|   2008|         5|               0.746|                  0.557|        1.0|     2006|    108|    [call]|[alcatel‐lucent, ...|[evolution]|[services, design...|\n",
      "+----+-----------------+-------+----------+--------------------+-----------------------+-----------+---------+-------+----------+--------------------+-----------+--------------------+\n",
      "\n"
     ]
    }
   ],
   "source": [
    "pivots.stable('network').emerge('security').past().show()"
   ]
  },
  {
   "cell_type": "markdown",
   "metadata": {},
   "source": [
    "## Temporal Filters"
   ]
  },
  {
   "cell_type": "code",
   "execution_count": 13,
   "metadata": {},
   "outputs": [
    {
     "name": "stdout",
     "output_type": "stream",
     "text": [
      "future pivot topics:\n",
      "+----+-----------------+-------+----------+--------------------+-----------------------+-----------+---------+-------+--------------------+--------------------+--------------------+--------------------+\n",
      "|Beta|ConvergenceDegree|Endyear|Liveliness|PivotEvolutionDegree|RelativeEvolutionDegree|SplitDegree|Startyear|TopicID|            decaying|            emerging|            specific|              stable|\n",
      "+----+-----------------+-------+----------+--------------------+-----------------------+-----------+---------+-------+--------------------+--------------------+--------------------+--------------------+\n",
      "| 0.1|             4.31|   2010|         3|               0.902|                   0.77|       7.87|     2008|    129|                  []|  [prevent, protect]|                  []|[security, attack...|\n",
      "| 0.1|            1.762|   2012|         2|               0.876|                  0.761|        7.4|     2010|    154|         [guarantee]|[verify, message,...|                  []|[security, scheme...|\n",
      "| 0.2|            1.308|   2010|         3|               0.767|                   0.59|      2.125|     2008|    129|          [solution]|[security, preven...|                  []|[attacks, nodes, ...|\n",
      "| 0.2|            1.167|   2012|         2|               0.676|                  0.579|      2.333|     2010|    154|  [guarantee, guide]|[verify, authenti...|           [message]|[security, scheme...|\n",
      "| 0.3|              1.0|   2010|         3|               0.655|                  0.487|        1.6|     2008|    129|                  []|[security, attack...|          [solution]|[nodes, network, ...|\n",
      "| 0.3|              1.0|   2012|         2|                0.39|                  0.452|        1.0|     2010|    154|[guarantee, protect]|[scheme, group, v...|    [guide, message]|[security, protocol]|\n",
      "| 0.4|              1.0|   2010|         3|                0.64|                  0.419|      1.333|     2008|    129|                  []|          [protocol]|[security, attack...|[nodes, network, ...|\n",
      "| 0.4|              1.0|   2012|         2|                0.39|                  0.452|        1.0|     2010|    154|                  []|[security, scheme...|[guarantee, guide...|                  []|\n",
      "| 0.5|              1.0|   2012|         2|                0.39|                  0.452|        1.0|     2010|    154|                  []|[security, scheme...|[guarantee, guide...|                  []|\n",
      "+----+-----------------+-------+----------+--------------------+-----------------------+-----------+---------+-------+--------------------+--------------------+--------------------+--------------------+\n",
      "\n",
      "past pivot topics:\n",
      "+----+-----------------+-------+----------+--------------------+-----------------------+-----------+---------+-------+--------------------+--------------------+--------------------+--------------------+\n",
      "|Beta|ConvergenceDegree|Endyear|Liveliness|PivotEvolutionDegree|RelativeEvolutionDegree|SplitDegree|Startyear|TopicID|            decaying|            emerging|            specific|              stable|\n",
      "+----+-----------------+-------+----------+--------------------+-----------------------+-----------+---------+-------+--------------------+--------------------+--------------------+--------------------+\n",
      "| 0.1|            6.951|   2010|         6|               0.929|                  0.787|      5.644|     2008|    129|                  []|  [prevent, protect]|                  []|[security, attack...|\n",
      "| 0.1|            7.245|   2012|         7|               0.932|                  0.786|      6.107|     2010|    154|         [guarantee]|[verify, message,...|                  []|[security, scheme...|\n",
      "| 0.2|            2.557|   2010|         6|               0.921|                  0.671|      1.975|     2008|    129|          [solution]|[security, preven...|                  []|[attacks, nodes, ...|\n",
      "| 0.2|            2.532|   2012|         7|                0.94|                  0.671|      1.963|     2010|    154|  [guarantee, guide]|[verify, authenti...|           [message]|[security, scheme...|\n",
      "| 0.3|              1.3|   2010|         6|               0.837|                  0.501|        1.0|     2008|    129|                  []|[security, attack...|          [solution]|[nodes, network, ...|\n",
      "| 0.3|            1.273|   2012|         7|               0.921|                   0.51|        1.0|     2010|    154|[guarantee, protect]|[scheme, group, v...|    [guide, message]|[security, protocol]|\n",
      "| 0.4|              1.0|   2010|         3|               0.603|                  0.358|        1.0|     2008|    129|                  []|          [protocol]|[security, attack...|[nodes, network, ...|\n",
      "+----+-----------------+-------+----------+--------------------+-----------------------+-----------+---------+-------+--------------------+--------------------+--------------------+--------------------+\n",
      "\n"
     ]
    }
   ],
   "source": [
    "pivots.contains('security').period(2008,0).period(2012,1).show()"
   ]
  },
  {
   "cell_type": "markdown",
   "metadata": {},
   "source": [
    "## Pattern Filters"
   ]
  },
  {
   "cell_type": "code",
   "execution_count": 14,
   "metadata": {},
   "outputs": [
    {
     "name": "stdout",
     "output_type": "stream",
     "text": [
      "future pivot topics:\n",
      "+----+-----------------+-------+----------+--------------------+-----------------------+-----------+---------+-------+--------------------+--------------------+--------------------+--------------------+\n",
      "|Beta|ConvergenceDegree|Endyear|Liveliness|PivotEvolutionDegree|RelativeEvolutionDegree|SplitDegree|Startyear|TopicID|            decaying|            emerging|            specific|              stable|\n",
      "+----+-----------------+-------+----------+--------------------+-----------------------+-----------+---------+-------+--------------------+--------------------+--------------------+--------------------+\n",
      "| 0.1|             4.31|   2010|         3|               0.902|                   0.77|       7.87|     2008|    129|                  []|  [prevent, protect]|                  []|[security, attack...|\n",
      "| 0.1|            1.762|   2012|         2|               0.876|                  0.761|        7.4|     2010|    154|         [guarantee]|[verify, message,...|                  []|[security, scheme...|\n",
      "| 0.2|            1.308|   2010|         3|               0.767|                   0.59|      2.125|     2008|    129|          [solution]|[security, preven...|                  []|[attacks, nodes, ...|\n",
      "| 0.2|            1.167|   2012|         2|               0.676|                  0.579|      2.333|     2010|    154|  [guarantee, guide]|[verify, authenti...|           [message]|[security, scheme...|\n",
      "| 0.3|              1.0|   2010|         3|               0.655|                  0.487|        1.6|     2008|    129|                  []|[security, attack...|          [solution]|[nodes, network, ...|\n",
      "| 0.3|              1.0|   2012|         2|                0.39|                  0.452|        1.0|     2010|    154|[guarantee, protect]|[scheme, group, v...|    [guide, message]|[security, protocol]|\n",
      "| 0.4|              1.0|   2010|         3|                0.64|                  0.419|      1.333|     2008|    129|                  []|          [protocol]|[security, attack...|[nodes, network, ...|\n",
      "| 0.4|              1.0|   2012|         2|                0.39|                  0.452|        1.0|     2010|    154|                  []|[security, scheme...|[guarantee, guide...|                  []|\n",
      "| 0.1|            5.938|   2008|         4|               0.902|                  0.776|      8.391|     2006|    108|              [call]|[alcatel‐lucent, ...|                  []|[services, design...|\n",
      "| 0.2|             2.78|   2008|         4|               0.891|                  0.696|       4.56|     2006|    108|              [call]|[alcatel‐lucent, ...|                  []|[services, design...|\n",
      "| 0.3|            1.619|   2008|         4|               0.882|                  0.596|      3.091|     2006|    108|              [call]|[alcatel‐lucent, ...|         [evolution]|[services, design...|\n",
      "| 0.5|              1.0|   2012|         2|                0.39|                  0.452|        1.0|     2010|    154|                  []|[security, scheme...|[guarantee, guide...|                  []|\n",
      "+----+-----------------+-------+----------+--------------------+-----------------------+-----------+---------+-------+--------------------+--------------------+--------------------+--------------------+\n",
      "\n",
      "past pivot topics:\n",
      "+----+-----------------+-------+----------+--------------------+-----------------------+-----------+---------+-------+--------------------+--------------------+--------------------+--------------------+\n",
      "|Beta|ConvergenceDegree|Endyear|Liveliness|PivotEvolutionDegree|RelativeEvolutionDegree|SplitDegree|Startyear|TopicID|            decaying|            emerging|            specific|              stable|\n",
      "+----+-----------------+-------+----------+--------------------+-----------------------+-----------+---------+-------+--------------------+--------------------+--------------------+--------------------+\n",
      "| 0.1|            6.951|   2010|         6|               0.929|                  0.787|      5.644|     2008|    129|                  []|  [prevent, protect]|                  []|[security, attack...|\n",
      "| 0.2|            2.557|   2010|         6|               0.921|                  0.671|      1.975|     2008|    129|          [solution]|[security, preven...|                  []|[attacks, nodes, ...|\n",
      "| 0.3|              1.3|   2010|         6|               0.837|                  0.501|        1.0|     2008|    129|                  []|[security, attack...|          [solution]|[nodes, network, ...|\n",
      "| 0.4|              1.0|   2010|         3|               0.603|                  0.358|        1.0|     2008|    129|                  []|          [protocol]|[security, attack...|[nodes, network, ...|\n",
      "| 0.1|             6.82|   2008|         5|               0.929|                  0.793|        5.2|     2006|    108|              [call]|[alcatel‐lucent, ...|                  []|[services, design...|\n",
      "| 0.2|            2.594|   2008|         5|               0.904|                  0.677|       1.66|     2006|    108|              [call]|[alcatel‐lucent, ...|                  []|[services, design...|\n",
      "| 0.4|              1.0|   2015|         2|               0.436|                  0.452|        1.0|     2014|    181|[security, scheme...|                  []|[attacks, detecti...|                  []|\n",
      "| 0.3|            1.222|   2008|         5|               0.746|                  0.557|        1.0|     2006|    108|              [call]|[alcatel‐lucent, ...|         [evolution]|[services, design...|\n",
      "| 0.5|              1.0|   2015|         2|               0.436|                  0.452|        1.0|     2014|    181|[security, scheme...|                  []|[attacks, detecti...|                  []|\n",
      "+----+-----------------+-------+----------+--------------------+-----------------------+-----------+---------+-------+--------------------+--------------------+--------------------+--------------------+\n",
      "\n"
     ]
    }
   ],
   "source": [
    "pivots.contains('security').live(2, 0).live(6,1).show()"
   ]
  },
  {
   "cell_type": "code",
   "execution_count": 15,
   "metadata": {},
   "outputs": [
    {
     "name": "stdout",
     "output_type": "stream",
     "text": [
      "future pivot topics:\n",
      "+----+-----------------+-------+----------+--------------------+-----------------------+-----------+---------+-------+--------------------+--------------------+--------------------+--------------------+\n",
      "|Beta|ConvergenceDegree|Endyear|Liveliness|PivotEvolutionDegree|RelativeEvolutionDegree|SplitDegree|Startyear|TopicID|            decaying|            emerging|            specific|              stable|\n",
      "+----+-----------------+-------+----------+--------------------+-----------------------+-----------+---------+-------+--------------------+--------------------+--------------------+--------------------+\n",
      "| 0.2|            1.167|   2012|         2|               0.676|                  0.579|      2.333|     2010|    154|  [guarantee, guide]|[verify, authenti...|           [message]|[security, scheme...|\n",
      "| 0.3|              1.0|   2010|         3|               0.655|                  0.487|        1.6|     2008|    129|                  []|[security, attack...|          [solution]|[nodes, network, ...|\n",
      "| 0.3|              1.0|   2012|         2|                0.39|                  0.452|        1.0|     2010|    154|[guarantee, protect]|[scheme, group, v...|    [guide, message]|[security, protocol]|\n",
      "| 0.4|              1.0|   2010|         3|                0.64|                  0.419|      1.333|     2008|    129|                  []|          [protocol]|[security, attack...|[nodes, network, ...|\n",
      "| 0.4|              1.0|   2012|         2|                0.39|                  0.452|        1.0|     2010|    154|                  []|[security, scheme...|[guarantee, guide...|                  []|\n",
      "| 0.5|              1.0|   2012|         2|                0.39|                  0.452|        1.0|     2010|    154|                  []|[security, scheme...|[guarantee, guide...|                  []|\n",
      "+----+-----------------+-------+----------+--------------------+-----------------------+-----------+---------+-------+--------------------+--------------------+--------------------+--------------------+\n",
      "\n",
      "past pivot topics:\n",
      "+----+-----------------+-------+----------+--------------------+-----------------------+-----------+---------+-------+--------------------+--------------------+--------------------+--------------------+\n",
      "|Beta|ConvergenceDegree|Endyear|Liveliness|PivotEvolutionDegree|RelativeEvolutionDegree|SplitDegree|Startyear|TopicID|            decaying|            emerging|            specific|              stable|\n",
      "+----+-----------------+-------+----------+--------------------+-----------------------+-----------+---------+-------+--------------------+--------------------+--------------------+--------------------+\n",
      "| 0.3|              1.3|   2010|         6|               0.837|                  0.501|        1.0|     2008|    129|                  []|[security, attack...|          [solution]|[nodes, network, ...|\n",
      "| 0.4|              1.0|   2010|         3|               0.603|                  0.358|        1.0|     2008|    129|                  []|          [protocol]|[security, attack...|[nodes, network, ...|\n",
      "| 0.4|              1.0|   2015|         2|               0.436|                  0.452|        1.0|     2014|    181|[security, scheme...|                  []|[attacks, detecti...|                  []|\n",
      "| 0.3|            1.222|   2008|         5|               0.746|                  0.557|        1.0|     2006|    108|              [call]|[alcatel‐lucent, ...|         [evolution]|[services, design...|\n",
      "| 0.5|              1.0|   2015|         2|               0.436|                  0.452|        1.0|     2014|    181|[security, scheme...|                  []|[attacks, detecti...|                  []|\n",
      "+----+-----------------+-------+----------+--------------------+-----------------------+-----------+---------+-------+--------------------+--------------------+--------------------+--------------------+\n",
      "\n"
     ]
    }
   ],
   "source": [
    "pivots.contains('security').live(2, 0).live(6,1).split(3,1).conv(1.3,1).show()"
   ]
  },
  {
   "cell_type": "markdown",
   "metadata": {},
   "source": [
    "## Evolution Filters"
   ]
  },
  {
   "cell_type": "code",
   "execution_count": 16,
   "metadata": {},
   "outputs": [
    {
     "name": "stdout",
     "output_type": "stream",
     "text": [
      "future pivot topics:\n",
      "+----+-----------------+-------+----------+--------------------+-----------------------+-----------+---------+-------+------------------+--------------------+-----------+--------------------+\n",
      "|Beta|ConvergenceDegree|Endyear|Liveliness|PivotEvolutionDegree|RelativeEvolutionDegree|SplitDegree|Startyear|TopicID|          decaying|            emerging|   specific|              stable|\n",
      "+----+-----------------+-------+----------+--------------------+-----------------------+-----------+---------+-------+------------------+--------------------+-----------+--------------------+\n",
      "| 0.1|             4.31|   2010|         3|               0.902|                   0.77|       7.87|     2008|    129|                []|  [prevent, protect]|         []|[security, attack...|\n",
      "| 0.1|            1.762|   2012|         2|               0.876|                  0.761|        7.4|     2010|    154|       [guarantee]|[verify, message,...|         []|[security, scheme...|\n",
      "| 0.2|            1.308|   2010|         3|               0.767|                   0.59|      2.125|     2008|    129|        [solution]|[security, preven...|         []|[attacks, nodes, ...|\n",
      "| 0.2|            1.167|   2012|         2|               0.676|                  0.579|      2.333|     2010|    154|[guarantee, guide]|[verify, authenti...|  [message]|[security, scheme...|\n",
      "| 0.1|            5.938|   2008|         4|               0.902|                  0.776|      8.391|     2006|    108|            [call]|[alcatel‐lucent, ...|         []|[services, design...|\n",
      "| 0.2|             2.78|   2008|         4|               0.891|                  0.696|       4.56|     2006|    108|            [call]|[alcatel‐lucent, ...|         []|[services, design...|\n",
      "| 0.3|            1.619|   2008|         4|               0.882|                  0.596|      3.091|     2006|    108|            [call]|[alcatel‐lucent, ...|[evolution]|[services, design...|\n",
      "+----+-----------------+-------+----------+--------------------+-----------------------+-----------+---------+-------+------------------+--------------------+-----------+--------------------+\n",
      "\n",
      "past pivot topics:\n",
      "+----+-----------------+-------+----------+--------------------+-----------------------+-----------+---------+-------+--------------------+--------------------+--------------------+--------------------+\n",
      "|Beta|ConvergenceDegree|Endyear|Liveliness|PivotEvolutionDegree|RelativeEvolutionDegree|SplitDegree|Startyear|TopicID|            decaying|            emerging|            specific|              stable|\n",
      "+----+-----------------+-------+----------+--------------------+-----------------------+-----------+---------+-------+--------------------+--------------------+--------------------+--------------------+\n",
      "| 0.1|            6.951|   2010|         6|               0.929|                  0.787|      5.644|     2008|    129|                  []|  [prevent, protect]|                  []|[security, attack...|\n",
      "| 0.1|            7.245|   2012|         7|               0.932|                  0.786|      6.107|     2010|    154|         [guarantee]|[verify, message,...|                  []|[security, scheme...|\n",
      "| 0.2|            2.557|   2010|         6|               0.921|                  0.671|      1.975|     2008|    129|          [solution]|[security, preven...|                  []|[attacks, nodes, ...|\n",
      "| 0.2|            2.532|   2012|         7|                0.94|                  0.671|      1.963|     2010|    154|  [guarantee, guide]|[verify, authenti...|           [message]|[security, scheme...|\n",
      "| 0.1|             7.54|   2014|         8|               0.925|                  0.786|      6.585|     2012|    179|[prevent, protect...|     [tags, privacy]|            [server]|[users, security,...|\n",
      "| 0.1|            7.619|   2015|         9|               0.939|                  0.784|      6.703|     2014|    181|[security, scheme...|                  []|            [resist]|                  []|\n",
      "| 0.2|            3.082|   2014|         8|               0.918|                  0.678|      2.648|     2012|    179|[prevent, protect...|     [tags, privacy]|            [server]|[users, security,...|\n",
      "| 0.2|             3.07|   2015|         9|               0.936|                  0.678|      2.654|     2014|    181|[security, scheme...|                  []|            [resist]|                  []|\n",
      "| 0.3|            1.731|   2014|         8|               0.883|                  0.566|       1.25|     2012|    179|          [security]|[sharing, tags, p...|[prevent, server,...|     [users, images]|\n",
      "| 0.3|            1.231|   2015|         9|               0.875|                  0.503|        1.0|     2014|    181|[security, scheme...|                  []| [detection, resist]|                  []|\n",
      "| 0.3|              1.3|   2010|         6|               0.837|                  0.501|        1.0|     2008|    129|                  []|[security, attack...|          [solution]|[nodes, network, ...|\n",
      "| 0.3|            1.273|   2012|         7|               0.921|                   0.51|        1.0|     2010|    154|[guarantee, protect]|[scheme, group, v...|    [guide, message]|[security, protocol]|\n",
      "| 0.1|             6.82|   2008|         5|               0.929|                  0.793|        5.2|     2006|    108|              [call]|[alcatel‐lucent, ...|                  []|[services, design...|\n",
      "| 0.2|            2.594|   2008|         5|               0.904|                  0.677|       1.66|     2006|    108|              [call]|[alcatel‐lucent, ...|                  []|[services, design...|\n",
      "| 0.3|            1.222|   2008|         5|               0.746|                  0.557|        1.0|     2006|    108|              [call]|[alcatel‐lucent, ...|         [evolution]|[services, design...|\n",
      "+----+-----------------+-------+----------+--------------------+-----------------------+-----------+---------+-------+--------------------+--------------------+--------------------+--------------------+\n",
      "\n"
     ]
    }
   ],
   "source": [
    "pivots.contains('security').Revol(0.5,0).Pevol(0.6,0).show()"
   ]
  },
  {
   "cell_type": "markdown",
   "metadata": {},
   "source": [
    "## Set Operations"
   ]
  },
  {
   "cell_type": "code",
   "execution_count": 17,
   "metadata": {},
   "outputs": [
    {
     "name": "stdout",
     "output_type": "stream",
     "text": [
      "future pivot topics:\n",
      "+----+-----------------+-------+----------+--------------------+-----------------------+-----------+---------+-------+--------------------+--------------------+--------------------+--------------------+\n",
      "|Beta|ConvergenceDegree|Endyear|Liveliness|PivotEvolutionDegree|RelativeEvolutionDegree|SplitDegree|Startyear|TopicID|            decaying|            emerging|            specific|              stable|\n",
      "+----+-----------------+-------+----------+--------------------+-----------------------+-----------+---------+-------+--------------------+--------------------+--------------------+--------------------+\n",
      "| 0.2|            3.484|   2004|         6|                0.89|                  0.696|      4.646|     2002|     75|            [faults]|[operations, soft...|[specification, s...|              [type]|\n",
      "| 0.1|             7.25|   2000|         8|               0.844|                  0.779|      8.352|     1998|     20|                  []|              [goal]|         [formalism]|[implementation, ...|\n",
      "| 0.2|            3.398|   2000|         8|               0.833|                  0.684|      3.991|     1998|     20|                  []|[structure, goal,...|         [formalism]|[implementation, ...|\n",
      "| 0.1|            7.206|   2004|         6|               0.901|                  0.778|      8.761|     2002|     75|[specification, d...|          [sequence]|                  []|[type, operations...|\n",
      "+----+-----------------+-------+----------+--------------------+-----------------------+-----------+---------+-------+--------------------+--------------------+--------------------+--------------------+\n",
      "\n",
      "past pivot topics:\n",
      "+----+-----------------+-------+----------+--------------------+-----------------------+-----------+---------+-------+--------------------+--------------------+--------------------+--------------------+\n",
      "|Beta|ConvergenceDegree|Endyear|Liveliness|PivotEvolutionDegree|RelativeEvolutionDegree|SplitDegree|Startyear|TopicID|            decaying|            emerging|            specific|              stable|\n",
      "+----+-----------------+-------+----------+--------------------+-----------------------+-----------+---------+-------+--------------------+--------------------+--------------------+--------------------+\n",
      "| 0.2|             1.25|   2004|         3|               0.856|                  0.666|        1.0|     2002|     75|            [faults]|[operations, soft...|[specification, s...|              [type]|\n",
      "| 0.1|             11.0|   2000|         1|               0.811|                  0.811|        1.0|     1998|     20|                  []|              [goal]|         [formalism]|[implementation, ...|\n",
      "| 0.2|              4.0|   2000|         1|               0.747|                  0.747|        1.0|     1998|     20|                  []|[structure, goal,...|         [formalism]|[implementation, ...|\n",
      "| 0.1|            7.115|   2004|         3|               0.897|                  0.798|      4.205|     2002|     75|[specification, d...|          [sequence]|                  []|[type, operations...|\n",
      "+----+-----------------+-------+----------+--------------------+-----------------------+-----------+---------+-------+--------------------+--------------------+--------------------+--------------------+\n",
      "\n"
     ]
    }
   ],
   "source": [
    "pivots.emerge('goal').union(pivots.decay('specification')).show()"
   ]
  },
  {
   "cell_type": "code",
   "execution_count": 18,
   "metadata": {},
   "outputs": [
    {
     "name": "stdout",
     "output_type": "stream",
     "text": [
      "future pivot topics:\n",
      "+----+-----------------+-------+----------+--------------------+-----------------------+-----------+---------+-------+----------+--------------------+-----------+--------------------+\n",
      "|Beta|ConvergenceDegree|Endyear|Liveliness|PivotEvolutionDegree|RelativeEvolutionDegree|SplitDegree|Startyear|TopicID|  decaying|            emerging|   specific|              stable|\n",
      "+----+-----------------+-------+----------+--------------------+-----------------------+-----------+---------+-------+----------+--------------------+-----------+--------------------+\n",
      "| 0.3|              1.0|   2010|         3|               0.655|                  0.487|        1.6|     2008|    129|        []|[security, attack...| [solution]|[nodes, network, ...|\n",
      "| 0.3|            1.619|   2008|         4|               0.882|                  0.596|      3.091|     2006|    108|    [call]|[alcatel‐lucent, ...|[evolution]|[services, design...|\n",
      "| 0.1|            5.938|   2008|         4|               0.902|                  0.776|      8.391|     2006|    108|    [call]|[alcatel‐lucent, ...|         []|[services, design...|\n",
      "| 0.2|            1.308|   2010|         3|               0.767|                   0.59|      2.125|     2008|    129|[solution]|[security, preven...|         []|[attacks, nodes, ...|\n",
      "| 0.2|             2.78|   2008|         4|               0.891|                  0.696|       4.56|     2006|    108|    [call]|[alcatel‐lucent, ...|         []|[services, design...|\n",
      "+----+-----------------+-------+----------+--------------------+-----------------------+-----------+---------+-------+----------+--------------------+-----------+--------------------+\n",
      "\n",
      "past pivot topics:\n",
      "+----+-----------------+-------+----------+--------------------+-----------------------+-----------+---------+-------+----------+--------------------+-----------+--------------------+\n",
      "|Beta|ConvergenceDegree|Endyear|Liveliness|PivotEvolutionDegree|RelativeEvolutionDegree|SplitDegree|Startyear|TopicID|  decaying|            emerging|   specific|              stable|\n",
      "+----+-----------------+-------+----------+--------------------+-----------------------+-----------+---------+-------+----------+--------------------+-----------+--------------------+\n",
      "| 0.3|              1.3|   2010|         6|               0.837|                  0.501|        1.0|     2008|    129|        []|[security, attack...| [solution]|[nodes, network, ...|\n",
      "| 0.1|             6.82|   2008|         5|               0.929|                  0.793|        5.2|     2006|    108|    [call]|[alcatel‐lucent, ...|         []|[services, design...|\n",
      "| 0.2|            2.557|   2010|         6|               0.921|                  0.671|      1.975|     2008|    129|[solution]|[security, preven...|         []|[attacks, nodes, ...|\n",
      "| 0.2|            2.594|   2008|         5|               0.904|                  0.677|       1.66|     2006|    108|    [call]|[alcatel‐lucent, ...|         []|[services, design...|\n",
      "| 0.3|            1.222|   2008|         5|               0.746|                  0.557|        1.0|     2006|    108|    [call]|[alcatel‐lucent, ...|[evolution]|[services, design...|\n",
      "+----+-----------------+-------+----------+--------------------+-----------------------+-----------+---------+-------+----------+--------------------+-----------+--------------------+\n",
      "\n"
     ]
    }
   ],
   "source": [
    "pivots.stable('network').intersect(pivots.emerge('security')).show()"
   ]
  },
  {
   "cell_type": "code",
   "execution_count": 19,
   "metadata": {},
   "outputs": [
    {
     "name": "stdout",
     "output_type": "stream",
     "text": [
      "future pivot topics:\n",
      "+----+-----------------+-------+----------+--------------------+-----------------------+-----------+---------+-------+--------------------+--------------------+--------------------+--------------------+\n",
      "|Beta|ConvergenceDegree|Endyear|Liveliness|PivotEvolutionDegree|RelativeEvolutionDegree|SplitDegree|Startyear|TopicID|            decaying|            emerging|            specific|              stable|\n",
      "+----+-----------------+-------+----------+--------------------+-----------------------+-----------+---------+-------+--------------------+--------------------+--------------------+--------------------+\n",
      "| 0.5|              1.0|   2012|         2|                0.39|                  0.452|        1.0|     2010|    154|                  []|[security, scheme...|[guarantee, guide...|                  []|\n",
      "| 0.4|              1.0|   2008|         1|               0.432|                  0.432|        1.0|     2006|    108|[services, design...|[alcatel‐lucent, ...|[security, evolut...|      [architecture]|\n",
      "| 0.4|              1.0|   2010|         3|                0.64|                  0.419|      1.333|     2008|    129|                  []|          [protocol]|[security, attack...|[nodes, network, ...|\n",
      "| 0.1|             4.31|   2010|         3|               0.902|                   0.77|       7.87|     2008|    129|                  []|  [prevent, protect]|                  []|[security, attack...|\n",
      "| 0.3|              1.0|   2010|         3|               0.655|                  0.487|        1.6|     2008|    129|                  []|[security, attack...|          [solution]|[nodes, network, ...|\n",
      "| 0.3|            1.619|   2008|         4|               0.882|                  0.596|      3.091|     2006|    108|              [call]|[alcatel‐lucent, ...|         [evolution]|[services, design...|\n",
      "| 0.1|              1.0|   2014|         1|               0.592|                  0.592|        4.0|     2012|    179|[prevent, protect...|     [tags, privacy]|            [server]|[users, security,...|\n",
      "| 0.4|              1.0|   2014|         1|               0.473|                  0.473|        2.0|     2012|    179|                  []|     [sharing, tags]|[security, privac...|     [users, images]|\n",
      "| 0.3|              1.0|   2014|         1|               0.544|                  0.544|        3.0|     2012|    179|          [security]|[sharing, tags, p...|[prevent, server,...|     [users, images]|\n",
      "| 0.5|              1.0|   2014|         1|               0.473|                  0.473|        2.0|     2012|    179|                  []|[users, sharing, ...|[security, privac...|                  []|\n",
      "| 0.5|              1.0|   2008|         1|               0.432|                  0.432|        1.0|     2006|    108|                  []|[alcatel‐lucent, ...|[services, securi...|                  []|\n",
      "| 0.1|            5.938|   2008|         4|               0.902|                  0.776|      8.391|     2006|    108|              [call]|[alcatel‐lucent, ...|                  []|[services, design...|\n",
      "| 0.2|              1.0|   2014|         1|               0.592|                  0.592|        4.0|     2012|    179|[prevent, protect...|     [tags, privacy]|            [server]|[users, security,...|\n",
      "| 0.4|              1.0|   2012|         2|                0.39|                  0.452|        1.0|     2010|    154|                  []|[security, scheme...|[guarantee, guide...|                  []|\n",
      "| 0.2|            1.308|   2010|         3|               0.767|                   0.59|      2.125|     2008|    129|          [solution]|[security, preven...|                  []|[attacks, nodes, ...|\n",
      "| 0.2|             2.78|   2008|         4|               0.891|                  0.696|       4.56|     2006|    108|              [call]|[alcatel‐lucent, ...|                  []|[services, design...|\n",
      "+----+-----------------+-------+----------+--------------------+-----------------------+-----------+---------+-------+--------------------+--------------------+--------------------+--------------------+\n",
      "\n",
      "past pivot topics:\n",
      "+----+-----------------+-------+----------+--------------------+-----------------------+-----------+---------+-------+--------------------+--------------------+--------------------+--------------------+\n",
      "|Beta|ConvergenceDegree|Endyear|Liveliness|PivotEvolutionDegree|RelativeEvolutionDegree|SplitDegree|Startyear|TopicID|            decaying|            emerging|            specific|              stable|\n",
      "+----+-----------------+-------+----------+--------------------+-----------------------+-----------+---------+-------+--------------------+--------------------+--------------------+--------------------+\n",
      "| 0.3|              1.3|   2010|         6|               0.837|                  0.501|        1.0|     2008|    129|                  []|[security, attack...|          [solution]|[nodes, network, ...|\n",
      "| 0.1|            6.951|   2010|         6|               0.929|                  0.787|      5.644|     2008|    129|                  []|  [prevent, protect]|                  []|[security, attack...|\n",
      "| 0.1|             7.54|   2014|         8|               0.925|                  0.786|      6.585|     2012|    179|[prevent, protect...|     [tags, privacy]|            [server]|[users, security,...|\n",
      "| 0.3|            1.731|   2014|         8|               0.883|                  0.566|       1.25|     2012|    179|          [security]|[sharing, tags, p...|[prevent, server,...|     [users, images]|\n",
      "| 0.3|            1.231|   2015|         9|               0.875|                  0.503|        1.0|     2014|    181|[security, scheme...|                  []| [detection, resist]|                  []|\n",
      "| 0.1|            7.619|   2015|         9|               0.939|                  0.784|      6.703|     2014|    181|[security, scheme...|                  []|            [resist]|                  []|\n",
      "| 0.2|            3.082|   2014|         8|               0.918|                  0.678|      2.648|     2012|    179|[prevent, protect...|     [tags, privacy]|            [server]|[users, security,...|\n",
      "| 0.4|              2.0|   2008|         1|               0.538|                  0.538|        1.0|     2006|    108|[services, design...|[alcatel‐lucent, ...|[security, evolut...|      [architecture]|\n",
      "| 0.4|              1.0|   2010|         3|               0.603|                  0.358|        1.0|     2008|    129|                  []|          [protocol]|[security, attack...|[nodes, network, ...|\n",
      "| 0.1|             6.82|   2008|         5|               0.929|                  0.793|        5.2|     2006|    108|              [call]|[alcatel‐lucent, ...|                  []|[services, design...|\n",
      "| 0.4|              1.0|   2014|         1|               0.516|                  0.516|        1.0|     2012|    179|                  []|     [sharing, tags]|[security, privac...|     [users, images]|\n",
      "| 0.4|              1.0|   2015|         2|               0.436|                  0.452|        1.0|     2014|    181|[security, scheme...|                  []|[attacks, detecti...|                  []|\n",
      "| 0.2|            2.557|   2010|         6|               0.921|                  0.671|      1.975|     2008|    129|          [solution]|[security, preven...|                  []|[attacks, nodes, ...|\n",
      "| 0.2|             3.07|   2015|         9|               0.936|                  0.678|      2.654|     2014|    181|[security, scheme...|                  []|            [resist]|                  []|\n",
      "| 0.2|            2.594|   2008|         5|               0.904|                  0.677|       1.66|     2006|    108|              [call]|[alcatel‐lucent, ...|                  []|[services, design...|\n",
      "| 0.3|            1.222|   2008|         5|               0.746|                  0.557|        1.0|     2006|    108|              [call]|[alcatel‐lucent, ...|         [evolution]|[services, design...|\n",
      "| 0.5|              1.0|   2015|         2|               0.436|                  0.452|        1.0|     2014|    181|[security, scheme...|                  []|[attacks, detecti...|                  []|\n",
      "+----+-----------------+-------+----------+--------------------+-----------------------+-----------+---------+-------+--------------------+--------------------+--------------------+--------------------+\n",
      "\n"
     ]
    }
   ],
   "source": [
    "pivots.contains('security').minus(pivots.decay('guarantee')).show()"
   ]
  },
  {
   "cell_type": "code",
   "execution_count": 20,
   "metadata": {},
   "outputs": [
    {
     "name": "stdout",
     "output_type": "stream",
     "text": [
      "future pivot topics:\n",
      "+----+-----------------+-------+----------+--------------------+-----------------------+-----------+---------+-------+--------+--------+--------+------+\n",
      "|Beta|ConvergenceDegree|Endyear|Liveliness|PivotEvolutionDegree|RelativeEvolutionDegree|SplitDegree|Startyear|TopicID|decaying|emerging|specific|stable|\n",
      "+----+-----------------+-------+----------+--------------------+-----------------------+-----------+---------+-------+--------+--------+--------+------+\n",
      "+----+-----------------+-------+----------+--------------------+-----------------------+-----------+---------+-------+--------+--------+--------+------+\n",
      "\n",
      "past pivot topics:\n",
      "+----+-----------------+-------+----------+--------------------+-----------------------+-----------+---------+-------+--------+--------+--------+------+\n",
      "|Beta|ConvergenceDegree|Endyear|Liveliness|PivotEvolutionDegree|RelativeEvolutionDegree|SplitDegree|Startyear|TopicID|decaying|emerging|specific|stable|\n",
      "+----+-----------------+-------+----------+--------------------+-----------------------+-----------+---------+-------+--------+--------+--------+------+\n",
      "+----+-----------------+-------+----------+--------------------+-----------------------+-----------+---------+-------+--------+--------+--------+------+\n",
      "\n"
     ]
    }
   ],
   "source": [
    "pivots.decay('guarantee').minus(pivots.contains('security')).show()"
   ]
  },
  {
   "cell_type": "markdown",
   "metadata": {},
   "source": [
    "## Path Filter"
   ]
  },
  {
   "cell_type": "code",
   "execution_count": 21,
   "metadata": {},
   "outputs": [
    {
     "name": "stdout",
     "output_type": "stream",
     "text": [
      "future pivot topics:\n",
      "+----+-------+-----------------+-------+----------+--------------------+-----------------------+-----------+---------+--------+--------------------+-----------+--------------------+\n",
      "|Beta|TopicID|ConvergenceDegree|Endyear|Liveliness|PivotEvolutionDegree|RelativeEvolutionDegree|SplitDegree|Startyear|decaying|            emerging|   specific|              stable|\n",
      "+----+-------+-----------------+-------+----------+--------------------+-----------------------+-----------+---------+--------+--------------------+-----------+--------------------+\n",
      "| 0.2|     20|            3.398|   2000|         8|               0.833|                  0.684|      3.991|     1998|      []|[structure, goal,...|[formalism]|[implementation, ...|\n",
      "| 0.1|     20|             7.25|   2000|         8|               0.844|                  0.779|      8.352|     1998|      []|              [goal]|[formalism]|[implementation, ...|\n",
      "+----+-------+-----------------+-------+----------+--------------------+-----------------------+-----------+---------+--------+--------------------+-----------+--------------------+\n",
      "\n"
     ]
    }
   ],
   "source": [
    "pivots.emerge('goal').path(pivots.stable('network').emerge('security')).show()"
   ]
  },
  {
   "cell_type": "code",
   "execution_count": 22,
   "metadata": {},
   "outputs": [
    {
     "name": "stdout",
     "output_type": "stream",
     "text": [
      "past pivot topics:\n",
      "+----+-------+-----------------+-------+----------+--------------------+-----------------------+-----------+---------+----------+--------------------+--------+--------------------+\n",
      "|Beta|TopicID|ConvergenceDegree|Endyear|Liveliness|PivotEvolutionDegree|RelativeEvolutionDegree|SplitDegree|Startyear|  decaying|            emerging|specific|              stable|\n",
      "+----+-------+-----------------+-------+----------+--------------------+-----------------------+-----------+---------+----------+--------------------+--------+--------------------+\n",
      "| 0.2|    108|            2.594|   2008|         5|               0.904|                  0.677|       1.66|     2006|    [call]|[alcatel‐lucent, ...|      []|[services, design...|\n",
      "| 0.2|    129|            2.557|   2010|         6|               0.921|                  0.671|      1.975|     2008|[solution]|[security, preven...|      []|[attacks, nodes, ...|\n",
      "| 0.1|    108|             6.82|   2008|         5|               0.929|                  0.793|        5.2|     2006|    [call]|[alcatel‐lucent, ...|      []|[services, design...|\n",
      "+----+-------+-----------------+-------+----------+--------------------+-----------------------+-----------+---------+----------+--------------------+--------+--------------------+\n",
      "\n"
     ]
    }
   ],
   "source": [
    "pivots.stable('network').emerge('security').path(pivots.emerge('goal')).show()"
   ]
  },
  {
   "cell_type": "markdown",
   "metadata": {},
   "source": [
    "## Ordering"
   ]
  },
  {
   "cell_type": "code",
   "execution_count": 23,
   "metadata": {},
   "outputs": [
    {
     "name": "stdout",
     "output_type": "stream",
     "text": [
      "future pivot topics:\n",
      "+----+-----------------+-------+----------+--------------------+-----------------------+-----------+---------+-------+----------+--------------------+-----------+--------------------+\n",
      "|Beta|ConvergenceDegree|Endyear|Liveliness|PivotEvolutionDegree|RelativeEvolutionDegree|SplitDegree|Startyear|TopicID|  decaying|            emerging|   specific|              stable|\n",
      "+----+-----------------+-------+----------+--------------------+-----------------------+-----------+---------+-------+----------+--------------------+-----------+--------------------+\n",
      "| 0.1|            5.938|   2008|         4|               0.902|                  0.776|      8.391|     2006|    108|    [call]|[alcatel‐lucent, ...|         []|[services, design...|\n",
      "| 0.2|             2.78|   2008|         4|               0.891|                  0.696|       4.56|     2006|    108|    [call]|[alcatel‐lucent, ...|         []|[services, design...|\n",
      "| 0.3|            1.619|   2008|         4|               0.882|                  0.596|      3.091|     2006|    108|    [call]|[alcatel‐lucent, ...|[evolution]|[services, design...|\n",
      "| 0.2|            1.308|   2010|         3|               0.767|                   0.59|      2.125|     2008|    129|[solution]|[security, preven...|         []|[attacks, nodes, ...|\n",
      "| 0.3|              1.0|   2010|         3|               0.655|                  0.487|        1.6|     2008|    129|        []|[security, attack...| [solution]|[nodes, network, ...|\n",
      "+----+-----------------+-------+----------+--------------------+-----------------------+-----------+---------+-------+----------+--------------------+-----------+--------------------+\n",
      "\n",
      "past pivot topics:\n",
      "+----+-----------------+-------+----------+--------------------+-----------------------+-----------+---------+-------+----------+--------------------+-----------+--------------------+\n",
      "|Beta|ConvergenceDegree|Endyear|Liveliness|PivotEvolutionDegree|RelativeEvolutionDegree|SplitDegree|Startyear|TopicID|  decaying|            emerging|   specific|              stable|\n",
      "+----+-----------------+-------+----------+--------------------+-----------------------+-----------+---------+-------+----------+--------------------+-----------+--------------------+\n",
      "| 0.1|             6.82|   2008|         5|               0.929|                  0.793|        5.2|     2006|    108|    [call]|[alcatel‐lucent, ...|         []|[services, design...|\n",
      "| 0.2|            2.557|   2010|         6|               0.921|                  0.671|      1.975|     2008|    129|[solution]|[security, preven...|         []|[attacks, nodes, ...|\n",
      "| 0.2|            2.594|   2008|         5|               0.904|                  0.677|       1.66|     2006|    108|    [call]|[alcatel‐lucent, ...|         []|[services, design...|\n",
      "| 0.3|              1.3|   2010|         6|               0.837|                  0.501|        1.0|     2008|    129|        []|[security, attack...| [solution]|[nodes, network, ...|\n",
      "| 0.3|            1.222|   2008|         5|               0.746|                  0.557|        1.0|     2006|    108|    [call]|[alcatel‐lucent, ...|[evolution]|[services, design...|\n",
      "+----+-----------------+-------+----------+--------------------+-----------------------+-----------+---------+-------+----------+--------------------+-----------+--------------------+\n",
      "\n"
     ]
    }
   ],
   "source": [
    "pivots.stable('network').emerge('security').sort('PivotEvolutionDegree', 'desc').show()"
   ]
  },
  {
   "cell_type": "markdown",
   "metadata": {},
   "source": [
    "## Functions"
   ]
  },
  {
   "cell_type": "code",
   "execution_count": 24,
   "metadata": {},
   "outputs": [
    {
     "name": "stdout",
     "output_type": "stream",
     "text": [
      "future pivot topics:\n",
      "+----+-------+------------------------------------------------------------------------+-----------------------------------------------+----------+-----------+\n",
      "|Beta|TopicID|stable                                                                  |emerging                                       |decaying  |specific   |\n",
      "+----+-------+------------------------------------------------------------------------+-----------------------------------------------+----------+-----------+\n",
      "|0.3 |129    |[nodes, network, routing, sensor networks]                              |[security, attacks, protocol, prevent, protect]|[]        |[solution] |\n",
      "|0.2 |108    |[services, design, architecture, operations, network, manage]           |[alcatel‐lucent, security, evolution]          |[call]    |[]         |\n",
      "|0.1 |108    |[services, design, evolution, architecture, operations, network, manage]|[alcatel‐lucent, security]                     |[call]    |[]         |\n",
      "|0.3 |108    |[services, design, architecture, operations, network, manage]           |[alcatel‐lucent, security]                     |[call]    |[evolution]|\n",
      "|0.2 |129    |[attacks, nodes, protocol, network, routing, sensor networks]           |[security, prevent, protect]                   |[solution]|[]         |\n",
      "+----+-------+------------------------------------------------------------------------+-----------------------------------------------+----------+-----------+\n",
      "\n",
      "past pivot topics:\n",
      "+----+-------+------------------------------------------------------------------------+-----------------------------------------------+----------+-----------+\n",
      "|Beta|TopicID|stable                                                                  |emerging                                       |decaying  |specific   |\n",
      "+----+-------+------------------------------------------------------------------------+-----------------------------------------------+----------+-----------+\n",
      "|0.3 |129    |[nodes, network, routing, sensor networks]                              |[security, attacks, protocol, prevent, protect]|[]        |[solution] |\n",
      "|0.2 |108    |[services, design, architecture, operations, network, manage]           |[alcatel‐lucent, security, evolution]          |[call]    |[]         |\n",
      "|0.1 |108    |[services, design, evolution, architecture, operations, network, manage]|[alcatel‐lucent, security]                     |[call]    |[]         |\n",
      "|0.3 |108    |[services, design, architecture, operations, network, manage]           |[alcatel‐lucent, security]                     |[call]    |[evolution]|\n",
      "|0.2 |129    |[attacks, nodes, protocol, network, routing, sensor networks]           |[security, prevent, protect]                   |[solution]|[]         |\n",
      "+----+-------+------------------------------------------------------------------------+-----------------------------------------------+----------+-----------+\n",
      "\n"
     ]
    }
   ],
   "source": [
    "pivots.stable('network').emerge('security').showLabels(truncate = False)"
   ]
  },
  {
   "cell_type": "code",
   "execution_count": 25,
   "metadata": {},
   "outputs": [
    {
     "name": "stdout",
     "output_type": "stream",
     "text": [
      "future pivot topics:\n",
      "+-------+--------------------------------------------------------------------------------------------------------+\n",
      "|TopicID|Terms                                                                                                   |\n",
      "+-------+--------------------------------------------------------------------------------------------------------+\n",
      "|129    |[security, attacks, nodes, solution, protocol, network, routing, sensor networks, prevent, protect]     |\n",
      "|108    |[services, alcatel‐lucent, security, design, call, evolution, architecture, operations, network, manage]|\n",
      "+-------+--------------------------------------------------------------------------------------------------------+\n",
      "\n",
      "past pivot topics:\n",
      "+-------+--------------------------------------------------------------------------------------------------------+\n",
      "|TopicID|Terms                                                                                                   |\n",
      "+-------+--------------------------------------------------------------------------------------------------------+\n",
      "|129    |[security, attacks, nodes, solution, protocol, network, routing, sensor networks, prevent, protect]     |\n",
      "|108    |[services, alcatel‐lucent, security, design, call, evolution, architecture, operations, network, manage]|\n",
      "+-------+--------------------------------------------------------------------------------------------------------+\n",
      "\n"
     ]
    }
   ],
   "source": [
    "pivots.stable('network').emerge('security').describeTopics(truncate = False)"
   ]
  },
  {
   "cell_type": "code",
   "execution_count": 26,
   "metadata": {},
   "outputs": [
    {
     "name": "stdout",
     "output_type": "stream",
     "text": [
      "terms in future pivot topics:\n",
      "+---------------+-----+\n",
      "|           Term|count|\n",
      "+---------------+-----+\n",
      "|        network|    2|\n",
      "|       security|    2|\n",
      "|     operations|    1|\n",
      "| alcatel‐lucent|    1|\n",
      "|   architecture|    1|\n",
      "|       solution|    1|\n",
      "|       services|    1|\n",
      "|      evolution|    1|\n",
      "|       protocol|    1|\n",
      "|           call|    1|\n",
      "|         manage|    1|\n",
      "|        routing|    1|\n",
      "|        attacks|    1|\n",
      "|          nodes|    1|\n",
      "|sensor networks|    1|\n",
      "|        protect|    1|\n",
      "|         design|    1|\n",
      "|        prevent|    1|\n",
      "+---------------+-----+\n",
      "\n",
      "terms in past pivot topics:\n",
      "+---------------+-----+\n",
      "|           Term|count|\n",
      "+---------------+-----+\n",
      "|       security|    2|\n",
      "|        network|    2|\n",
      "| alcatel‐lucent|    1|\n",
      "|   architecture|    1|\n",
      "|     operations|    1|\n",
      "|        prevent|    1|\n",
      "|         manage|    1|\n",
      "|        routing|    1|\n",
      "|        attacks|    1|\n",
      "|          nodes|    1|\n",
      "|sensor networks|    1|\n",
      "|        protect|    1|\n",
      "|         design|    1|\n",
      "|       protocol|    1|\n",
      "|           call|    1|\n",
      "|       solution|    1|\n",
      "|       services|    1|\n",
      "|      evolution|    1|\n",
      "+---------------+-----+\n",
      "\n"
     ]
    }
   ],
   "source": [
    "pivots.stable('network').emerge('security').describeTerms()"
   ]
  },
  {
   "cell_type": "code",
   "execution_count": 27,
   "metadata": {},
   "outputs": [
    {
     "name": "stdout",
     "output_type": "stream",
     "text": [
      "terms in future pivot topics:\n",
      "+-------------+-----+\n",
      "|         Term|count|\n",
      "+-------------+-----+\n",
      "|      network|   18|\n",
      "|        nodes|    9|\n",
      "|      routing|    7|\n",
      "|    connected|    5|\n",
      "|        graph|    4|\n",
      "| architecture|    4|\n",
      "|        edges|    4|\n",
      "|     vertices|    4|\n",
      "|         tree|    4|\n",
      "|        bound|    4|\n",
      "|       offers|    3|\n",
      "|communication|    3|\n",
      "|       design|    3|\n",
      "|     services|    3|\n",
      "|         data|    3|\n",
      "|       manage|    3|\n",
      "|          alg|    3|\n",
      "|        links|    3|\n",
      "|         size|    2|\n",
      "|     security|    2|\n",
      "+-------------+-----+\n",
      "only showing top 20 rows\n",
      "\n",
      "terms in past pivot topics:\n",
      "+-------------+-----+\n",
      "|         Term|count|\n",
      "+-------------+-----+\n",
      "|      network|   18|\n",
      "|        nodes|    9|\n",
      "|      routing|    7|\n",
      "|    connected|    4|\n",
      "| architecture|    4|\n",
      "|        links|    3|\n",
      "|        bound|    3|\n",
      "|     services|    3|\n",
      "|       design|    3|\n",
      "|       offers|    3|\n",
      "|        edges|    3|\n",
      "|     vertices|    3|\n",
      "|        graph|    3|\n",
      "|          alg|    3|\n",
      "|communication|    3|\n",
      "|         tree|    3|\n",
      "|       manage|    3|\n",
      "|         data|    3|\n",
      "|     analysis|    2|\n",
      "|  reliability|    2|\n",
      "+-------------+-----+\n",
      "only showing top 20 rows\n",
      "\n"
     ]
    }
   ],
   "source": [
    "pivots.contains('network').describeTerms()"
   ]
  },
  {
   "cell_type": "code",
   "execution_count": 28,
   "metadata": {},
   "outputs": [
    {
     "name": "stdout",
     "output_type": "stream",
     "text": [
      "future pivot topics:\n",
      "+-------+------------------+------------------+------------------+-----------------------+--------------------+\n",
      "|summary|        Liveliness|       SplitDegree| ConvergenceDegree|RelativeEvolutionDegree|PivotEvolutionDegree|\n",
      "+-------+------------------+------------------+------------------+-----------------------+--------------------+\n",
      "|  count|                 5|                 5|                 5|                      5|                   5|\n",
      "|   mean|               3.6|3.9534000000000007|             2.529|                  0.629|  0.8194000000000001|\n",
      "| stddev|0.5477225575051661|2.7242214117064716|2.0212040965721396|    0.11053506231056281| 0.10681900579952987|\n",
      "|    min|                 3|               1.6|               1.0|                  0.487|               0.655|\n",
      "|    max|                 4|             8.391|             5.938|                  0.776|               0.902|\n",
      "+-------+------------------+------------------+------------------+-----------------------+--------------------+\n",
      "\n",
      "past pivot topics:\n",
      "+-------+------------------+------------------+-----------------+-----------------------+--------------------+\n",
      "|summary|        Liveliness|       SplitDegree|ConvergenceDegree|RelativeEvolutionDegree|PivotEvolutionDegree|\n",
      "+-------+------------------+------------------+-----------------+-----------------------+--------------------+\n",
      "|  count|                 5|                 5|                5|                      5|                   5|\n",
      "|   mean|               5.4|2.1670000000000003|           2.8986|                 0.6398|              0.8674|\n",
      "| stddev|0.5477225575051661|1.7476255319718812| 2.28874196885538|    0.11396139697283464|  0.0769239884561377|\n",
      "|    min|                 5|               1.0|            1.222|                  0.501|               0.746|\n",
      "|    max|                 6|               5.2|             6.82|                  0.793|               0.929|\n",
      "+-------+------------------+------------------+-----------------+-----------------------+--------------------+\n",
      "\n"
     ]
    }
   ],
   "source": [
    "pivots.stable('network').emerge('security').describe()"
   ]
  },
  {
   "cell_type": "code",
   "execution_count": 29,
   "metadata": {},
   "outputs": [
    {
     "name": "stdout",
     "output_type": "stream",
     "text": [
      "future pivot topics:\n",
      "+-------+-----------------------+--------------------+\n",
      "|summary|RelativeEvolutionDegree|PivotEvolutionDegree|\n",
      "+-------+-----------------------+--------------------+\n",
      "|  count|                      5|                   5|\n",
      "|   mean|                  0.629|  0.8194000000000001|\n",
      "| stddev|    0.11053506231056281| 0.10681900579952987|\n",
      "|    min|                  0.487|               0.655|\n",
      "|    max|                  0.776|               0.902|\n",
      "+-------+-----------------------+--------------------+\n",
      "\n",
      "past pivot topics:\n",
      "+-------+-----------------------+--------------------+\n",
      "|summary|RelativeEvolutionDegree|PivotEvolutionDegree|\n",
      "+-------+-----------------------+--------------------+\n",
      "|  count|                      5|                   5|\n",
      "|   mean|                 0.6398|              0.8674|\n",
      "| stddev|    0.11396139697283464|  0.0769239884561377|\n",
      "|    min|                  0.501|               0.746|\n",
      "|    max|                  0.793|               0.929|\n",
      "+-------+-----------------------+--------------------+\n",
      "\n"
     ]
    }
   ],
   "source": [
    "pivots.stable('network').emerge('security').describe(\"RelativeEvolutionDegree\",\"PivotEvolutionDegree\")"
   ]
  }
 ],
 "metadata": {
  "kernelspec": {
   "display_name": "Python 3",
   "language": "python",
   "name": "python3"
  },
  "language_info": {
   "codemirror_mode": {
    "name": "ipython",
    "version": 3
   },
   "file_extension": ".py",
   "mimetype": "text/x-python",
   "name": "python",
   "nbconvert_exporter": "python",
   "pygments_lexer": "ipython3",
   "version": "3.7.4"
  }
 },
 "nbformat": 4,
 "nbformat_minor": 4
}
