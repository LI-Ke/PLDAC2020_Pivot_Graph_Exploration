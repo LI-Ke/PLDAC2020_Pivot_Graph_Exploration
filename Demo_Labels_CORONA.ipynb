{
 "cells": [
  {
   "cell_type": "markdown",
   "metadata": {},
   "source": [
    "# Demonstrate labels"
   ]
  },
  {
   "cell_type": "markdown",
   "metadata": {},
   "source": [
    "#### Call preparation"
   ]
  },
  {
   "cell_type": "code",
   "execution_count": 32,
   "metadata": {},
   "outputs": [],
   "source": [
    "# open the notebook Demo_Preparation.ipynb \n",
    "# and select \"use kernet from prefered Session\""
   ]
  },
  {
   "cell_type": "markdown",
   "metadata": {},
   "source": [
    "### Datasets"
   ]
  },
  {
   "cell_type": "code",
   "execution_count": 33,
   "metadata": {},
   "outputs": [
    {
     "name": "stdout",
     "output_type": "stream",
     "text": [
      "root\n",
      " |-- Ti: long (nullable = true)\n",
      " |-- stable: array (nullable = true)\n",
      " |    |-- element: string (containsNull = true)\n",
      " |-- emerging: array (nullable = true)\n",
      " |    |-- element: string (containsNull = true)\n",
      " |-- decaying: array (nullable = true)\n",
      " |    |-- element: string (containsNull = true)\n",
      " |-- specific: array (nullable = true)\n",
      " |    |-- element: string (containsNull = true)\n",
      "\n"
     ]
    }
   ],
   "source": [
    "labels.printSchema()"
   ]
  },
  {
   "cell_type": "code",
   "execution_count": 34,
   "metadata": {},
   "outputs": [
    {
     "name": "stdout",
     "output_type": "stream",
     "text": [
      "root\n",
      " |-- period: string (nullable = true)\n",
      " |-- idTopic: long (nullable = true)\n",
      " |-- localTopicId: long (nullable = true)\n",
      " |-- term: integer (nullable = true)\n",
      " |-- weight: double (nullable = true)\n",
      "\n"
     ]
    }
   ],
   "source": [
    "topicNodes.printSchema()"
   ]
  },
  {
   "cell_type": "code",
   "execution_count": 35,
   "metadata": {},
   "outputs": [
    {
     "name": "stdout",
     "output_type": "stream",
     "text": [
      "root\n",
      " |-- idTopic: long (nullable = true)\n",
      " |-- topic: array (nullable = true)\n",
      " |    |-- element: string (containsNull = true)\n",
      "\n"
     ]
    }
   ],
   "source": [
    "topicDictionary_unique_10.printSchema()"
   ]
  },
  {
   "cell_type": "markdown",
   "metadata": {},
   "source": [
    "#### Topic period"
   ]
  },
  {
   "cell_type": "code",
   "execution_count": 36,
   "metadata": {},
   "outputs": [
    {
     "name": "stdout",
     "output_type": "stream",
     "text": [
      "+-------+---------+\n",
      "|idTopic|   period|\n",
      "+-------+---------+\n",
      "|     23|2002-2004|\n",
      "|    227|2016-2018|\n",
      "+-------+---------+\n",
      "only showing top 2 rows\n",
      "\n"
     ]
    }
   ],
   "source": [
    "topicNodes.createOrReplaceTempView(\"TopicNodesTable\")\n",
    "\n",
    "topicPeriod = spark.sql(\"\"\"\n",
    "select distinct idTopic, period\n",
    "from TopicNodesTable\n",
    "\"\"\")\n",
    "topicPeriod.show(2)"
   ]
  },
  {
   "cell_type": "markdown",
   "metadata": {},
   "source": [
    "#### Datasets as SQL views"
   ]
  },
  {
   "cell_type": "code",
   "execution_count": 37,
   "metadata": {},
   "outputs": [],
   "source": [
    "labels.createOrReplaceTempView(\"labels\")\n",
    "topicNodes.createOrReplaceTempView(\"topicNodes\")\n",
    "topicDictionary_unique_10.createOrReplaceTempView(\"topicDictionary_unique_10\")\n",
    "topicPeriod.createOrReplaceTempView(\"topicPeriod\")"
   ]
  },
  {
   "cell_type": "markdown",
   "metadata": {},
   "source": [
    "#### Term frequency in labels"
   ]
  },
  {
   "cell_type": "code",
   "execution_count": 38,
   "metadata": {},
   "outputs": [
    {
     "name": "stdout",
     "output_type": "stream",
     "text": [
      "+-----------+----+----+\n",
      "|       term|freq|rank|\n",
      "+-----------+----+----+\n",
      "|development|  16|   1|\n",
      "|     effect|  12|   2|\n",
      "|   hospital|  12|   3|\n",
      "|      virus|  12|   4|\n",
      "|        age|  11|   5|\n",
      "|       days|  11|   6|\n",
      "|  detection|  11|   7|\n",
      "|   patients|  11|   8|\n",
      "|      cases|  10|   9|\n",
      "| expression|  10|  10|\n",
      "+-----------+----+----+\n",
      "only showing top 10 rows\n",
      "\n"
     ]
    }
   ],
   "source": [
    "TOP = 50\n",
    "\n",
    "freqLabels = spark.sql(f\"\"\"\n",
    "with T1 as (\n",
    "  select explode(T.topic) as term\n",
    "  from TopicDictionary_unique_10 T\n",
    "  )\n",
    "  \n",
    "select term, count(1) as freq, rank() over (order by count(*) desc, term) as rank\n",
    "from T1\n",
    "group by term\n",
    "order by rank\n",
    "limit {TOP}\n",
    "\"\"\")\n",
    "freqLabels.persist().count()\n",
    "# freqLabels.show(TOP)\n",
    "freqLabels.show(10)"
   ]
  },
  {
   "cell_type": "markdown",
   "metadata": {},
   "source": [
    "#### Label frequency for each period"
   ]
  },
  {
   "cell_type": "code",
   "execution_count": 41,
   "metadata": {},
   "outputs": [
    {
     "name": "stdout",
     "output_type": "stream",
     "text": [
      "+---------+----+--------------------+----+\n",
      "|   period|rank|                term|freq|\n",
      "+---------+----+--------------------+----+\n",
      "|2002-2004|   1|         development|   1|\n",
      "|2002-2004|   2|              effect|   1|\n",
      "|2002-2004|   3|            hospital|   1|\n",
      "|2002-2004|   4|               virus|   1|\n",
      "|2002-2004|   5|                 age|   1|\n",
      "|2002-2004|   6|                days|   1|\n",
      "|2002-2004|   7|           detection|   1|\n",
      "|2002-2004|   8|            patients|   1|\n",
      "|2002-2004|   9|               cases|   1|\n",
      "|2002-2004|  10|          expression|   1|\n",
      "|2002-2004|  11|              impact|   1|\n",
      "|2002-2004|  12|             induced|   1|\n",
      "|2002-2004|  13|           infection|   1|\n",
      "|2002-2004|  14|                mice|   1|\n",
      "|2002-2004|  15|               model|   1|\n",
      "|2002-2004|  16|            outbreak|   1|\n",
      "|2002-2004|  17|               years|   1|\n",
      "|2002-2004|  18|       United States|   1|\n",
      "|2002-2004|  19|World Health Orga...|   1|\n",
      "|2002-2004|  20|          activation|   1|\n",
      "+---------+----+--------------------+----+\n",
      "only showing top 20 rows\n",
      "\n"
     ]
    }
   ],
   "source": [
    "freqLabels.createOrReplaceTempView(\"freqLabels\")\n",
    "\n",
    "labelPerPeriod = spark.sql(\"\"\"\n",
    "with T1 as (\n",
    "  select T.idTopic, explode(T.topic) as term\n",
    "  from TopicDictionary_unique_10 T\n",
    "  )\n",
    "\n",
    "SELECT P.period, L.rank, L.term, count(1) as freq\n",
    "FROM FreqLabels L, T1, topicPeriod P\n",
    "WHERE T1.term = L.term \n",
    "AND T1.idTopic = P.idTopic\n",
    "GROUP BY P.period, L.term, L.rank\n",
    "order by P.period, L.rank\n",
    "\"\"\")\n",
    "\n",
    "labelPerPeriod.persist().count()\n",
    "\n",
    "labelPerPeriod.show()"
   ]
  },
  {
   "cell_type": "markdown",
   "metadata": {},
   "source": [
    "#### Frequent terms for a given period"
   ]
  },
  {
   "cell_type": "code",
   "execution_count": 47,
   "metadata": {},
   "outputs": [
    {
     "data": {
      "image/png": "[encoded data removed]",
      "text/plain": [
       "<Figure size 1440x504 with 1 Axes>"
      ]
     },
     "metadata": {
      "needs_background": "light"
     },
     "output_type": "display_data"
    }
   ],
   "source": [
    "labelPerPeriod.createOrReplaceTempView(\"labelPerPeriod\")\n",
    "\n",
    "STARTING_YEAR = 2004\n",
    "\n",
    "TOPPLOT = 20\n",
    "\n",
    "period = str(STARTING_YEAR) + '-' + str(STARTING_YEAR+2)\n",
    "\n",
    "labelOnePeriod = spark.sql(f\"\"\"\n",
    "select term, freq\n",
    "from labelPerPeriod\n",
    "where period = '{period}'\n",
    "order by rank\n",
    "\"\"\")\n",
    "# labelOnePeriod.show()\n",
    "\n",
    "p = labelOnePeriod.toPandas()\n",
    "# p.head(2)\n",
    "\n",
    "sns.set_context(\"paper\", rc={\"axes.labelsize\":25})   \n",
    "plt.figure(figsize=(20,7))\n",
    "\n",
    "# set a fixed range for the y axis\n",
    "plt.ylim(0,6)\n",
    "\n",
    "ax = sns.barplot(x=\"term\", y=\"freq\",  data=p[:TOPPLOT])\n",
    "\n",
    "# size of values on axes\n",
    "ax.tick_params(labelsize=20)\n",
    "\n",
    "ax.set_xticklabels(ax.get_xticklabels(), rotation=45, horizontalalignment='right');\n"
   ]
  },
  {
   "cell_type": "markdown",
   "metadata": {},
   "source": [
    "#### Frequent terms for 2 periods"
   ]
  },
  {
   "cell_type": "code",
   "execution_count": 48,
   "metadata": {},
   "outputs": [
    {
     "data": {
      "text/html": [
       "<div>\n",
       "<style scoped>\n",
       "    .dataframe tbody tr th:only-of-type {\n",
       "        vertical-align: middle;\n",
       "    }\n",
       "\n",
       "    .dataframe tbody tr th {\n",
       "        vertical-align: top;\n",
       "    }\n",
       "\n",
       "    .dataframe thead th {\n",
       "        text-align: right;\n",
       "    }\n",
       "</style>\n",
       "<table border=\"1\" class=\"dataframe\">\n",
       "  <thead>\n",
       "    <tr style=\"text-align: right;\">\n",
       "      <th></th>\n",
       "      <th>period</th>\n",
       "      <th>rank</th>\n",
       "      <th>term</th>\n",
       "      <th>freq</th>\n",
       "    </tr>\n",
       "  </thead>\n",
       "  <tbody>\n",
       "    <tr>\n",
       "      <th>0</th>\n",
       "      <td>2002-2004</td>\n",
       "      <td>1</td>\n",
       "      <td>development</td>\n",
       "      <td>1</td>\n",
       "    </tr>\n",
       "    <tr>\n",
       "      <th>1</th>\n",
       "      <td>2002-2004</td>\n",
       "      <td>2</td>\n",
       "      <td>effect</td>\n",
       "      <td>1</td>\n",
       "    </tr>\n",
       "    <tr>\n",
       "      <th>2</th>\n",
       "      <td>2002-2004</td>\n",
       "      <td>3</td>\n",
       "      <td>hospital</td>\n",
       "      <td>1</td>\n",
       "    </tr>\n",
       "    <tr>\n",
       "      <th>3</th>\n",
       "      <td>2002-2004</td>\n",
       "      <td>4</td>\n",
       "      <td>virus</td>\n",
       "      <td>1</td>\n",
       "    </tr>\n",
       "    <tr>\n",
       "      <th>4</th>\n",
       "      <td>2002-2004</td>\n",
       "      <td>5</td>\n",
       "      <td>age</td>\n",
       "      <td>1</td>\n",
       "    </tr>\n",
       "    <tr>\n",
       "      <th>5</th>\n",
       "      <td>2002-2004</td>\n",
       "      <td>6</td>\n",
       "      <td>days</td>\n",
       "      <td>1</td>\n",
       "    </tr>\n",
       "    <tr>\n",
       "      <th>6</th>\n",
       "      <td>2002-2004</td>\n",
       "      <td>7</td>\n",
       "      <td>detection</td>\n",
       "      <td>1</td>\n",
       "    </tr>\n",
       "    <tr>\n",
       "      <th>7</th>\n",
       "      <td>2002-2004</td>\n",
       "      <td>8</td>\n",
       "      <td>patients</td>\n",
       "      <td>1</td>\n",
       "    </tr>\n",
       "    <tr>\n",
       "      <th>8</th>\n",
       "      <td>2002-2004</td>\n",
       "      <td>9</td>\n",
       "      <td>cases</td>\n",
       "      <td>1</td>\n",
       "    </tr>\n",
       "    <tr>\n",
       "      <th>9</th>\n",
       "      <td>2002-2004</td>\n",
       "      <td>10</td>\n",
       "      <td>expression</td>\n",
       "      <td>1</td>\n",
       "    </tr>\n",
       "  </tbody>\n",
       "</table>\n",
       "</div>"
      ],
      "text/plain": [
       "      period  rank         term  freq\n",
       "0  2002-2004     1  development     1\n",
       "1  2002-2004     2       effect     1\n",
       "2  2002-2004     3     hospital     1\n",
       "3  2002-2004     4        virus     1\n",
       "4  2002-2004     5          age     1\n",
       "5  2002-2004     6         days     1\n",
       "6  2002-2004     7    detection     1\n",
       "7  2002-2004     8     patients     1\n",
       "8  2002-2004     9        cases     1\n",
       "9  2002-2004    10   expression     1"
      ]
     },
     "execution_count": 48,
     "metadata": {},
     "output_type": "execute_result"
    }
   ],
   "source": [
    "L = labelPerPeriod.toPandas()\n",
    "L.head(10)"
   ]
  },
  {
   "cell_type": "code",
   "execution_count": 50,
   "metadata": {},
   "outputs": [
    {
     "data": {
      "text/plain": [
       "<Figure size 1440x504 with 0 Axes>"
      ]
     },
     "metadata": {},
     "output_type": "display_data"
    },
    {
     "data": {
      "text/plain": [
       "<Figure size 1440x504 with 0 Axes>"
      ]
     },
     "metadata": {},
     "output_type": "display_data"
    },
    {
     "data": {
      "image/png": "[encoded data removed]",
      "text/plain": [
       "<Figure size 432x288 with 2 Axes>"
      ]
     },
     "metadata": {
      "needs_background": "light"
     },
     "output_type": "display_data"
    }
   ],
   "source": [
    "L1 = L[L.period=='2002-2004']\n",
    "L2 = L[L.period=='2004-2006']\n",
    "\n",
    "all = [L1, L2]\n",
    "\n",
    "# TOPPLOT = 20\n",
    "\n",
    "\n",
    "sns.set_context(\"paper\", rc={\"axes.labelsize\":20})   \n",
    "plt.figure(figsize=(20,7))\n",
    "\n",
    "# set a fixed range for the y axis\n",
    "plt.ylim(0,6)\n",
    "\n",
    "# size of values on axes\n",
    "ax.tick_params(labelsize=20)\n",
    "\n",
    "plt.clf()\n",
    "plt.figure(figsize=(20,7))\n",
    "fig, axs = plt.subplots(2,1)\n",
    "for i in range(0, 2):\n",
    "    axs[i].set_xticklabels(ax.get_xticklabels(), rotation=45, horizontalalignment='right');\n",
    "    sns.barplot(x=\"term\", y=\"freq\",  data=all[i][:10], ax=axs[i])\n"
   ]
  },
  {
   "cell_type": "markdown",
   "metadata": {},
   "source": [
    "## Interaction"
   ]
  },
  {
   "cell_type": "code",
   "execution_count": 51,
   "metadata": {},
   "outputs": [],
   "source": [
    "# interaction\n",
    "from __future__ import print_function\n",
    "from ipywidgets import interact, interactive, fixed, interact_manual\n",
    "import ipywidgets as widgets"
   ]
  },
  {
   "cell_type": "code",
   "execution_count": 52,
   "metadata": {},
   "outputs": [
    {
     "data": {
      "application/vnd.jupyter.widget-view+json": {
       "model_id": "20214ba91fd24cc9a19012bf128ff0a7",
       "version_major": 2,
       "version_minor": 0
      },
      "text/plain": [
       "Text(value='abc')"
      ]
     },
     "metadata": {},
     "output_type": "display_data"
    }
   ],
   "source": [
    "widgets.Text(\"abc\")"
   ]
  },
  {
   "cell_type": "markdown",
   "metadata": {},
   "source": [
    "##### Verify GUI for interaction"
   ]
  },
  {
   "cell_type": "code",
   "execution_count": 53,
   "metadata": {
    "scrolled": true
   },
   "outputs": [],
   "source": [
    "def f(x):\n",
    "    return x*10"
   ]
  },
  {
   "cell_type": "code",
   "execution_count": 54,
   "metadata": {
    "scrolled": true
   },
   "outputs": [
    {
     "data": {
      "text/plain": [
       "100"
      ]
     },
     "metadata": {},
     "output_type": "display_data"
    }
   ],
   "source": [
    "# from __future__ import print_function\n",
    "# interact(f,x=10);\n",
    "interact(f, x=widgets.IntSlider(min=-10, max=30, step=1, value=10));"
   ]
  },
  {
   "cell_type": "code",
   "execution_count": 55,
   "metadata": {},
   "outputs": [
    {
     "data": {
      "application/vnd.jupyter.widget-view+json": {
       "model_id": "066c0798a536414fbd7c51c17b304236",
       "version_major": 2,
       "version_minor": 0
      },
      "text/plain": [
       "IntSlider(value=0)"
      ]
     },
     "metadata": {},
     "output_type": "display_data"
    },
    {
     "data": {
      "application/vnd.jupyter.widget-view+json": {
       "model_id": "0bb6b852b1bf446a8a1225ae9443ab2f",
       "version_major": 2,
       "version_minor": 0
      },
      "text/plain": [
       "Output(layout=Layout(border='1px solid black'))"
      ]
     },
     "metadata": {},
     "output_type": "display_data"
    }
   ],
   "source": [
    "out = widgets.Output(layout={'border': '1px solid black'})\n",
    "with out:\n",
    "    display(widgets.IntSlider())\n",
    "\n",
    "out"
   ]
  },
  {
   "cell_type": "code",
   "execution_count": 58,
   "metadata": {},
   "outputs": [
    {
     "data": {
      "image/png": "[encoded data removed]",
      "text/plain": [
       "<Figure size 1440x504 with 1 Axes>"
      ]
     },
     "metadata": {
      "needs_background": "light"
     },
     "output_type": "display_data"
    }
   ],
   "source": [
    "def plotLabelPerPeriod(startYear, topPlot):\n",
    "    \n",
    "    labelPerPeriod.createOrReplaceTempView(\"labelPerPeriod\")\n",
    "\n",
    "    period = str(startYear) + '-' + str(startYear+2)\n",
    "\n",
    "    labelOnePeriod = spark.sql(f\"\"\"\n",
    "    select term, freq\n",
    "    from labelPerPeriod\n",
    "    where period = '{period}'\n",
    "    order by rank\n",
    "    \"\"\")\n",
    "\n",
    "    p = labelOnePeriod.toPandas()\n",
    "    \n",
    "    sns.set_context(\"paper\", rc={\"axes.labelsize\":20})   \n",
    "    plt.figure(figsize=(20,7))\n",
    "    plt.ylim(0,6)\n",
    "    ax = sns.barplot(x=\"term\", y=\"freq\",  data=p[:topPlot])\n",
    "    \n",
    "    # taille des valeurs sur les axes\n",
    "    ax.tick_params(labelsize=20)\n",
    "    ax.set_xticklabels(ax.get_xticklabels(), rotation=45, horizontalalignment='right')\n",
    "\n",
    "    \n",
    "def plotLabelPerPeriodDEBUG(startYear, topPlot):\n",
    "    print(startYear)\n",
    "    print(topPlot)\n",
    "\n",
    "\n",
    "print(\"defined\")\n",
    "    \n",
    "START_YEAR = 2002\n",
    "TOPPLOT = 10\n",
    "\n",
    "# plotLabelPerPeriod(START_YEAR, TOPPLOT)\n",
    "\n",
    "startYearWidget= widgets.IntSlider(\n",
    "    value=2002,\n",
    "    min=2002,\n",
    "    max=2019,\n",
    "    step=2,\n",
    "    description='Period:',\n",
    "    disabled=False,\n",
    "    continuous_update=False,\n",
    "    orientation='horizontal',\n",
    "    readout=True,\n",
    "    readout_format='d'\n",
    ")\n",
    "\n",
    "topPlotWidget= widgets.IntSlider(\n",
    "    value=10,\n",
    "    min=10,\n",
    "    max=40,\n",
    "    step=5,\n",
    "    description='#terms',\n",
    "    disabled=False,\n",
    "    continuous_update=False,\n",
    "    orientation='horizontal',\n",
    "    readout=True,\n",
    "    readout_format='d'\n",
    ")\n",
    "\n",
    "\n",
    "# interact(plotLabelPerPeriodDEBUG, startYear=startYearWidget, topPlot=topPlotWidget);\n",
    "interact(plotLabelPerPeriod, startYear=startYearWidget, topPlot=topPlotWidget);\n"
   ]
  },
  {
   "cell_type": "code",
   "execution_count": 59,
   "metadata": {},
   "outputs": [
    {
     "name": "stdout",
     "output_type": "stream",
     "text": [
      "+---------+\n",
      "|   period|\n",
      "+---------+\n",
      "|2002-2004|\n",
      "|2004-2006|\n",
      "|2006-2008|\n",
      "|2008-2010|\n",
      "|2010-2012|\n",
      "|2012-2014|\n",
      "|2014-2016|\n",
      "|2016-2018|\n",
      "|2018-2019|\n",
      "+---------+\n",
      "\n"
     ]
    }
   ],
   "source": [
    "period = spark.sql(\"\"\"\n",
    "select distinct period\n",
    "from topicPeriod\n",
    "order by period\n",
    "\"\"\")\n",
    "period.show()\n"
   ]
  },
  {
   "cell_type": "code",
   "execution_count": null,
   "metadata": {},
   "outputs": [],
   "source": []
  },
  {
   "cell_type": "code",
   "execution_count": null,
   "metadata": {},
   "outputs": [],
   "source": []
  }
 ],
 "metadata": {
  "kernelspec": {
   "display_name": "Python 3",
   "language": "python",
   "name": "python3"
  },
  "language_info": {
   "codemirror_mode": {
    "name": "ipython",
    "version": 3
   },
   "file_extension": ".py",
   "mimetype": "text/x-python",
   "name": "python",
   "nbconvert_exporter": "python",
   "pygments_lexer": "ipython3",
   "version": "3.7.6"
  }
 },
 "nbformat": 4,
 "nbformat_minor": 4
}
