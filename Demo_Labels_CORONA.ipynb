{
 "cells": [
  {
   "cell_type": "markdown",
   "metadata": {},
   "source": [
    "# Demonstrate labels"
   ]
  },
  {
   "cell_type": "markdown",
   "metadata": {},
   "source": [
    "#### Call preparation"
   ]
  },
  {
   "cell_type": "code",
   "execution_count": 104,
   "metadata": {},
   "outputs": [],
   "source": [
    "# open the notebook Demo_Preparation.ipynb \n",
    "# and select \"use kernet from prefered Session\""
   ]
  },
  {
   "cell_type": "markdown",
   "metadata": {},
   "source": [
    "### Datasets"
   ]
  },
  {
   "cell_type": "code",
   "execution_count": 105,
   "metadata": {},
   "outputs": [
    {
     "name": "stdout",
     "output_type": "stream",
     "text": [
      "root\n",
      " |-- Ti: long (nullable = true)\n",
      " |-- stable: array (nullable = true)\n",
      " |    |-- element: string (containsNull = true)\n",
      " |-- emerging: array (nullable = true)\n",
      " |    |-- element: string (containsNull = true)\n",
      " |-- decaying: array (nullable = true)\n",
      " |    |-- element: string (containsNull = true)\n",
      " |-- specific: array (nullable = true)\n",
      " |    |-- element: string (containsNull = true)\n",
      "\n"
     ]
    }
   ],
   "source": [
    "labels.printSchema()"
   ]
  },
  {
   "cell_type": "code",
   "execution_count": 106,
   "metadata": {},
   "outputs": [
    {
     "name": "stdout",
     "output_type": "stream",
     "text": [
      "root\n",
      " |-- period: string (nullable = true)\n",
      " |-- idTopic: long (nullable = true)\n",
      " |-- localTopicId: long (nullable = true)\n",
      " |-- term: integer (nullable = true)\n",
      " |-- weight: double (nullable = true)\n",
      "\n"
     ]
    }
   ],
   "source": [
    "topicNodes.printSchema()"
   ]
  },
  {
   "cell_type": "code",
   "execution_count": 107,
   "metadata": {},
   "outputs": [
    {
     "name": "stdout",
     "output_type": "stream",
     "text": [
      "root\n",
      " |-- idTopic: long (nullable = true)\n",
      " |-- topic: array (nullable = true)\n",
      " |    |-- element: string (containsNull = true)\n",
      "\n"
     ]
    }
   ],
   "source": [
    "topicDictionary_unique_10.printSchema()"
   ]
  },
  {
   "cell_type": "markdown",
   "metadata": {},
   "source": [
    "#### Topic period"
   ]
  },
  {
   "cell_type": "code",
   "execution_count": 108,
   "metadata": {},
   "outputs": [
    {
     "name": "stdout",
     "output_type": "stream",
     "text": [
      "+-------+---------+\n",
      "|idTopic|   period|\n",
      "+-------+---------+\n",
      "|    644|2014-2016|\n",
      "|    228|2004-2006|\n",
      "+-------+---------+\n",
      "only showing top 2 rows\n",
      "\n"
     ]
    }
   ],
   "source": [
    "topicNodes.createOrReplaceTempView(\"TopicNodesTable\")\n",
    "\n",
    "topicPeriod = spark.sql(\"\"\"\n",
    "select distinct idTopic, period\n",
    "from TopicNodesTable\n",
    "\"\"\")\n",
    "topicPeriod.show(2)"
   ]
  },
  {
   "cell_type": "markdown",
   "metadata": {},
   "source": [
    "#### Datasets as SQL views"
   ]
  },
  {
   "cell_type": "code",
   "execution_count": 109,
   "metadata": {},
   "outputs": [],
   "source": [
    "labels.createOrReplaceTempView(\"labels\")\n",
    "topicNodes.createOrReplaceTempView(\"topicNodes\")\n",
    "topicDictionary_unique_10.createOrReplaceTempView(\"topicDictionary_unique_10\")\n",
    "topicPeriod.createOrReplaceTempView(\"topicPeriod\")"
   ]
  },
  {
   "cell_type": "markdown",
   "metadata": {},
   "source": [
    "#### Term frequency in labels"
   ]
  },
  {
   "cell_type": "code",
   "execution_count": 110,
   "metadata": {},
   "outputs": [
    {
     "name": "stdout",
     "output_type": "stream",
     "text": [
      "+----------+----+----+\n",
      "|      term|freq|rank|\n",
      "+----------+----+----+\n",
      "|      time|  39|   1|\n",
      "|       due|  35|   2|\n",
      "|      data|  34|   3|\n",
      "| collected|  30|   4|\n",
      "|     years|  30|   5|\n",
      "|   methods|  29|   6|\n",
      "|    humans|  27|   7|\n",
      "|conclusion|  26|   8|\n",
      "|     order|  26|   9|\n",
      "|  analysis|  25|  10|\n",
      "+----------+----+----+\n",
      "only showing top 10 rows\n",
      "\n"
     ]
    }
   ],
   "source": [
    "TOP = 50\n",
    "\n",
    "freqLabels = spark.sql(f\"\"\"\n",
    "with T1 as (\n",
    "  select explode(T.topic) as term\n",
    "  from TopicDictionary_unique_10 T\n",
    "  )\n",
    "  \n",
    "select term, count(1) as freq, rank() over (order by count(*) desc, term) as rank\n",
    "from T1\n",
    "group by term\n",
    "order by rank\n",
    "limit {TOP}\n",
    "\"\"\")\n",
    "freqLabels.persist().count()\n",
    "# freqLabels.show(TOP)\n",
    "freqLabels.show(10)"
   ]
  },
  {
   "cell_type": "markdown",
   "metadata": {},
   "source": [
    "#### Label frequency for each period"
   ]
  },
  {
   "cell_type": "code",
   "execution_count": 111,
   "metadata": {},
   "outputs": [
    {
     "name": "stdout",
     "output_type": "stream",
     "text": [
      "+---------+----+-----------+----+\n",
      "|   period|rank|       term|freq|\n",
      "+---------+----+-----------+----+\n",
      "|2000-2002|   1|       time|   1|\n",
      "|2000-2002|   2|        due|   2|\n",
      "|2000-2002|   3|       data|   1|\n",
      "|2000-2002|   4|  collected|   2|\n",
      "|2000-2002|   5|      years|   3|\n",
      "|2000-2002|   7|     humans|   1|\n",
      "|2000-2002|   8| conclusion|   2|\n",
      "|2000-2002|   9|      order|   2|\n",
      "|2000-2002|  10|   analysis|   1|\n",
      "|2000-2002|  12|development|   2|\n",
      "|2000-2002|  13|  detection|   1|\n",
      "|2000-2002|  14| expression|   4|\n",
      "|2000-2002|  15|    inhibit|   2|\n",
      "|2000-2002|  16|       risk|   1|\n",
      "|2000-2002|  17|      cells|   4|\n",
      "|2000-2002|  18|coronavirus|   3|\n",
      "|2000-2002|  19|       days|   4|\n",
      "|2000-2002|  20|       logp|  21|\n",
      "|2000-2002|  21|        opt|  21|\n",
      "|2000-2002|  22|    samples|   2|\n",
      "+---------+----+-----------+----+\n",
      "only showing top 20 rows\n",
      "\n"
     ]
    }
   ],
   "source": [
    "freqLabels.createOrReplaceTempView(\"freqLabels\")\n",
    "\n",
    "labelPerPeriod = spark.sql(\"\"\"\n",
    "with T1 as (\n",
    "  select T.idTopic, explode(T.topic) as term\n",
    "  from TopicDictionary_unique_10 T\n",
    "  )\n",
    "\n",
    "SELECT P.period, L.rank, L.term, count(1) as freq\n",
    "FROM FreqLabels L, T1, topicPeriod P\n",
    "WHERE T1.term = L.term \n",
    "AND T1.idTopic = P.idTopic\n",
    "GROUP BY P.period, L.term, L.rank\n",
    "order by P.period, L.rank\n",
    "\"\"\")\n",
    "\n",
    "labelPerPeriod.persist().count()\n",
    "\n",
    "labelPerPeriod.show()"
   ]
  },
  {
   "cell_type": "markdown",
   "metadata": {},
   "source": [
    "#### Frequent terms for a given period"
   ]
  },
  {
   "cell_type": "code",
   "execution_count": 112,
   "metadata": {},
   "outputs": [
    {
     "data": {
      "image/png": "[encoded data removed]",
      "text/plain": [
       "<Figure size 1440x504 with 1 Axes>"
      ]
     },
     "metadata": {
      "needs_background": "light"
     },
     "output_type": "display_data"
    }
   ],
   "source": [
    "labelPerPeriod.createOrReplaceTempView(\"labelPerPeriod\")\n",
    "\n",
    "STARTING_YEAR = 2000\n",
    "\n",
    "TOPPLOT = 20\n",
    "\n",
    "period = str(STARTING_YEAR) + '-' + str(STARTING_YEAR+2)\n",
    "\n",
    "labelOnePeriod = spark.sql(f\"\"\"\n",
    "select term, freq\n",
    "from labelPerPeriod\n",
    "where period = '{period}'\n",
    "order by rank\n",
    "\"\"\")\n",
    "# labelOnePeriod.show()\n",
    "\n",
    "p = labelOnePeriod.toPandas()\n",
    "# p.head(2)\n",
    "\n",
    "sns.set_context(\"paper\", rc={\"axes.labelsize\":25})   \n",
    "plt.figure(figsize=(20,7))\n",
    "\n",
    "# set a fixed range for the y axis\n",
    "plt.ylim(0,6)\n",
    "\n",
    "ax = sns.barplot(x=\"term\", y=\"freq\",  data=p[:TOPPLOT])\n",
    "\n",
    "# size of values on axes\n",
    "ax.tick_params(labelsize=20)\n",
    "\n",
    "ax.set_xticklabels(ax.get_xticklabels(), rotation=45, horizontalalignment='right');\n"
   ]
  },
  {
   "cell_type": "markdown",
   "metadata": {},
   "source": [
    "#### Frequent terms for 2 periods"
   ]
  },
  {
   "cell_type": "code",
   "execution_count": 113,
   "metadata": {},
   "outputs": [
    {
     "data": {
      "text/html": [
       "<div>\n",
       "<style scoped>\n",
       "    .dataframe tbody tr th:only-of-type {\n",
       "        vertical-align: middle;\n",
       "    }\n",
       "\n",
       "    .dataframe tbody tr th {\n",
       "        vertical-align: top;\n",
       "    }\n",
       "\n",
       "    .dataframe thead th {\n",
       "        text-align: right;\n",
       "    }\n",
       "</style>\n",
       "<table border=\"1\" class=\"dataframe\">\n",
       "  <thead>\n",
       "    <tr style=\"text-align: right;\">\n",
       "      <th></th>\n",
       "      <th>period</th>\n",
       "      <th>rank</th>\n",
       "      <th>term</th>\n",
       "      <th>freq</th>\n",
       "    </tr>\n",
       "  </thead>\n",
       "  <tbody>\n",
       "    <tr>\n",
       "      <th>0</th>\n",
       "      <td>2000-2002</td>\n",
       "      <td>1</td>\n",
       "      <td>time</td>\n",
       "      <td>1</td>\n",
       "    </tr>\n",
       "    <tr>\n",
       "      <th>1</th>\n",
       "      <td>2000-2002</td>\n",
       "      <td>2</td>\n",
       "      <td>due</td>\n",
       "      <td>2</td>\n",
       "    </tr>\n",
       "    <tr>\n",
       "      <th>2</th>\n",
       "      <td>2000-2002</td>\n",
       "      <td>3</td>\n",
       "      <td>data</td>\n",
       "      <td>1</td>\n",
       "    </tr>\n",
       "    <tr>\n",
       "      <th>3</th>\n",
       "      <td>2000-2002</td>\n",
       "      <td>4</td>\n",
       "      <td>collected</td>\n",
       "      <td>2</td>\n",
       "    </tr>\n",
       "    <tr>\n",
       "      <th>4</th>\n",
       "      <td>2000-2002</td>\n",
       "      <td>5</td>\n",
       "      <td>years</td>\n",
       "      <td>3</td>\n",
       "    </tr>\n",
       "    <tr>\n",
       "      <th>5</th>\n",
       "      <td>2000-2002</td>\n",
       "      <td>7</td>\n",
       "      <td>humans</td>\n",
       "      <td>1</td>\n",
       "    </tr>\n",
       "    <tr>\n",
       "      <th>6</th>\n",
       "      <td>2000-2002</td>\n",
       "      <td>8</td>\n",
       "      <td>conclusion</td>\n",
       "      <td>2</td>\n",
       "    </tr>\n",
       "    <tr>\n",
       "      <th>7</th>\n",
       "      <td>2000-2002</td>\n",
       "      <td>9</td>\n",
       "      <td>order</td>\n",
       "      <td>2</td>\n",
       "    </tr>\n",
       "    <tr>\n",
       "      <th>8</th>\n",
       "      <td>2000-2002</td>\n",
       "      <td>10</td>\n",
       "      <td>analysis</td>\n",
       "      <td>1</td>\n",
       "    </tr>\n",
       "    <tr>\n",
       "      <th>9</th>\n",
       "      <td>2000-2002</td>\n",
       "      <td>12</td>\n",
       "      <td>development</td>\n",
       "      <td>2</td>\n",
       "    </tr>\n",
       "  </tbody>\n",
       "</table>\n",
       "</div>"
      ],
      "text/plain": [
       "      period  rank         term  freq\n",
       "0  2000-2002     1         time     1\n",
       "1  2000-2002     2          due     2\n",
       "2  2000-2002     3         data     1\n",
       "3  2000-2002     4    collected     2\n",
       "4  2000-2002     5        years     3\n",
       "5  2000-2002     7       humans     1\n",
       "6  2000-2002     8   conclusion     2\n",
       "7  2000-2002     9        order     2\n",
       "8  2000-2002    10     analysis     1\n",
       "9  2000-2002    12  development     2"
      ]
     },
     "execution_count": 113,
     "metadata": {},
     "output_type": "execute_result"
    }
   ],
   "source": [
    "L = labelPerPeriod.toPandas()\n",
    "L.head(10)"
   ]
  },
  {
   "cell_type": "code",
   "execution_count": 114,
   "metadata": {},
   "outputs": [
    {
     "data": {
      "text/plain": [
       "<Figure size 1440x504 with 0 Axes>"
      ]
     },
     "metadata": {},
     "output_type": "display_data"
    },
    {
     "data": {
      "text/plain": [
       "<Figure size 1440x504 with 0 Axes>"
      ]
     },
     "metadata": {},
     "output_type": "display_data"
    },
    {
     "data": {
      "image/png": "[encoded data removed]",
      "text/plain": [
       "<Figure size 432x288 with 2 Axes>"
      ]
     },
     "metadata": {
      "needs_background": "light"
     },
     "output_type": "display_data"
    }
   ],
   "source": [
    "L1 = L[L.period=='2000-2002']\n",
    "L2 = L[L.period=='2002-2004']\n",
    "\n",
    "all = [L1, L2]\n",
    "\n",
    "# TOPPLOT = 20\n",
    "\n",
    "\n",
    "sns.set_context(\"paper\", rc={\"axes.labelsize\":20})   \n",
    "plt.figure(figsize=(20,7))\n",
    "\n",
    "# set a fixed range for the y axis\n",
    "plt.ylim(0,6)\n",
    "\n",
    "# size of values on axes\n",
    "ax.tick_params(labelsize=20)\n",
    "\n",
    "plt.clf()\n",
    "plt.figure(figsize=(20,7))\n",
    "fig, axs = plt.subplots(2,1)\n",
    "for i in range(0, 2):\n",
    "    axs[i].set_xticklabels(ax.get_xticklabels(), rotation=45, horizontalalignment='right');\n",
    "    sns.barplot(x=\"term\", y=\"freq\",  data=all[i][:10], ax=axs[i])\n"
   ]
  },
  {
   "cell_type": "markdown",
   "metadata": {},
   "source": [
    "## Interaction"
   ]
  },
  {
   "cell_type": "code",
   "execution_count": 115,
   "metadata": {},
   "outputs": [],
   "source": [
    "# interaction\n",
    "from __future__ import print_function\n",
    "from ipywidgets import interact, interactive, fixed, interact_manual\n",
    "import ipywidgets as widgets"
   ]
  },
  {
   "cell_type": "code",
   "execution_count": 116,
   "metadata": {},
   "outputs": [
    {
     "data": {
      "application/vnd.jupyter.widget-view+json": {
       "model_id": "e39fb8d2ff7248cc94e6c4f1e8bf7787",
       "version_major": 2,
       "version_minor": 0
      },
      "text/plain": [
       "Text(value='abc')"
      ]
     },
     "metadata": {},
     "output_type": "display_data"
    }
   ],
   "source": [
    "widgets.Text(\"abc\")"
   ]
  },
  {
   "cell_type": "markdown",
   "metadata": {},
   "source": [
    "##### Verify GUI for interaction"
   ]
  },
  {
   "cell_type": "code",
   "execution_count": 117,
   "metadata": {
    "scrolled": true
   },
   "outputs": [],
   "source": [
    "def f(x):\n",
    "    return x*10"
   ]
  },
  {
   "cell_type": "code",
   "execution_count": 118,
   "metadata": {
    "scrolled": true
   },
   "outputs": [
    {
     "data": {
      "text/plain": [
       "100"
      ]
     },
     "metadata": {},
     "output_type": "display_data"
    }
   ],
   "source": [
    "# from __future__ import print_function\n",
    "# interact(f,x=10);\n",
    "interact(f, x=widgets.IntSlider(min=-10, max=30, step=1, value=10));"
   ]
  },
  {
   "cell_type": "code",
   "execution_count": 119,
   "metadata": {},
   "outputs": [
    {
     "data": {
      "application/vnd.jupyter.widget-view+json": {
       "model_id": "d96a8bf759fa497ca5151e176a8dd48e",
       "version_major": 2,
       "version_minor": 0
      },
      "text/plain": [
       "IntSlider(value=0)"
      ]
     },
     "metadata": {},
     "output_type": "display_data"
    },
    {
     "data": {
      "application/vnd.jupyter.widget-view+json": {
       "model_id": "dd030087599e4c1bb007006717f65dd8",
       "version_major": 2,
       "version_minor": 0
      },
      "text/plain": [
       "Output(layout=Layout(border='1px solid black'))"
      ]
     },
     "metadata": {},
     "output_type": "display_data"
    }
   ],
   "source": [
    "out = widgets.Output(layout={'border': '1px solid black'})\n",
    "with out:\n",
    "    display(widgets.IntSlider())\n",
    "\n",
    "out"
   ]
  },
  {
   "cell_type": "code",
   "execution_count": 120,
   "metadata": {},
   "outputs": [
    {
     "data": {
      "image/png": "[encoded data removed]",
      "text/plain": [
       "<Figure size 1440x504 with 1 Axes>"
      ]
     },
     "metadata": {
      "needs_background": "light"
     },
     "output_type": "display_data"
    }
   ],
   "source": [
    "def plotLabelPerPeriod(startYear, topPlot):\n",
    "    \n",
    "    labelPerPeriod.createOrReplaceTempView(\"labelPerPeriod\")\n",
    "\n",
    "    period = str(startYear) + '-' + str(startYear+2)\n",
    "\n",
    "    labelOnePeriod = spark.sql(f\"\"\"\n",
    "    select term, freq\n",
    "    from labelPerPeriod\n",
    "    where period = '{period}'\n",
    "    order by rank\n",
    "    \"\"\")\n",
    "\n",
    "    p = labelOnePeriod.toPandas()\n",
    "    \n",
    "    sns.set_context(\"paper\", rc={\"axes.labelsize\":20})   \n",
    "    plt.figure(figsize=(20,7))\n",
    "    plt.ylim(0,6)\n",
    "    ax = sns.barplot(x=\"term\", y=\"freq\",  data=p[:topPlot])\n",
    "    \n",
    "    # taille des valeurs sur les axes\n",
    "    ax.tick_params(labelsize=20)\n",
    "    ax.set_xticklabels(ax.get_xticklabels(), rotation=45, horizontalalignment='right')\n",
    "\n",
    "    \n",
    "def plotLabelPerPeriodDEBUG(startYear, topPlot):\n",
    "    print(startYear)\n",
    "    print(topPlot)\n",
    "\n",
    "\n",
    "print(\"defined\")\n",
    "    \n",
    "START_YEAR = 2002\n",
    "TOPPLOT = 10\n",
    "\n",
    "# plotLabelPerPeriod(START_YEAR, TOPPLOT)\n",
    "\n",
    "startYearWidget= widgets.IntSlider(\n",
    "    value=2000,\n",
    "    min=2000,\n",
    "    max=2020,\n",
    "    step=2,\n",
    "    description='Period:',\n",
    "    disabled=False,\n",
    "    continuous_update=False,\n",
    "    orientation='horizontal',\n",
    "    readout=True,\n",
    "    readout_format='d'\n",
    ")\n",
    "\n",
    "topPlotWidget= widgets.IntSlider(\n",
    "    value=10,\n",
    "    min=10,\n",
    "    max=40,\n",
    "    step=5,\n",
    "    description='#terms',\n",
    "    disabled=False,\n",
    "    continuous_update=False,\n",
    "    orientation='horizontal',\n",
    "    readout=True,\n",
    "    readout_format='d'\n",
    ")\n",
    "\n",
    "\n",
    "# interact(plotLabelPerPeriodDEBUG, startYear=startYearWidget, topPlot=topPlotWidget);\n",
    "interact(plotLabelPerPeriod, startYear=startYearWidget, topPlot=topPlotWidget);\n"
   ]
  },
  {
   "cell_type": "code",
   "execution_count": 121,
   "metadata": {},
   "outputs": [
    {
     "name": "stdout",
     "output_type": "stream",
     "text": [
      "+---------+\n",
      "|   period|\n",
      "+---------+\n",
      "|2000-2002|\n",
      "|2002-2004|\n",
      "|2004-2006|\n",
      "|2006-2008|\n",
      "|2008-2010|\n",
      "|2010-2012|\n",
      "|2012-2014|\n",
      "|2014-2016|\n",
      "|2016-2018|\n",
      "|2018-2020|\n",
      "+---------+\n",
      "\n"
     ]
    }
   ],
   "source": [
    "period = spark.sql(\"\"\"\n",
    "select distinct period\n",
    "from topicPeriod\n",
    "order by period\n",
    "\"\"\")\n",
    "period.show()\n"
   ]
  },
  {
   "cell_type": "code",
   "execution_count": null,
   "metadata": {},
   "outputs": [],
   "source": []
  },
  {
   "cell_type": "code",
   "execution_count": null,
   "metadata": {},
   "outputs": [],
   "source": []
  }
 ],
 "metadata": {
  "kernelspec": {
   "display_name": "Python 3",
   "language": "python",
   "name": "python3"
  },
  "language_info": {
   "codemirror_mode": {
    "name": "ipython",
    "version": 3
   },
   "file_extension": ".py",
   "mimetype": "text/x-python",
   "name": "python",
   "nbconvert_exporter": "python",
   "pygments_lexer": "ipython3",
   "version": "3.7.6"
  }
 },
 "nbformat": 4,
 "nbformat_minor": 4
}
